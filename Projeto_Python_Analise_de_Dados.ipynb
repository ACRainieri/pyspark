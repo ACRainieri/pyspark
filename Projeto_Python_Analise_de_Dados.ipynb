{
  "cells": [
    {
      "cell_type": "markdown",
      "metadata": {
        "id": "view-in-github",
        "colab_type": "text"
      },
      "source": [
        "<a href=\"https://colab.research.google.com/github/ACRainieri/pyspark/blob/main/Projeto_Python_Analise_de_Dados.ipynb\" target=\"_parent\"><img src=\"https://colab.research.google.com/assets/colab-badge.svg\" alt=\"Open In Colab\"/></a>"
      ]
    },
    {
      "cell_type": "code",
      "source": [
        "import urllib.request\n",
        "\n",
        "with urllib.request.urlopen(\"https://www.cifraclub.com.br/van-halen/cant-stop-lovin-you/\") as url:\n",
        "  page = url.read()\n",
        "\n",
        "from bs4 import BeautifulSoup\n",
        "\n",
        "soup  = BeautifulSoup(page, \"html.parser\")\n",
        "\n",
        "print(soup.title.string)\n",
        "print(soup)\n",
        "\n",
        "#print(soup.string_container)\n",
        "#print(soup.find_all('a'))\n",
        "\n",
        "#tables = soup.find('tables')\n"
      ],
      "metadata": {
        "id": "7-AZ4j7OHUME"
      },
      "execution_count": null,
      "outputs": []
    },
    {
      "cell_type": "markdown",
      "source": [
        "Importando dados de pagina Web"
      ],
      "metadata": {
        "id": "oxh7wF2FEyyX"
      }
    },
    {
      "cell_type": "code",
      "source": [
        "import pandas as pd\n",
        "import requests \n",
        "from bs4 import BeautifulSoup\n",
        "from tabulate import tabulate\n",
        "\n",
        "res = requests.get(\"https://www.nationmaster.com/country-info/stats/Media/Internet-users\")\n",
        "\n",
        "soup = BeautifulSoup(res.content, 'lxml')\n",
        "\n",
        "#Extrair a tabela html\n",
        "table = soup.find_all('table')[0]\n",
        "\n",
        "#Converter a tabela HTML em um framework pandas\n",
        "df = pd.read_html(str(table))\n",
        "\n",
        "print(df)\n",
        "\n",
        "\n",
        "#Convert para formato Json\n",
        "print(df[0].to_json(orient='records'))\n",
        "\n",
        "print('\\nTabela formatada por pandas/tabulate:\\n')\n",
        "print(tabulate(df[0], headers='keys', tablefmt='psql'))"
      ],
      "metadata": {
        "id": "l4RTF1OXE3L2"
      },
      "execution_count": null,
      "outputs": []
    },
    {
      "cell_type": "markdown",
      "source": [],
      "metadata": {
        "id": "NrVkBX5cQF2P"
      }
    },
    {
      "cell_type": "markdown",
      "source": [
        "Pandas - Series"
      ],
      "metadata": {
        "id": "3a7WOSe-Lo5E"
      }
    },
    {
      "cell_type": "code",
      "source": [
        "from pandas import Series\n",
        "import pandas as pd\n",
        "\n",
        "a = [1, 7,  5, 77, -4]\n",
        "\n",
        "myvar = pd.Series(a)\n",
        "\n",
        "print(myvar)\n",
        "\n",
        "pd.isnull(myvar)\n",
        "\n"
      ],
      "metadata": {
        "colab": {
          "base_uri": "https://localhost:8080/"
        },
        "id": "ebOKNX9BLqJK",
        "outputId": "0de68537-f2a6-44f9-b786-0ee5c9617296"
      },
      "execution_count": null,
      "outputs": [
        {
          "output_type": "stream",
          "name": "stdout",
          "text": [
            "0     1\n",
            "1     7\n",
            "2     5\n",
            "3    77\n",
            "4    -4\n",
            "dtype: int64\n"
          ]
        },
        {
          "output_type": "execute_result",
          "data": {
            "text/plain": [
              "0    False\n",
              "1    False\n",
              "2    False\n",
              "3    False\n",
              "4    False\n",
              "dtype: bool"
            ]
          },
          "metadata": {},
          "execution_count": 3
        }
      ]
    },
    {
      "cell_type": "markdown",
      "source": [
        "Pandas - Dataframe"
      ],
      "metadata": {
        "id": "pmg8fResOotU"
      }
    },
    {
      "cell_type": "code",
      "source": [
        "from pandas import DataFrame\n",
        "\n",
        "dict = {'Estado': ['Santa Catarina', 'Paraná', 'Goias', 'Maranhao', 'Piaui'],\n",
        "        'Ano': [1980, 1990, 2000, 2010, 2020, ],\n",
        "        'Populacao': [1.1, 1.2, 1.3, 1.4, 2.0]\n",
        "}\n",
        "\n",
        "df = DataFrame(dict)\n",
        "\n",
        "print(df)\n",
        "\n",
        "type(df)\n",
        "\n",
        "#Eh possivel definir o nome das colunas\n",
        "df = DataFrame(dict, columns=['Ano', 'Estado', 'Populacao'])\n",
        "\n",
        "print(df)\n",
        "\n",
        "\n"
      ],
      "metadata": {
        "colab": {
          "base_uri": "https://localhost:8080/"
        },
        "id": "gTxIpPIXOqZC",
        "outputId": "8ef8cc37-a78a-4f8e-fcd7-a142f1bc96d7"
      },
      "execution_count": null,
      "outputs": [
        {
          "output_type": "stream",
          "name": "stdout",
          "text": [
            "           Estado   Ano  Populacao\n",
            "0  Santa Catarina  1980        1.1\n",
            "1          Paraná  1990        1.2\n",
            "2           Goias  2000        1.3\n",
            "3        Maranhao  2010        1.4\n",
            "4           Piaui  2020        2.0\n",
            "    Ano          Estado  Populacao\n",
            "0  1980  Santa Catarina        1.1\n",
            "1  1990          Paraná        1.2\n",
            "2  2000           Goias        1.3\n",
            "3  2010        Maranhao        1.4\n",
            "4  2020           Piaui        2.0\n"
          ]
        }
      ]
    },
    {
      "cell_type": "code",
      "source": [
        "#Filtrar pelo campo Estado\n",
        "print(df['Estado'])\n",
        "print('\\n')\n",
        "print(df.index)\n",
        "print('\\n')\n",
        "\n",
        "#Listar os dados\n",
        "df.values\n",
        "\n",
        "#Faz chamado pelo nome do campo\n",
        "df.Ano"
      ],
      "metadata": {
        "id": "1zGWCCXEQ2ig"
      },
      "execution_count": null,
      "outputs": []
    },
    {
      "cell_type": "markdown",
      "source": [
        "Preenchendo um campo com dados"
      ],
      "metadata": {
        "id": "lfk8V-PASKQ3"
      }
    },
    {
      "cell_type": "code",
      "source": [
        "dict = {'Estado': ['Santa Catarina', 'Paraná', 'Goias', 'Maranhao', 'Piaui'],\n",
        "        'Ano': [1980, 1990, 2000, 2010, 2020, ],\n",
        "        'Populacao': [1.1, 1.2, 1.3, 1.4, 2.0]\n",
        "}\n",
        "\n",
        "\n",
        "#Adicionando o nome de uma coluna\n",
        "df2 = DataFrame(dict, columns=['Ano', 'Estado', 'Populacao', 'Debito'],\n",
        "                index =['um', 'dois', 'tres', 'quatro', 'cinco'])\n",
        "\n",
        "\n",
        "\n",
        "import numpy as np\n",
        "\n",
        "#Preenchendo coluna com dados\n",
        "df2['Debito'] = np.arange(5.) #5 é exclusivo\n",
        "\n",
        "print(df2)\n",
        "\n",
        "\n",
        "print('\\n')\n",
        "\n",
        "#O metodo describe() retorna uma estatistica do seu Dataframe.\n",
        "print(df2.describe())\n",
        "\n",
        "\n",
        "#Como localizar os dados por indice\n",
        "print('\\nComo localizar os dados por indice...')\n",
        "\n",
        "print(df2.loc['tres'])"
      ],
      "metadata": {
        "id": "_SFxo0ngSNPN"
      },
      "execution_count": null,
      "outputs": []
    },
    {
      "cell_type": "markdown",
      "source": [
        "Tensor Flow"
      ],
      "metadata": {
        "id": "qnFxw1aDfJTS"
      }
    },
    {
      "cell_type": "code",
      "source": [
        "import tensorflow as tf\n",
        "import numpy as np\n",
        "import pandas as pd\n",
        "\n",
        "import matplotlib as plt\n",
        "import seaborn as sns\n",
        "\n",
        "from tensorflow import keras\n",
        "from tensorflow.keras import layers\n",
        "\n",
        "print(tf.__version__ + \"\\n\")\n",
        "\n",
        "hello = tf.constant(\"Hello Tensor Flow\")\n",
        "\n",
        "print(hello)"
      ],
      "metadata": {
        "colab": {
          "base_uri": "https://localhost:8080/"
        },
        "id": "MB4uTTy0fLC4",
        "outputId": "70bbcbbb-c301-4375-e74d-dfb59d59df09"
      },
      "execution_count": 7,
      "outputs": [
        {
          "output_type": "stream",
          "name": "stdout",
          "text": [
            "2.9.2\n",
            "\n",
            "tf.Tensor(b'Hello Tensor Flow', shape=(), dtype=string)\n"
          ]
        }
      ]
    },
    {
      "cell_type": "markdown",
      "source": [],
      "metadata": {
        "id": "IGL4vPIT7H_E"
      }
    },
    {
      "cell_type": "markdown",
      "source": [
        "Download dos dados"
      ],
      "metadata": {
        "id": "NoLh7vdyvyZo"
      }
    },
    {
      "cell_type": "code",
      "source": [
        "# Download dos dados\n",
        "import ssl\n",
        "ssl._create_default_https_context = ssl._create_unverified_context\n",
        "dataset_path = keras.utils.get_file(\"housing.data\", \"https://archive.ics.uci.edu/ml/machine-learning-databases/housing/housing.data\")\n",
        "\n",
        "\n",
        "# Nomes das colunas\n",
        "nomes_colunas = ['CRIM',\n",
        "                 'ZN',\n",
        "                 'INDUS',\n",
        "                 'CHAS',\n",
        "                 'NOX',\n",
        "                 'RM', \n",
        "                 'AGE', \n",
        "                 'DIS',\n",
        "                 'RAD',\n",
        "                 'TAX',\n",
        "                 'PTRATION', \n",
        "                 'B', \n",
        "                 'LSTAT', \n",
        "                 'MEDV']\n",
        "\n",
        "\n",
        "# Carrega os dados\n",
        "dataset = pd.read_csv(dataset_path, \n",
        "                      names = nomes_colunas,\n",
        "                      na_values = \"?\", \n",
        "                      comment = '\\t',\n",
        "                      sep = \" \", \n",
        "                      skipinitialspace = True)\n",
        "\n",
        "\n",
        "# Shape - tamanho das linhas e colunas\n",
        "print(dataset.shape)\n",
        "print(\"\\n\")\n",
        "\n",
        "# Visualiza os dados\n",
        "dataset.head()\n",
        "\n"
      ],
      "metadata": {
        "colab": {
          "base_uri": "https://localhost:8080/",
          "height": 258
        },
        "id": "DR8hzMKqvz30",
        "outputId": "5bafab53-7621-4ddd-fd6b-2ad167aee3cd"
      },
      "execution_count": 13,
      "outputs": [
        {
          "output_type": "stream",
          "name": "stdout",
          "text": [
            "(506, 14)\n",
            "\n",
            "\n"
          ]
        },
        {
          "output_type": "execute_result",
          "data": {
            "text/plain": [
              "      CRIM    ZN  INDUS  CHAS    NOX     RM   AGE     DIS  RAD    TAX  \\\n",
              "0  0.00632  18.0   2.31     0  0.538  6.575  65.2  4.0900    1  296.0   \n",
              "1  0.02731   0.0   7.07     0  0.469  6.421  78.9  4.9671    2  242.0   \n",
              "2  0.02729   0.0   7.07     0  0.469  7.185  61.1  4.9671    2  242.0   \n",
              "3  0.03237   0.0   2.18     0  0.458  6.998  45.8  6.0622    3  222.0   \n",
              "4  0.06905   0.0   2.18     0  0.458  7.147  54.2  6.0622    3  222.0   \n",
              "\n",
              "   PTRATION       B  LSTAT  MEDV  \n",
              "0      15.3  396.90   4.98  24.0  \n",
              "1      17.8  396.90   9.14  21.6  \n",
              "2      17.8  392.83   4.03  34.7  \n",
              "3      18.7  394.63   2.94  33.4  \n",
              "4      18.7  396.90   5.33  36.2  "
            ],
            "text/html": [
              "\n",
              "  <div id=\"df-9225b87f-8693-4317-a31e-883f50602e2f\">\n",
              "    <div class=\"colab-df-container\">\n",
              "      <div>\n",
              "<style scoped>\n",
              "    .dataframe tbody tr th:only-of-type {\n",
              "        vertical-align: middle;\n",
              "    }\n",
              "\n",
              "    .dataframe tbody tr th {\n",
              "        vertical-align: top;\n",
              "    }\n",
              "\n",
              "    .dataframe thead th {\n",
              "        text-align: right;\n",
              "    }\n",
              "</style>\n",
              "<table border=\"1\" class=\"dataframe\">\n",
              "  <thead>\n",
              "    <tr style=\"text-align: right;\">\n",
              "      <th></th>\n",
              "      <th>CRIM</th>\n",
              "      <th>ZN</th>\n",
              "      <th>INDUS</th>\n",
              "      <th>CHAS</th>\n",
              "      <th>NOX</th>\n",
              "      <th>RM</th>\n",
              "      <th>AGE</th>\n",
              "      <th>DIS</th>\n",
              "      <th>RAD</th>\n",
              "      <th>TAX</th>\n",
              "      <th>PTRATION</th>\n",
              "      <th>B</th>\n",
              "      <th>LSTAT</th>\n",
              "      <th>MEDV</th>\n",
              "    </tr>\n",
              "  </thead>\n",
              "  <tbody>\n",
              "    <tr>\n",
              "      <th>0</th>\n",
              "      <td>0.00632</td>\n",
              "      <td>18.0</td>\n",
              "      <td>2.31</td>\n",
              "      <td>0</td>\n",
              "      <td>0.538</td>\n",
              "      <td>6.575</td>\n",
              "      <td>65.2</td>\n",
              "      <td>4.0900</td>\n",
              "      <td>1</td>\n",
              "      <td>296.0</td>\n",
              "      <td>15.3</td>\n",
              "      <td>396.90</td>\n",
              "      <td>4.98</td>\n",
              "      <td>24.0</td>\n",
              "    </tr>\n",
              "    <tr>\n",
              "      <th>1</th>\n",
              "      <td>0.02731</td>\n",
              "      <td>0.0</td>\n",
              "      <td>7.07</td>\n",
              "      <td>0</td>\n",
              "      <td>0.469</td>\n",
              "      <td>6.421</td>\n",
              "      <td>78.9</td>\n",
              "      <td>4.9671</td>\n",
              "      <td>2</td>\n",
              "      <td>242.0</td>\n",
              "      <td>17.8</td>\n",
              "      <td>396.90</td>\n",
              "      <td>9.14</td>\n",
              "      <td>21.6</td>\n",
              "    </tr>\n",
              "    <tr>\n",
              "      <th>2</th>\n",
              "      <td>0.02729</td>\n",
              "      <td>0.0</td>\n",
              "      <td>7.07</td>\n",
              "      <td>0</td>\n",
              "      <td>0.469</td>\n",
              "      <td>7.185</td>\n",
              "      <td>61.1</td>\n",
              "      <td>4.9671</td>\n",
              "      <td>2</td>\n",
              "      <td>242.0</td>\n",
              "      <td>17.8</td>\n",
              "      <td>392.83</td>\n",
              "      <td>4.03</td>\n",
              "      <td>34.7</td>\n",
              "    </tr>\n",
              "    <tr>\n",
              "      <th>3</th>\n",
              "      <td>0.03237</td>\n",
              "      <td>0.0</td>\n",
              "      <td>2.18</td>\n",
              "      <td>0</td>\n",
              "      <td>0.458</td>\n",
              "      <td>6.998</td>\n",
              "      <td>45.8</td>\n",
              "      <td>6.0622</td>\n",
              "      <td>3</td>\n",
              "      <td>222.0</td>\n",
              "      <td>18.7</td>\n",
              "      <td>394.63</td>\n",
              "      <td>2.94</td>\n",
              "      <td>33.4</td>\n",
              "    </tr>\n",
              "    <tr>\n",
              "      <th>4</th>\n",
              "      <td>0.06905</td>\n",
              "      <td>0.0</td>\n",
              "      <td>2.18</td>\n",
              "      <td>0</td>\n",
              "      <td>0.458</td>\n",
              "      <td>7.147</td>\n",
              "      <td>54.2</td>\n",
              "      <td>6.0622</td>\n",
              "      <td>3</td>\n",
              "      <td>222.0</td>\n",
              "      <td>18.7</td>\n",
              "      <td>396.90</td>\n",
              "      <td>5.33</td>\n",
              "      <td>36.2</td>\n",
              "    </tr>\n",
              "  </tbody>\n",
              "</table>\n",
              "</div>\n",
              "      <button class=\"colab-df-convert\" onclick=\"convertToInteractive('df-9225b87f-8693-4317-a31e-883f50602e2f')\"\n",
              "              title=\"Convert this dataframe to an interactive table.\"\n",
              "              style=\"display:none;\">\n",
              "        \n",
              "  <svg xmlns=\"http://www.w3.org/2000/svg\" height=\"24px\"viewBox=\"0 0 24 24\"\n",
              "       width=\"24px\">\n",
              "    <path d=\"M0 0h24v24H0V0z\" fill=\"none\"/>\n",
              "    <path d=\"M18.56 5.44l.94 2.06.94-2.06 2.06-.94-2.06-.94-.94-2.06-.94 2.06-2.06.94zm-11 1L8.5 8.5l.94-2.06 2.06-.94-2.06-.94L8.5 2.5l-.94 2.06-2.06.94zm10 10l.94 2.06.94-2.06 2.06-.94-2.06-.94-.94-2.06-.94 2.06-2.06.94z\"/><path d=\"M17.41 7.96l-1.37-1.37c-.4-.4-.92-.59-1.43-.59-.52 0-1.04.2-1.43.59L10.3 9.45l-7.72 7.72c-.78.78-.78 2.05 0 2.83L4 21.41c.39.39.9.59 1.41.59.51 0 1.02-.2 1.41-.59l7.78-7.78 2.81-2.81c.8-.78.8-2.07 0-2.86zM5.41 20L4 18.59l7.72-7.72 1.47 1.35L5.41 20z\"/>\n",
              "  </svg>\n",
              "      </button>\n",
              "      \n",
              "  <style>\n",
              "    .colab-df-container {\n",
              "      display:flex;\n",
              "      flex-wrap:wrap;\n",
              "      gap: 12px;\n",
              "    }\n",
              "\n",
              "    .colab-df-convert {\n",
              "      background-color: #E8F0FE;\n",
              "      border: none;\n",
              "      border-radius: 50%;\n",
              "      cursor: pointer;\n",
              "      display: none;\n",
              "      fill: #1967D2;\n",
              "      height: 32px;\n",
              "      padding: 0 0 0 0;\n",
              "      width: 32px;\n",
              "    }\n",
              "\n",
              "    .colab-df-convert:hover {\n",
              "      background-color: #E2EBFA;\n",
              "      box-shadow: 0px 1px 2px rgba(60, 64, 67, 0.3), 0px 1px 3px 1px rgba(60, 64, 67, 0.15);\n",
              "      fill: #174EA6;\n",
              "    }\n",
              "\n",
              "    [theme=dark] .colab-df-convert {\n",
              "      background-color: #3B4455;\n",
              "      fill: #D2E3FC;\n",
              "    }\n",
              "\n",
              "    [theme=dark] .colab-df-convert:hover {\n",
              "      background-color: #434B5C;\n",
              "      box-shadow: 0px 1px 3px 1px rgba(0, 0, 0, 0.15);\n",
              "      filter: drop-shadow(0px 1px 2px rgba(0, 0, 0, 0.3));\n",
              "      fill: #FFFFFF;\n",
              "    }\n",
              "  </style>\n",
              "\n",
              "      <script>\n",
              "        const buttonEl =\n",
              "          document.querySelector('#df-9225b87f-8693-4317-a31e-883f50602e2f button.colab-df-convert');\n",
              "        buttonEl.style.display =\n",
              "          google.colab.kernel.accessAllowed ? 'block' : 'none';\n",
              "\n",
              "        async function convertToInteractive(key) {\n",
              "          const element = document.querySelector('#df-9225b87f-8693-4317-a31e-883f50602e2f');\n",
              "          const dataTable =\n",
              "            await google.colab.kernel.invokeFunction('convertToInteractive',\n",
              "                                                     [key], {});\n",
              "          if (!dataTable) return;\n",
              "\n",
              "          const docLinkHtml = 'Like what you see? Visit the ' +\n",
              "            '<a target=\"_blank\" href=https://colab.research.google.com/notebooks/data_table.ipynb>data table notebook</a>'\n",
              "            + ' to learn more about interactive tables.';\n",
              "          element.innerHTML = '';\n",
              "          dataTable['output_type'] = 'display_data';\n",
              "          await google.colab.output.renderOutput(dataTable, element);\n",
              "          const docLink = document.createElement('div');\n",
              "          docLink.innerHTML = docLinkHtml;\n",
              "          element.appendChild(docLink);\n",
              "        }\n",
              "      </script>\n",
              "    </div>\n",
              "  </div>\n",
              "  "
            ]
          },
          "metadata": {},
          "execution_count": 13
        }
      ]
    }
  ],
  "metadata": {
    "colab": {
      "collapsed_sections": [],
      "provenance": [],
      "authorship_tag": "ABX9TyPIaRmYuWG5wfrquY6y/mHG",
      "include_colab_link": true
    },
    "kernelspec": {
      "display_name": "Python 3",
      "name": "python3"
    },
    "language_info": {
      "name": "python"
    }
  },
  "nbformat": 4,
  "nbformat_minor": 0
}