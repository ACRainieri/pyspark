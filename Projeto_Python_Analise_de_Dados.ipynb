{
  "cells": [
    {
      "cell_type": "markdown",
      "metadata": {
        "id": "view-in-github",
        "colab_type": "text"
      },
      "source": [
        "<a href=\"https://colab.research.google.com/github/ACRainieri/pyspark/blob/main/Projeto_Python_Analise_de_Dados.ipynb\" target=\"_parent\"><img src=\"https://colab.research.google.com/assets/colab-badge.svg\" alt=\"Open In Colab\"/></a>"
      ]
    },
    {
      "cell_type": "code",
      "source": [
        "import urllib.request\n",
        "\n",
        "with urllib.request.urlopen(\"https://www.cifraclub.com.br/van-halen/cant-stop-lovin-you/\") as url:\n",
        "  page = url.read()\n",
        "\n",
        "from bs4 import BeautifulSoup\n",
        "\n",
        "soup  = BeautifulSoup(page, \"html.parser\")\n",
        "\n",
        "print(soup.title.string)\n",
        "print(soup)\n",
        "\n",
        "#print(soup.string_container)\n",
        "#print(soup.find_all('a'))\n",
        "\n",
        "#tables = soup.find('tables')\n"
      ],
      "metadata": {
        "id": "7-AZ4j7OHUME"
      },
      "execution_count": null,
      "outputs": []
    },
    {
      "cell_type": "markdown",
      "source": [
        "Importando dados de pagina Web"
      ],
      "metadata": {
        "id": "oxh7wF2FEyyX"
      }
    },
    {
      "cell_type": "code",
      "source": [
        "import pandas as pd\n",
        "import requests \n",
        "from bs4 import BeautifulSoup\n",
        "from tabulate import tabulate\n",
        "\n",
        "res = requests.get(\"https://www.nationmaster.com/country-info/stats/Media/Internet-users\")\n",
        "\n",
        "soup = BeautifulSoup(res.content, 'lxml')\n",
        "\n",
        "#Extrair a tabela html\n",
        "table = soup.find_all('table')[0]\n",
        "\n",
        "#Converter a tabela HTML em um framework pandas\n",
        "df = pd.read_html(str(table))\n",
        "\n",
        "print(df)\n",
        "\n",
        "\n",
        "#Convert para formato Json\n",
        "print(df[0].to_json(orient='records'))\n",
        "\n",
        "print('\\nTabela formatada por pandas/tabulate:\\n')\n",
        "print(tabulate(df[0], headers='keys', tablefmt='psql'))"
      ],
      "metadata": {
        "id": "l4RTF1OXE3L2"
      },
      "execution_count": null,
      "outputs": []
    },
    {
      "cell_type": "markdown",
      "source": [],
      "metadata": {
        "id": "NrVkBX5cQF2P"
      }
    },
    {
      "cell_type": "markdown",
      "source": [
        "Pandas - Series"
      ],
      "metadata": {
        "id": "3a7WOSe-Lo5E"
      }
    },
    {
      "cell_type": "code",
      "source": [
        "from pandas import Series\n",
        "import pandas as pd\n",
        "\n",
        "a = [1, 7,  5, 77, -4]\n",
        "\n",
        "myvar = pd.Series(a)\n",
        "\n",
        "print(myvar)\n",
        "\n",
        "pd.isnull(myvar)\n",
        "\n"
      ],
      "metadata": {
        "colab": {
          "base_uri": "https://localhost:8080/"
        },
        "id": "ebOKNX9BLqJK",
        "outputId": "0de68537-f2a6-44f9-b786-0ee5c9617296"
      },
      "execution_count": null,
      "outputs": [
        {
          "output_type": "stream",
          "name": "stdout",
          "text": [
            "0     1\n",
            "1     7\n",
            "2     5\n",
            "3    77\n",
            "4    -4\n",
            "dtype: int64\n"
          ]
        },
        {
          "output_type": "execute_result",
          "data": {
            "text/plain": [
              "0    False\n",
              "1    False\n",
              "2    False\n",
              "3    False\n",
              "4    False\n",
              "dtype: bool"
            ]
          },
          "metadata": {},
          "execution_count": 3
        }
      ]
    },
    {
      "cell_type": "markdown",
      "source": [
        "Pandas - Dataframe"
      ],
      "metadata": {
        "id": "pmg8fResOotU"
      }
    },
    {
      "cell_type": "code",
      "source": [
        "from pandas import DataFrame\n",
        "\n",
        "dict = {'Estado': ['Santa Catarina', 'Paraná', 'Goias', 'Maranhao', 'Piaui'],\n",
        "        'Ano': [1980, 1990, 2000, 2010, 2020, ],\n",
        "        'Populacao': [1.1, 1.2, 1.3, 1.4, 2.0]\n",
        "}\n",
        "\n",
        "df = DataFrame(dict)\n",
        "\n",
        "print(df)\n",
        "\n",
        "type(df)\n",
        "\n",
        "#Eh possivel definir o nome das colunas\n",
        "df = DataFrame(dict, columns=['Ano', 'Estado', 'Populacao'])\n",
        "\n",
        "print(df)\n",
        "\n",
        "\n"
      ],
      "metadata": {
        "colab": {
          "base_uri": "https://localhost:8080/"
        },
        "id": "gTxIpPIXOqZC",
        "outputId": "8ef8cc37-a78a-4f8e-fcd7-a142f1bc96d7"
      },
      "execution_count": null,
      "outputs": [
        {
          "output_type": "stream",
          "name": "stdout",
          "text": [
            "           Estado   Ano  Populacao\n",
            "0  Santa Catarina  1980        1.1\n",
            "1          Paraná  1990        1.2\n",
            "2           Goias  2000        1.3\n",
            "3        Maranhao  2010        1.4\n",
            "4           Piaui  2020        2.0\n",
            "    Ano          Estado  Populacao\n",
            "0  1980  Santa Catarina        1.1\n",
            "1  1990          Paraná        1.2\n",
            "2  2000           Goias        1.3\n",
            "3  2010        Maranhao        1.4\n",
            "4  2020           Piaui        2.0\n"
          ]
        }
      ]
    },
    {
      "cell_type": "code",
      "source": [
        "#Filtrar pelo campo Estado\n",
        "print(df['Estado'])\n",
        "print('\\n')\n",
        "print(df.index)\n",
        "print('\\n')\n",
        "\n",
        "#Listar os dados\n",
        "df.values\n",
        "\n",
        "#Faz chamado pelo nome do campo\n",
        "df.Ano"
      ],
      "metadata": {
        "id": "1zGWCCXEQ2ig"
      },
      "execution_count": null,
      "outputs": []
    },
    {
      "cell_type": "markdown",
      "source": [
        "Preenchendo um campo com dados"
      ],
      "metadata": {
        "id": "lfk8V-PASKQ3"
      }
    },
    {
      "cell_type": "code",
      "source": [
        "dict = {'Estado': ['Santa Catarina', 'Paraná', 'Goias', 'Maranhao', 'Piaui'],\n",
        "        'Ano': [1980, 1990, 2000, 2010, 2020, ],\n",
        "        'Populacao': [1.1, 1.2, 1.3, 1.4, 2.0]\n",
        "}\n",
        "\n",
        "\n",
        "#Adicionando o nome de uma coluna\n",
        "df2 = DataFrame(dict, columns=['Ano', 'Estado', 'Populacao', 'Debito'],\n",
        "                index =['um', 'dois', 'tres', 'quatro', 'cinco'])\n",
        "\n",
        "\n",
        "\n",
        "import numpy as np\n",
        "\n",
        "#Preenchendo coluna com dados\n",
        "df2['Debito'] = np.arange(5.) #5 é exclusivo\n",
        "\n",
        "print(df2)\n",
        "\n",
        "\n",
        "print('\\n')\n",
        "\n",
        "#O metodo describe() retorna uma estatistica do seu Dataframe.\n",
        "print(df2.describe())\n",
        "\n",
        "\n",
        "#Como localizar os dados por indice\n",
        "print('\\nComo localizar os dados por indice...')\n",
        "\n",
        "print(df2.loc['tres'])"
      ],
      "metadata": {
        "id": "_SFxo0ngSNPN"
      },
      "execution_count": null,
      "outputs": []
    },
    {
      "cell_type": "markdown",
      "source": [
        "Tensor Flow"
      ],
      "metadata": {
        "id": "qnFxw1aDfJTS"
      }
    },
    {
      "cell_type": "code",
      "source": [
        "import tensorflow as tf\n",
        "import numpy as np\n",
        "import pandas as pd\n",
        "\n",
        "import matplotlib as plt\n",
        "import seaborn as sns\n",
        "\n",
        "from tensorflow import keras\n",
        "from tensorflow.keras import layers\n",
        "\n",
        "\n",
        "hello = tf.constant(\"Hello Tensor Flow\")\n",
        "\n",
        "print(hello)"
      ],
      "metadata": {
        "colab": {
          "base_uri": "https://localhost:8080/"
        },
        "id": "MB4uTTy0fLC4",
        "outputId": "c6f197a4-6745-4875-e5c9-427b7a4ebe33"
      },
      "execution_count": 3,
      "outputs": [
        {
          "output_type": "stream",
          "name": "stdout",
          "text": [
            "tf.Tensor(b'Hello Tensor Flow', shape=(), dtype=string)\n"
          ]
        }
      ]
    },
    {
      "cell_type": "markdown",
      "source": [],
      "metadata": {
        "id": "IGL4vPIT7H_E"
      }
    }
  ],
  "metadata": {
    "colab": {
      "collapsed_sections": [],
      "provenance": [],
      "authorship_tag": "ABX9TyMJRqXRvgapBc3hMlZZoUrx",
      "include_colab_link": true
    },
    "kernelspec": {
      "display_name": "Python 3",
      "name": "python3"
    },
    "language_info": {
      "name": "python"
    }
  },
  "nbformat": 4,
  "nbformat_minor": 0
}