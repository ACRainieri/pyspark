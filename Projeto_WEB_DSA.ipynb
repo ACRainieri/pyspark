{
  "cells": [
    {
      "cell_type": "markdown",
      "metadata": {
        "id": "view-in-github",
        "colab_type": "text"
      },
      "source": [
        "<a href=\"https://colab.research.google.com/github/ACRainieri/pyspark/blob/main/Projeto_WEB_DSA.ipynb\" target=\"_parent\"><img src=\"https://colab.research.google.com/assets/colab-badge.svg\" alt=\"Open In Colab\"/></a>"
      ]
    },
    {
      "cell_type": "code",
      "execution_count": null,
      "metadata": {
        "id": "CfRyGsGeTKtx"
      },
      "outputs": [],
      "source": [
        "!pip install Flask\n"
      ]
    },
    {
      "cell_type": "code",
      "execution_count": null,
      "metadata": {
        "colab": {
          "background_save": true
        },
        "id": "YoDebpddu2S_"
      },
      "outputs": [],
      "source": [
        "from flask import Flask\n",
        "\n",
        "app = Flask(__name__)\n",
        "\n",
        "@app.route(\"/\")\n",
        "def index():\n",
        "  return \"Index!\"\n",
        "\n",
        "@app.route(\"/hello\")\n",
        "def hello():\n",
        "  return \"Hello World!!\"\n",
        "\n",
        "@app.route(\"/members\")\n",
        "def members():\n",
        "  return \"Members\"\n",
        "\n",
        "@app.route(\"/members/<string:name>/\")  \n",
        "def getMember(name):\n",
        "  return name\n",
        "\n",
        "if __name__ == \"__main__\":\n",
        "  app.run(host='127.0.0.1', port=5000)"
      ]
    },
    {
      "cell_type": "code",
      "execution_count": null,
      "metadata": {
        "id": "k9AUxZ2DYUsy"
      },
      "outputs": [],
      "source": []
    },
    {
      "cell_type": "markdown",
      "source": [
        "Web Scrapping"
      ],
      "metadata": {
        "id": "hX9cAldAHSFY"
      }
    },
    {
      "cell_type": "code",
      "source": [
        "import urllib.request\n",
        "\n",
        "with urllib.request.urlopen(\"https://www.cifraclub.com.br/van-halen/cant-stop-lovin-you/\") as url:\n",
        "  page = url.read()\n",
        "\n",
        "from bs4 import BeautifulSoup\n",
        "\n",
        "soup  = BeautifulSoup(page, \"html.parser\")\n",
        "\n",
        "print(soup.title.string)\n",
        "print(soup)\n",
        "\n",
        "#print(soup.string_container)\n",
        "#print(soup.find_all('a'))\n",
        "\n",
        "#tables = soup.find('tables')\n"
      ],
      "metadata": {
        "id": "7-AZ4j7OHUME"
      },
      "execution_count": null,
      "outputs": []
    },
    {
      "cell_type": "markdown",
      "source": [
        "Importando dados de pagina Web"
      ],
      "metadata": {
        "id": "oxh7wF2FEyyX"
      }
    },
    {
      "cell_type": "code",
      "source": [
        "import pandas as pd\n",
        "import requests \n",
        "from bs4 import BeautifulSoup\n",
        "from tabulate import tabulate\n",
        "\n",
        "res = requests.get(\"https://www.nationmaster.com/country-info/stats/Media/Internet-users\")\n",
        "\n",
        "soup = BeautifulSoup(res.content, 'lxml')\n",
        "\n",
        "#Extrair a tabela html\n",
        "table = soup.find_all('table')[0]\n",
        "\n",
        "#Converter a tabela HTML em um framework pandas\n",
        "df = pd.read_html(str(table))\n",
        "\n",
        "print(df)\n",
        "\n",
        "\n",
        "#Convert para formato Json\n",
        "print(df[0].to_json(orient='records'))\n",
        "\n",
        "print('\\nTabela formatada por pandas/tabulate:\\n')\n",
        "print(tabulate(df[0], headers='keys', tablefmt='psql'))"
      ],
      "metadata": {
        "id": "l4RTF1OXE3L2"
      },
      "execution_count": null,
      "outputs": []
    }
  ],
  "metadata": {
    "colab": {
      "collapsed_sections": [],
      "provenance": [],
      "authorship_tag": "ABX9TyO9t0uh99RURsA11IruFXEF",
      "include_colab_link": true
    },
    "kernelspec": {
      "display_name": "Python 3",
      "name": "python3"
    },
    "language_info": {
      "name": "python"
    }
  },
  "nbformat": 4,
  "nbformat_minor": 0
}