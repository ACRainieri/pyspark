{
  "cells": [
    {
      "cell_type": "markdown",
      "metadata": {
        "id": "view-in-github",
        "colab_type": "text"
      },
      "source": [
        "<a href=\"https://colab.research.google.com/github/ACRainieri/pyspark/blob/main/Projeto_WEB_DSA.ipynb\" target=\"_parent\"><img src=\"https://colab.research.google.com/assets/colab-badge.svg\" alt=\"Open In Colab\"/></a>"
      ]
    },
    {
      "cell_type": "code",
      "execution_count": null,
      "metadata": {
        "id": "CfRyGsGeTKtx"
      },
      "outputs": [],
      "source": [
        "!pip install -q imdb-sqlite\n",
        "!pip install -q pycountry"
      ]
    },
    {
      "cell_type": "code",
      "execution_count": null,
      "metadata": {
        "id": "fVT7BxHGgFao"
      },
      "outputs": [],
      "source": [
        "import re\n",
        "import time\n",
        "import sqlite3\n",
        "import pycountry\n",
        "import numpy as np\n",
        "import pandas as pd\n",
        "import matplotlib.pyplot as plt\n",
        "import seaborn as sns\n",
        "from matplotlib import cm\n",
        "from sklearn.feature_extraction.text import CountVectorizer\n",
        "import warnings \n",
        "\n",
        "warnings.filterwarnings('ignore')\n",
        "sns.set_theme(style= 'whitegrid')\n"
      ]
    },
    {
      "cell_type": "code",
      "execution_count": null,
      "metadata": {
        "id": "lLZzDrc8iQtb"
      },
      "outputs": [],
      "source": [
        "%%time\n",
        "!imdb-sqlite"
      ]
    },
    {
      "cell_type": "code",
      "execution_count": null,
      "metadata": {
        "id": "PybWnSlBjkuK"
      },
      "outputs": [],
      "source": [
        "conn = sqlite3.connect('imdb.db')"
      ]
    },
    {
      "cell_type": "code",
      "execution_count": null,
      "metadata": {
        "id": "wtXq5zt7kBDl"
      },
      "outputs": [],
      "source": [
        "tabelas = pd.read_sql_query(\"SELECT NAME as 'Table_Name' FROM sqlite_master WHERE type = 'table'\", conn)\n",
        "\n",
        "tabelas.head()  \n",
        "tabelas.Table_Name\n"
      ]
    },
    {
      "cell_type": "code",
      "execution_count": null,
      "metadata": {
        "colab": {
          "base_uri": "https://localhost:8080/"
        },
        "id": "bxa4f2Jb2WWN",
        "outputId": "53a3cf1e-55f4-41e0-8e69-d812191acd0f"
      },
      "outputs": [
        {
          "output_type": "execute_result",
          "data": {
            "text/plain": [
              "['people', 'titles', 'akas', 'crew', 'episodes', 'ratings']"
            ]
          },
          "metadata": {},
          "execution_count": 11
        }
      ],
      "source": [
        "tabelas = tabelas[\"Table_Name\"].values.tolist()\n",
        "tabelas"
      ]
    },
    {
      "cell_type": "code",
      "execution_count": null,
      "metadata": {
        "id": "y9943bv-27I0"
      },
      "outputs": [],
      "source": [
        "for tabela in tabelas:\n",
        "  #consulta = \"PRAGMA_TABLE_INFO({})\".format(tabela)\n",
        "  consulta = 'PRAGMA table_info(' + tabela +')'\n",
        "  resultado = pd.read_sql_query(consulta, conn)\n",
        "  print(\"Esquema da Tabela: \"+ tabela)\n",
        "  display(resultado)\n",
        " "
      ]
    },
    {
      "cell_type": "markdown",
      "metadata": {
        "id": "r9wu5-VDZv_v"
      },
      "source": [
        "Ajustando um Dataset, agrupando em outros os valores menores de cinco porcento o restante da lista."
      ]
    },
    {
      "cell_type": "code",
      "execution_count": null,
      "metadata": {
        "id": "WWeWk7DAfLUP"
      },
      "outputs": [],
      "source": [
        "consulta1 = '''SELECT type, COUNT(*) as COUNT FROM titles group by type'''\n",
        "resultado1 = pd.read_sql_query(consulta1, conn)\n",
        "\n",
        "resultado1['percentual'] = (resultado1['COUNT'] / resultado1['COUNT'].sum()) * 100\n",
        "\n",
        "others = {}\n",
        "\n",
        "others['COUNT'] = resultado1[resultado1['percentual'] < 5] ['percentual'].sum()\n",
        "\n",
        "others['type'] = 'others'\n",
        "\n",
        "#display(resultado1)\n",
        "display(others)\n",
        "\n",
        "#filtra o dataframe de resultado\n",
        "resultado1 = resultado1[resultado1['percentual'] > 5]\n",
        "\n",
        "display(resultado1)\n",
        "\n",
        "resultado1 = resultado1.append(others, ignore_index=True)\n",
        "\n",
        "labels = [str(resultado1['type'][i]) + ' '+'['+ str(round(resultado1['percentual'][i], 2)) + '%'+']' for i in resultado1.index]\n",
        "\n",
        "#Mapa de cores\n",
        "cs = cm.Set3(np.arange(100))\n",
        "\n",
        "#Criar figura\n",
        "f = plt.figure()\n",
        "\n",
        "plt.pie(resultado1['COUNT'], labeldistance=1, radius=3, colors=cs, wedgeprops=dict(width=0.8))\n",
        "plt.legend(labels = labels, loc = 'center', prop = {'size':12})\n"
      ]
    },
    {
      "cell_type": "markdown",
      "source": [
        "Calculando o numero de titulos por Generos:"
      ],
      "metadata": {
        "id": "e5WZQbHKeJh3"
      }
    },
    {
      "cell_type": "code",
      "source": [
        "sql_consulta_genero = \"SELECT genres, COUNT(*) FROM titles WHERE type = 'movie' GROUP BY genres\"\n",
        "\n",
        "resultado2 = pd.read_sql_query(sql_consulta_genero, conn)\n",
        "\n",
        "display(resultado2)\n"
      ],
      "metadata": {
        "id": "9iS1EPx7eMzG"
      },
      "execution_count": null,
      "outputs": []
    },
    {
      "cell_type": "code",
      "source": [
        "resultado2['genres'] = resultado2['genres'].str.lower().values\n",
        "\n",
        "#Exclui valores sem genero\n",
        "temp = resultado2['genres'].dropna()\n",
        "\n",
        "display(temp)\n",
        "\n",
        "padrao = '(?u)\\\\b[\\\\w-]+\\\\b'\n",
        "\n",
        "vetor = CountVectorizer(token_pattern = padrao, analyzer = 'word').fit(temp)\n",
        "\n",
        "bag_generos = vetor.transform(temp)\n",
        "\n",
        "generos_unicos = vetor.get_feature_names()"
      ],
      "metadata": {
        "id": "S8OXybuSSY7D"
      },
      "execution_count": null,
      "outputs": []
    }
  ],
  "metadata": {
    "colab": {
      "collapsed_sections": [],
      "provenance": [],
      "authorship_tag": "ABX9TyMg/VlymG+xux5tbnaUVjKw",
      "include_colab_link": true
    },
    "kernelspec": {
      "display_name": "Python 3",
      "name": "python3"
    },
    "language_info": {
      "name": "python"
    }
  },
  "nbformat": 4,
  "nbformat_minor": 0
}