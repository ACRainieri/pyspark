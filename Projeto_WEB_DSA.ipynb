{
  "cells": [
    {
      "cell_type": "markdown",
      "metadata": {
        "id": "view-in-github",
        "colab_type": "text"
      },
      "source": [
        "<a href=\"https://colab.research.google.com/github/ACRainieri/pyspark/blob/main/Projeto_WEB_DSA.ipynb\" target=\"_parent\"><img src=\"https://colab.research.google.com/assets/colab-badge.svg\" alt=\"Open In Colab\"/></a>"
      ]
    },
    {
      "cell_type": "code",
      "execution_count": null,
      "metadata": {
        "id": "CfRyGsGeTKtx"
      },
      "outputs": [],
      "source": [
        "!pip install Flask\n"
      ]
    },
    {
      "cell_type": "code",
      "execution_count": null,
      "metadata": {
        "colab": {
          "background_save": true
        },
        "id": "YoDebpddu2S_"
      },
      "outputs": [],
      "source": [
        "from flask import Flask\n",
        "\n",
        "app = Flask(__name__)\n",
        "\n",
        "@app.route(\"/\")\n",
        "def index():\n",
        "  return \"Index!\"\n",
        "\n",
        "@app.route(\"/hello\")\n",
        "def hello():\n",
        "  return \"Hello World!!\"\n",
        "\n",
        "@app.route(\"/members\")\n",
        "def members():\n",
        "  return \"Members\"\n",
        "\n",
        "@app.route(\"/members/<string:name>/\")  \n",
        "def getMember(name):\n",
        "  return name\n",
        "\n",
        "if __name__ == \"__main__\":\n",
        "  app.run(host='127.0.0.1', port=5000)"
      ]
    },
    {
      "cell_type": "code",
      "execution_count": null,
      "metadata": {
        "id": "k9AUxZ2DYUsy"
      },
      "outputs": [],
      "source": []
    },
    {
      "cell_type": "markdown",
      "source": [
        "Web Scrapping"
      ],
      "metadata": {
        "id": "hX9cAldAHSFY"
      }
    },
    {
      "cell_type": "code",
      "source": [
        "import urllib.request\n",
        "\n",
        "with urllib.request.urlopen(\"https://www.python.org\") as url:\n",
        "  page = url.read()\n",
        "\n",
        "from bs4 import BeautifulSoup\n",
        "\n",
        "soup  = BeautifulSoup(page, \"html.parser\")\n",
        "\n",
        "print(soup.title.string)\n",
        "print(soup.a)\n",
        "\n",
        "#print(soup.find_all('a'))\n",
        "\n",
        "tables = soup.find('tables')\n",
        "\n",
        "print(tables)\n"
      ],
      "metadata": {
        "colab": {
          "base_uri": "https://localhost:8080/"
        },
        "id": "7-AZ4j7OHUME",
        "outputId": "534ac93b-4616-498a-899b-915d2c34eecc"
      },
      "execution_count": 16,
      "outputs": [
        {
          "output_type": "stream",
          "name": "stdout",
          "text": [
            "Welcome to Python.org\n",
            "<a href=\"#content\" title=\"Skip to content\">Skip to content</a>\n",
            "None\n"
          ]
        }
      ]
    }
  ],
  "metadata": {
    "colab": {
      "collapsed_sections": [],
      "provenance": [],
      "authorship_tag": "ABX9TyOT/h4Mgox7R9siQOg6xUwC",
      "include_colab_link": true
    },
    "kernelspec": {
      "display_name": "Python 3",
      "name": "python3"
    },
    "language_info": {
      "name": "python"
    }
  },
  "nbformat": 4,
  "nbformat_minor": 0
}