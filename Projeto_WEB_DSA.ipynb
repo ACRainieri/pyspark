{
  "cells": [
    {
      "cell_type": "markdown",
      "metadata": {
        "id": "view-in-github",
        "colab_type": "text"
      },
      "source": [
        "<a href=\"https://colab.research.google.com/github/ACRainieri/pyspark/blob/main/Projeto_WEB_DSA.ipynb\" target=\"_parent\"><img src=\"https://colab.research.google.com/assets/colab-badge.svg\" alt=\"Open In Colab\"/></a>"
      ]
    },
    {
      "cell_type": "code",
      "execution_count": null,
      "metadata": {
        "id": "CfRyGsGeTKtx"
      },
      "outputs": [],
      "source": [
        "!pip install Flask\n"
      ]
    },
    {
      "cell_type": "code",
      "execution_count": null,
      "metadata": {
        "id": "YoDebpddu2S_"
      },
      "outputs": [],
      "source": [
        "from flask import Flask\n",
        "\n",
        "app = Flask(__name__)\n",
        "\n",
        "@app.route(\"/\")\n",
        "def index():\n",
        "  return \"Index!\"\n",
        "\n",
        "@app.route(\"/hello\")\n",
        "def hello():\n",
        "  return \"Hello World!!\"\n",
        "\n",
        "@app.route(\"/members\")\n",
        "def members():\n",
        "  return \"Members\"\n",
        "\n",
        "@app.route(\"/members/<string:name>/\")  \n",
        "def getMember(name):\n",
        "  return name\n",
        "\n",
        "if __name__ == \"__main__\":\n",
        "  app.run(host='0.0.0.0', port=80)"
      ]
    }
  ],
  "metadata": {
    "colab": {
      "collapsed_sections": [],
      "provenance": [],
      "authorship_tag": "ABX9TyPc57pcZk6PIEmm8jtNDnHu",
      "include_colab_link": true
    },
    "kernelspec": {
      "display_name": "Python 3",
      "name": "python3"
    },
    "language_info": {
      "name": "python"
    }
  },
  "nbformat": 4,
  "nbformat_minor": 0
}