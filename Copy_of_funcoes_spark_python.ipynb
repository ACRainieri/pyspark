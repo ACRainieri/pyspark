{
  "nbformat": 4,
  "nbformat_minor": 0,
  "metadata": {
    "colab": {
      "name": "Copy of funcoes_spark_python.ipynb",
      "provenance": [],
      "collapsed_sections": [],
      "mount_file_id": "1hDyhp1Et4kfrutFxUjwEII6QQ8dF6RCX",
      "authorship_tag": "ABX9TyPIVH9iBnu+mB81OyaB73wu",
      "include_colab_link": true
    },
    "kernelspec": {
      "name": "python3",
      "display_name": "Python 3"
    },
    "language_info": {
      "name": "python"
    }
  },
  "cells": [
    {
      "cell_type": "markdown",
      "metadata": {
        "id": "view-in-github",
        "colab_type": "text"
      },
      "source": [
        "<a href=\"https://colab.research.google.com/github/ACRainieri/pyspark/blob/main/Copy_of_funcoes_spark_python.ipynb\" target=\"_parent\"><img src=\"https://colab.research.google.com/assets/colab-badge.svg\" alt=\"Open In Colab\"/></a>"
      ]
    },
    {
      "cell_type": "markdown",
      "source": [
        "Encontrando o último caracter da palavra."
      ],
      "metadata": {
        "id": "2v1SOQ4ufmvM"
      }
    },
    {
      "cell_type": "code",
      "source": [
        "\n",
        "\n",
        "result = lambda n: n**2\n",
        "\n",
        "result(9)\n",
        "\n",
        "ultimo_reg = lambda s: s[-1]\n",
        "\n",
        "ultimo_reg(\"VAGAS_WA\")\n"
      ],
      "metadata": {
        "colab": {
          "base_uri": "https://localhost:8080/",
          "height": 35
        },
        "id": "a3N7bvQeMFeN",
        "outputId": "687dd29f-e4f1-4fae-8b56-ccbe1702d4cd"
      },
      "execution_count": null,
      "outputs": [
        {
          "output_type": "execute_result",
          "data": {
            "text/plain": [
              "'A'"
            ],
            "application/vnd.google.colaboratory.intrinsic+json": {
              "type": "string"
            }
          },
          "metadata": {},
          "execution_count": 13
        }
      ]
    },
    {
      "cell_type": "code",
      "source": [
        "#verificar par ou impar\n",
        "impar = lambda i: i%2 > 0\n",
        "\n",
        "impar(4)"
      ],
      "metadata": {
        "colab": {
          "base_uri": "https://localhost:8080/"
        },
        "id": "IEAeXnh0ReqT",
        "outputId": "ffe0bdc4-0eb0-467b-f4bf-4d78742a91c2"
      },
      "execution_count": null,
      "outputs": [
        {
          "output_type": "execute_result",
          "data": {
            "text/plain": [
              "False"
            ]
          },
          "metadata": {},
          "execution_count": 17
        }
      ]
    },
    {
      "cell_type": "code",
      "source": [
        "result = lambda x: x> 10\n",
        "\n",
        "result(11)"
      ],
      "metadata": {
        "colab": {
          "base_uri": "https://localhost:8080/"
        },
        "id": "dT6sx8ixR5z4",
        "outputId": "3602c831-ef63-4d1c-c01f-43736cb7b367"
      },
      "execution_count": null,
      "outputs": [
        {
          "output_type": "execute_result",
          "data": {
            "text/plain": [
              "True"
            ]
          },
          "metadata": {},
          "execution_count": 21
        }
      ]
    },
    {
      "cell_type": "code",
      "source": [
        "lista = [1,3,6,4,8,23,2]\n",
        "\n",
        "r = lambda dobro: dobro * 2\n",
        "\n",
        "r(lista)"
      ],
      "metadata": {
        "colab": {
          "base_uri": "https://localhost:8080/"
        },
        "id": "GHH8wX8oS2yO",
        "outputId": "fdbe8b31-6ac8-49ce-b249-c87b3e9ae199"
      },
      "execution_count": null,
      "outputs": [
        {
          "output_type": "execute_result",
          "data": {
            "text/plain": [
              "[1, 3, 6, 4, 8, 23, 2, 1, 3, 6, 4, 8, 23, 2]"
            ]
          },
          "metadata": {},
          "execution_count": 22
        }
      ]
    },
    {
      "cell_type": "code",
      "source": [
        "r=lambda x, y: x+y\n",
        "r(2,5)"
      ],
      "metadata": {
        "colab": {
          "base_uri": "https://localhost:8080/"
        },
        "id": "IBcKfKoITgO-",
        "outputId": "0a714d54-fb10-4715-e0fa-d40b40411537"
      },
      "execution_count": null,
      "outputs": [
        {
          "output_type": "execute_result",
          "data": {
            "text/plain": [
              "7"
            ]
          },
          "metadata": {},
          "execution_count": 24
        }
      ]
    },
    {
      "cell_type": "markdown",
      "source": [
        "Ordenando Inversamente - Inverse Order"
      ],
      "metadata": {
        "id": "-dnjQbR2U1Us"
      }
    },
    {
      "cell_type": "code",
      "source": [
        "ordem_inversa = lambda i: i [::-1]\n",
        "ordem_inversa(\"escrevendo ao contratio\")"
      ],
      "metadata": {
        "colab": {
          "base_uri": "https://localhost:8080/",
          "height": 35
        },
        "id": "WEumYk7oUvDd",
        "outputId": "ff7f7069-bc00-4b30-fe36-37cba5bb8042"
      },
      "execution_count": null,
      "outputs": [
        {
          "output_type": "execute_result",
          "data": {
            "text/plain": [
              "'oitartnoc oa odnevercse'"
            ],
            "application/vnd.google.colaboratory.intrinsic+json": {
              "type": "string"
            }
          },
          "metadata": {},
          "execution_count": 26
        }
      ]
    },
    {
      "cell_type": "code",
      "source": [
        "lista=[1,2,3,4,5,6,7,8,9,10, 37]\n",
        "print(lista)\n",
        "type(lista)\n",
        "\n",
        "lst =[]\n",
        "\n",
        "for i in lista:\n",
        "  n = i * 2\n",
        "  lst.append(n)\n",
        "\n",
        "print(lst)"
      ],
      "metadata": {
        "colab": {
          "base_uri": "https://localhost:8080/"
        },
        "id": "xV-AUYc_V4TJ",
        "outputId": "a4c0e63e-132b-45b5-cf5a-c73d4ff0bbe4"
      },
      "execution_count": null,
      "outputs": [
        {
          "output_type": "stream",
          "name": "stdout",
          "text": [
            "[1, 2, 3, 4, 5, 6, 7, 8, 9, 10, 37]\n",
            "[2, 4, 6, 8, 10, 12, 14, 16, 18, 20, 74]\n"
          ]
        }
      ]
    },
    {
      "cell_type": "markdown",
      "source": [
        "List Comprehencion - elevando todos os itens de uma lista ao quadrado"
      ],
      "metadata": {
        "id": "CyhfOkoeY22-"
      }
    },
    {
      "cell_type": "code",
      "source": [
        "l = [item ** 2 for item in lista]\n",
        "print(l)\n"
      ],
      "metadata": {
        "colab": {
          "base_uri": "https://localhost:8080/"
        },
        "id": "bv_oP4tFY7R7",
        "outputId": "451d81a1-0e64-4cc9-ca62-6821a765df1a"
      },
      "execution_count": null,
      "outputs": [
        {
          "output_type": "stream",
          "name": "stdout",
          "text": [
            "[1, 4, 9, 16, 25, 36, 49, 64, 81, 100, 1369]\n"
          ]
        }
      ]
    },
    {
      "cell_type": "markdown",
      "source": [
        "Contando palavras com List Comprehension"
      ],
      "metadata": {
        "id": "Wy1xDBpCbdcL"
      }
    },
    {
      "cell_type": "code",
      "source": [
        "frases = [\n",
        "          \"Tenho em mim todos os sonhos do mundo.\",\n",
        "          \"Somos do tamanho de nossos sonhos.\",\n",
        "          \"O coração se pudesse pensar pararia.\",\n",
        "          \"O amor é um sono que chega para o pouco ser que se é.\",\n",
        "          \"Ler é sonhar pela mão de outrem.\",\n",
        "          \"Todo o homem de ação é essencialmente animado e otimista porque quem não sente é feliz.\",\n",
        "          \"O esforço é grande e o homem é pequeno.\",\n",
        "          \"Minha alma está cansada da minha vida.\",\n",
        "          \"Nenhum livro para crianças deve ser escrito para crianças.\",\n",
        "          \"Quanto mais fundamente penso, mais profundamente me descompreendo.\",\n",
        "          \"Tudo o que chega, chega sempre por alguma razão.\"          \n",
        "          ]\n",
        "\n",
        "[item for item in frases if item.count(\"é\") > 1]\n"
      ],
      "metadata": {
        "colab": {
          "base_uri": "https://localhost:8080/"
        },
        "id": "TEpe9ylEbjpp",
        "outputId": "cbfcd624-cf2b-4499-c0ce-1c31efb93ca2"
      },
      "execution_count": null,
      "outputs": [
        {
          "output_type": "execute_result",
          "data": {
            "text/plain": [
              "['O amor é um sono que chega para o pouco ser que se é.',\n",
              " 'Todo o homem de ação é essencialmente animado e otimista porque quem não sente é feliz.',\n",
              " 'O esforço é grande e o homem é pequeno.']"
            ]
          },
          "metadata": {},
          "execution_count": 46
        }
      ]
    },
    {
      "cell_type": "markdown",
      "source": [
        "Converter itens de uma lista para float."
      ],
      "metadata": {
        "id": "iq8IDJhGe7BR"
      }
    },
    {
      "cell_type": "code",
      "source": [
        "list = ['1', '2', '3', '4', '5']\n",
        "\n",
        "[float(i) for i in list if i > ' 3'] "
      ],
      "metadata": {
        "colab": {
          "base_uri": "https://localhost:8080/"
        },
        "id": "qp8phug5e_Ah",
        "outputId": "3e3f2a68-8c5d-4aa3-9ba8-c423e234aaaa"
      },
      "execution_count": null,
      "outputs": [
        {
          "output_type": "execute_result",
          "data": {
            "text/plain": [
              "[4.0, 5.0]"
            ]
          },
          "metadata": {},
          "execution_count": 49
        }
      ]
    },
    {
      "cell_type": "code",
      "source": [
        "from math import pi\n",
        "[str(round(pi, i)) for i in range(1, 6)]"
      ],
      "metadata": {
        "colab": {
          "base_uri": "https://localhost:8080/"
        },
        "id": "lCNGUsxH__EY",
        "outputId": "1491e40a-9da0-4834-f6c9-6113fe8557d4"
      },
      "execution_count": null,
      "outputs": [
        {
          "output_type": "execute_result",
          "data": {
            "text/plain": [
              "['3.1', '3.14', '3.142', '3.1416', '3.14159']"
            ]
          },
          "metadata": {},
          "execution_count": 86
        }
      ]
    },
    {
      "cell_type": "markdown",
      "source": [
        "Map "
      ],
      "metadata": {
        "id": "ypVbXS93Gwcy"
      }
    },
    {
      "cell_type": "code",
      "source": [
        "lista_qq =[1,2,3,4,5,6,7,8,9,10,11]\n",
        "\n",
        "def f_impar(num):\n",
        "  if num%2 > 0:\n",
        "    return True\n",
        "  else:\n",
        "    return False\n",
        "\n",
        "for i in lista_qq:\n",
        "  print('')\n",
        "  #print(f_impar(i))\n",
        "\n",
        "m = [res for res in map(f_impar,  lista_qq)]\n",
        "print(m)\n",
        "\n",
        "\n",
        "#listcomprehension para converter para lista\n",
        "a = [chr(i) for i in [70,50,10,96, 13]]\n",
        "print(a)"
      ],
      "metadata": {
        "id": "mKqbfpzLGuyC"
      },
      "execution_count": null,
      "outputs": []
    },
    {
      "cell_type": "markdown",
      "source": [
        "Função Filter "
      ],
      "metadata": {
        "id": "mkLawZGtQoVD"
      }
    },
    {
      "cell_type": "code",
      "source": [
        "frases = [\n",
        "          \"Tenho em mim todos os sonhos do mundo.\",\n",
        "          \"Somos do tamanho de nossos sonhos.\",\n",
        "          \"O coração se pudesse pensar pararia.\",\n",
        "          \"O amor é um sono que chega para o pouco ser que se é.\",\n",
        "          \"Ler é sonhar pela mão de outrem.\",\n",
        "          \"Todo o homem de ação é essencialmente animado e otimista porque quem não sente é feliz.\",\n",
        "          \"O esforço é grande e o homem é pequeno.\",\n",
        "          \"Minha alma está cansada da minha vida.\",\n",
        "          \"Nenhum livro para crianças deve ser escrito para crianças.\",\n",
        "          \"Quanto mais fundamente penso, mais profundamente me descompreendo.\",\n",
        "          \"Tudo o que chega, chega sempre por alguma razão.\"          \n",
        "          ]\n",
        "\n",
        "def count_words(palavra):\n",
        "  return palavra.count(\"razão\") >= 1\n",
        "\n",
        "#list(filter(count_words, frases))\n",
        "\n",
        "m = [palavras  for palavras in map(count_words,  frases)]\n",
        "m\n",
        "\n"
      ],
      "metadata": {
        "colab": {
          "base_uri": "https://localhost:8080/"
        },
        "id": "FK90DVxeQsOs",
        "outputId": "05f9f38b-b0c9-4eaf-ca64-fb2e01403164"
      },
      "execution_count": null,
      "outputs": [
        {
          "output_type": "execute_result",
          "data": {
            "text/plain": [
              "[False, False, False, False, False, False, False, False, False, False, True]"
            ]
          },
          "metadata": {},
          "execution_count": 128
        }
      ]
    },
    {
      "cell_type": "markdown",
      "source": [
        "set - conjuntos não duplicados"
      ],
      "metadata": {
        "id": "K729ElRdhGed"
      }
    },
    {
      "cell_type": "code",
      "source": [
        "lista_duplicada = [1, 3,6,7,8,9,3,4,5,6,4,3,21,1,8,6,5,4,7]\n",
        "\n",
        "lista_sem_duplicatas = set(lista_duplicada)\n",
        "lista_sem_duplicatas"
      ],
      "metadata": {
        "colab": {
          "base_uri": "https://localhost:8080/"
        },
        "id": "vb1oo_wahLJp",
        "outputId": "9e637fb7-a6ee-45a3-9a79-1f98b6ccf6f4"
      },
      "execution_count": null,
      "outputs": [
        {
          "output_type": "execute_result",
          "data": {
            "text/plain": [
              "{1, 3, 4, 5, 6, 7, 8, 9, 21}"
            ]
          },
          "metadata": {},
          "execution_count": 129
        }
      ]
    },
    {
      "cell_type": "markdown",
      "source": [
        "funcao reduce com lambda "
      ],
      "metadata": {
        "id": "8c_xpgYgk39k"
      }
    },
    {
      "cell_type": "code",
      "source": [
        "from functools import reduce\n",
        "\n",
        "soma = reduce((lambda x,y: x+y), range(9000000))\n",
        "soma"
      ],
      "metadata": {
        "colab": {
          "base_uri": "https://localhost:8080/"
        },
        "id": "yQRo_tp7k8g6",
        "outputId": "66a92635-bb96-4a0b-ec18-3d0a04a7a9ab"
      },
      "execution_count": null,
      "outputs": [
        {
          "output_type": "execute_result",
          "data": {
            "text/plain": [
              "40499995500000"
            ]
          },
          "metadata": {},
          "execution_count": 2
        }
      ]
    },
    {
      "cell_type": "markdown",
      "source": [
        "Determinar o maior numero da lista ou menor"
      ],
      "metadata": {
        "id": "8zzH_xh6yIsh"
      }
    },
    {
      "cell_type": "code",
      "source": [
        "from functools import reduce\n",
        "lista_geral = [1,55,66,8,7,989,56,345,800,2043]\n",
        "\n",
        "reduce(lambda a, b: a if a>b else b, lista_geral)\n"
      ],
      "metadata": {
        "colab": {
          "base_uri": "https://localhost:8080/"
        },
        "id": "gi9pMjukyL9c",
        "outputId": "49664930-e0ff-419b-c55c-4778c20bf557"
      },
      "execution_count": null,
      "outputs": [
        {
          "output_type": "execute_result",
          "data": {
            "text/plain": [
              "2043"
            ]
          },
          "metadata": {},
          "execution_count": 5
        }
      ]
    },
    {
      "cell_type": "code",
      "source": [
        "listas= [[1,2,3], [7,4,5], [33,412,6,7,8]]\n",
        "a = listas[1][0]\n",
        "print(a)\n",
        "\n",
        "b = listas[2][1]\n",
        "print(b)\n"
      ],
      "metadata": {
        "colab": {
          "base_uri": "https://localhost:8080/"
        },
        "id": "xEKTBuftISMn",
        "outputId": "8f5d879d-1c9c-49d4-82f2-7c4ed31bf59d"
      },
      "execution_count": 12,
      "outputs": [
        {
          "output_type": "stream",
          "name": "stdout",
          "text": [
            "7\n",
            "412\n"
          ]
        }
      ]
    }
  ]
}