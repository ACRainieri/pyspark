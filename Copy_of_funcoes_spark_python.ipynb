{
  "nbformat": 4,
  "nbformat_minor": 0,
  "metadata": {
    "colab": {
      "name": "Copy of funcoes_spark_python.ipynb",
      "provenance": [],
      "collapsed_sections": [],
      "mount_file_id": "19qac6eiSrY_i6rudCO-Amtym_Up5v1Jt",
      "authorship_tag": "ABX9TyP7+DrL38kaYV104xTmGTLW",
      "include_colab_link": true
    },
    "kernelspec": {
      "name": "python3",
      "display_name": "Python 3"
    },
    "language_info": {
      "name": "python"
    }
  },
  "cells": [
    {
      "cell_type": "markdown",
      "metadata": {
        "id": "view-in-github",
        "colab_type": "text"
      },
      "source": [
        "<a href=\"https://colab.research.google.com/github/ACRainieri/pyspark/blob/main/Copy_of_funcoes_spark_python.ipynb\" target=\"_parent\"><img src=\"https://colab.research.google.com/assets/colab-badge.svg\" alt=\"Open In Colab\"/></a>"
      ]
    },
    {
      "cell_type": "markdown",
      "source": [
        "Encontrando o último caracter da palavra."
      ],
      "metadata": {
        "id": "2v1SOQ4ufmvM"
      }
    },
    {
      "cell_type": "code",
      "source": [
        "\n",
        "\n",
        "result = lambda n: n**2\n",
        "\n",
        "result(9)\n",
        "\n",
        "ultimo_reg = lambda s: s[-1]\n",
        "\n",
        "ultimo_reg(\"VAGAS_WA\")\n"
      ],
      "metadata": {
        "colab": {
          "base_uri": "https://localhost:8080/",
          "height": 35
        },
        "id": "a3N7bvQeMFeN",
        "outputId": "687dd29f-e4f1-4fae-8b56-ccbe1702d4cd"
      },
      "execution_count": null,
      "outputs": [
        {
          "output_type": "execute_result",
          "data": {
            "text/plain": [
              "'A'"
            ],
            "application/vnd.google.colaboratory.intrinsic+json": {
              "type": "string"
            }
          },
          "metadata": {},
          "execution_count": 13
        }
      ]
    },
    {
      "cell_type": "code",
      "source": [
        "#verificar par ou impar\n",
        "impar = lambda i: i%2 > 0\n",
        "\n",
        "impar(4)"
      ],
      "metadata": {
        "colab": {
          "base_uri": "https://localhost:8080/"
        },
        "id": "IEAeXnh0ReqT",
        "outputId": "ffe0bdc4-0eb0-467b-f4bf-4d78742a91c2"
      },
      "execution_count": null,
      "outputs": [
        {
          "output_type": "execute_result",
          "data": {
            "text/plain": [
              "False"
            ]
          },
          "metadata": {},
          "execution_count": 17
        }
      ]
    },
    {
      "cell_type": "code",
      "source": [
        "result = lambda x: x> 10\n",
        "\n",
        "result(11)"
      ],
      "metadata": {
        "colab": {
          "base_uri": "https://localhost:8080/"
        },
        "id": "dT6sx8ixR5z4",
        "outputId": "3602c831-ef63-4d1c-c01f-43736cb7b367"
      },
      "execution_count": null,
      "outputs": [
        {
          "output_type": "execute_result",
          "data": {
            "text/plain": [
              "True"
            ]
          },
          "metadata": {},
          "execution_count": 21
        }
      ]
    },
    {
      "cell_type": "code",
      "source": [
        "lista = [1,3,6,4,8,23,2]\n",
        "\n",
        "r = lambda dobro: dobro * 2\n",
        "\n",
        "r(lista)"
      ],
      "metadata": {
        "colab": {
          "base_uri": "https://localhost:8080/"
        },
        "id": "GHH8wX8oS2yO",
        "outputId": "fdbe8b31-6ac8-49ce-b249-c87b3e9ae199"
      },
      "execution_count": null,
      "outputs": [
        {
          "output_type": "execute_result",
          "data": {
            "text/plain": [
              "[1, 3, 6, 4, 8, 23, 2, 1, 3, 6, 4, 8, 23, 2]"
            ]
          },
          "metadata": {},
          "execution_count": 22
        }
      ]
    },
    {
      "cell_type": "code",
      "source": [
        "r=lambda x, y: x+y\n",
        "r(2,5)"
      ],
      "metadata": {
        "colab": {
          "base_uri": "https://localhost:8080/"
        },
        "id": "IBcKfKoITgO-",
        "outputId": "0a714d54-fb10-4715-e0fa-d40b40411537"
      },
      "execution_count": null,
      "outputs": [
        {
          "output_type": "execute_result",
          "data": {
            "text/plain": [
              "7"
            ]
          },
          "metadata": {},
          "execution_count": 24
        }
      ]
    },
    {
      "cell_type": "markdown",
      "source": [
        "Ordenando Inversamente - Inverse Order"
      ],
      "metadata": {
        "id": "-dnjQbR2U1Us"
      }
    },
    {
      "cell_type": "code",
      "source": [
        "ordem_inversa = lambda i: i [::-1]\n",
        "ordem_inversa(\"escrevendo ao contratio\")"
      ],
      "metadata": {
        "colab": {
          "base_uri": "https://localhost:8080/",
          "height": 35
        },
        "id": "WEumYk7oUvDd",
        "outputId": "ff7f7069-bc00-4b30-fe36-37cba5bb8042"
      },
      "execution_count": null,
      "outputs": [
        {
          "output_type": "execute_result",
          "data": {
            "text/plain": [
              "'oitartnoc oa odnevercse'"
            ],
            "application/vnd.google.colaboratory.intrinsic+json": {
              "type": "string"
            }
          },
          "metadata": {},
          "execution_count": 26
        }
      ]
    },
    {
      "cell_type": "code",
      "source": [
        "lista=[1,2,3,4,5,6,7,8,9,10, 37]\n",
        "print(lista)\n",
        "type(lista)\n",
        "\n",
        "lst =[]\n",
        "\n",
        "for i in lista:\n",
        "  n = i * 2\n",
        "  lst.append(n)\n",
        "\n",
        "print(lst)"
      ],
      "metadata": {
        "colab": {
          "base_uri": "https://localhost:8080/"
        },
        "id": "xV-AUYc_V4TJ",
        "outputId": "a4c0e63e-132b-45b5-cf5a-c73d4ff0bbe4"
      },
      "execution_count": null,
      "outputs": [
        {
          "output_type": "stream",
          "name": "stdout",
          "text": [
            "[1, 2, 3, 4, 5, 6, 7, 8, 9, 10, 37]\n",
            "[2, 4, 6, 8, 10, 12, 14, 16, 18, 20, 74]\n"
          ]
        }
      ]
    },
    {
      "cell_type": "markdown",
      "source": [
        "List Comprehencion - elevando ao quadrado todos os itens de uma lista ao quadrado"
      ],
      "metadata": {
        "id": "CyhfOkoeY22-"
      }
    },
    {
      "cell_type": "code",
      "source": [
        "l = [item ** 2 for item in lista]\n",
        "print(l)\n"
      ],
      "metadata": {
        "colab": {
          "base_uri": "https://localhost:8080/"
        },
        "id": "bv_oP4tFY7R7",
        "outputId": "451d81a1-0e64-4cc9-ca62-6821a765df1a"
      },
      "execution_count": null,
      "outputs": [
        {
          "output_type": "stream",
          "name": "stdout",
          "text": [
            "[1, 4, 9, 16, 25, 36, 49, 64, 81, 100, 1369]\n"
          ]
        }
      ]
    },
    {
      "cell_type": "markdown",
      "source": [
        "Contando palavras com List Comprehension"
      ],
      "metadata": {
        "id": "Wy1xDBpCbdcL"
      }
    },
    {
      "cell_type": "code",
      "source": [
        "frases = [\n",
        "          \"Tenho em mim todos os sonhos do mundo.\",\n",
        "          \"Somos do tamanho de nossos sonhos.\",\n",
        "          \"O coração se pudesse pensar pararia.\",\n",
        "          \"O amor é um sono que chega para o pouco ser que se é.\",\n",
        "          \"Ler é sonhar pela mão de outrem.\",\n",
        "          \"Todo o homem de ação é essencialmente animado e otimista porque quem não sente é feliz.\",\n",
        "          \"O esforço é grande e o homem é pequeno.\",\n",
        "          \"Minha alma está cansada da minha vida.\",\n",
        "          \"Nenhum livro para crianças deve ser escrito para crianças.\",\n",
        "          \"Quanto mais fundamente penso, mais profundamente me descompreendo.\",\n",
        "          \"Tudo o que chega, chega sempre por alguma razão.\"          \n",
        "          ]\n",
        "\n",
        "[item for item in frases if item.count(\"é\") > 1]\n"
      ],
      "metadata": {
        "colab": {
          "base_uri": "https://localhost:8080/"
        },
        "id": "TEpe9ylEbjpp",
        "outputId": "cbfcd624-cf2b-4499-c0ce-1c31efb93ca2"
      },
      "execution_count": null,
      "outputs": [
        {
          "output_type": "execute_result",
          "data": {
            "text/plain": [
              "['O amor é um sono que chega para o pouco ser que se é.',\n",
              " 'Todo o homem de ação é essencialmente animado e otimista porque quem não sente é feliz.',\n",
              " 'O esforço é grande e o homem é pequeno.']"
            ]
          },
          "metadata": {},
          "execution_count": 46
        }
      ]
    },
    {
      "cell_type": "markdown",
      "source": [
        "Converter itens de uma lista para float."
      ],
      "metadata": {
        "id": "iq8IDJhGe7BR"
      }
    },
    {
      "cell_type": "code",
      "source": [
        "list = ['1', '2', '3', '4', '5']\n",
        "\n",
        "[float(i) for i in list if i > ' 3'] "
      ],
      "metadata": {
        "colab": {
          "base_uri": "https://localhost:8080/"
        },
        "id": "qp8phug5e_Ah",
        "outputId": "dcb5ddc1-1690-4373-86a0-924def525c96"
      },
      "execution_count": null,
      "outputs": [
        {
          "output_type": "execute_result",
          "data": {
            "text/plain": [
              "[1.0, 2.0, 3.0, 4.0, 5.0]"
            ]
          },
          "metadata": {},
          "execution_count": 13
        }
      ]
    },
    {
      "cell_type": "code",
      "source": [
        "from math import pi\n",
        "[str(round(pi, i)) for i in range(1, 6)]"
      ],
      "metadata": {
        "colab": {
          "base_uri": "https://localhost:8080/"
        },
        "id": "lCNGUsxH__EY",
        "outputId": "1491e40a-9da0-4834-f6c9-6113fe8557d4"
      },
      "execution_count": null,
      "outputs": [
        {
          "output_type": "execute_result",
          "data": {
            "text/plain": [
              "['3.1', '3.14', '3.142', '3.1416', '3.14159']"
            ]
          },
          "metadata": {},
          "execution_count": 86
        }
      ]
    },
    {
      "cell_type": "markdown",
      "source": [
        "Map "
      ],
      "metadata": {
        "id": "ypVbXS93Gwcy"
      }
    },
    {
      "cell_type": "code",
      "source": [
        "lista_qq =[1,2,3,4,5,6,7,8,9,10,11]\n",
        "\n",
        "def f_impar(num):\n",
        "  if num%2 > 0:\n",
        "    return True\n",
        "  else:\n",
        "    return False\n",
        "\n",
        "for i in lista_qq:\n",
        "  print(i)\n",
        "  #print(f_impar(i))\n",
        "\n",
        "m = [res for res in map(f_impar,  lista_qq)]\n",
        "print(m)\n",
        "\n",
        "\n",
        "#listcomprehension para converter para lista\n",
        "a = [chr(i) for i in [70,50,10,96, 13]]\n",
        "print(a)"
      ],
      "metadata": {
        "id": "mKqbfpzLGuyC",
        "colab": {
          "base_uri": "https://localhost:8080/"
        },
        "outputId": "c3dc4a19-1704-4ef5-8759-33240e702ca1"
      },
      "execution_count": null,
      "outputs": [
        {
          "output_type": "stream",
          "name": "stdout",
          "text": [
            "1\n",
            "2\n",
            "3\n",
            "4\n",
            "5\n",
            "6\n",
            "7\n",
            "8\n",
            "9\n",
            "10\n",
            "11\n",
            "[True, False, True, False, True, False, True, False, True, False, True]\n",
            "['F', '2', '\\n', '`', '\\r']\n"
          ]
        }
      ]
    },
    {
      "cell_type": "markdown",
      "source": [
        "Função Filter "
      ],
      "metadata": {
        "id": "mkLawZGtQoVD"
      }
    },
    {
      "cell_type": "code",
      "source": [
        "frases = [\n",
        "          \"Tenho em mim todos os sonhos do mundo.\",\n",
        "          \"Somos do tamanho de nossos sonhos.\",\n",
        "          \"O coração se pudesse pensar pararia.\",\n",
        "          \"O amor é um sono que chega para o pouco ser que se é.\",\n",
        "          \"Ler é sonhar pela mão de outrem.\",\n",
        "          \"Todo o homem de ação é essencialmente animado e otimista porque quem não sente é feliz.\",\n",
        "          \"O esforço é grande e o homem é pequeno.\",\n",
        "          \"Minha alma está cansada da minha vida.\",\n",
        "          \"Nenhum livro para crianças deve ser escrito para crianças.\",\n",
        "          \"Quanto mais fundamente penso, mais profundamente me descompreendo.\",\n",
        "          \"Tudo o que chega, chega sempre por alguma razão.\"          \n",
        "          ]\n",
        "\n",
        "def count_words(palavra):\n",
        "  return palavra.count(\"razão\") >= 1\n",
        "\n",
        "#list(filter(count_words, frases))\n",
        "\n",
        "m = [palavras  for palavras in map(count_words,  frases)]\n",
        "m\n",
        "\n"
      ],
      "metadata": {
        "colab": {
          "base_uri": "https://localhost:8080/"
        },
        "id": "FK90DVxeQsOs",
        "outputId": "cc980d9a-a8ba-41da-a06c-4521fb1adcdb"
      },
      "execution_count": null,
      "outputs": [
        {
          "output_type": "execute_result",
          "data": {
            "text/plain": [
              "[False, False, False, False, False, False, False, False, False, False, True]"
            ]
          },
          "metadata": {},
          "execution_count": 8
        }
      ]
    },
    {
      "cell_type": "markdown",
      "source": [
        "set - conjuntos não duplicados"
      ],
      "metadata": {
        "id": "K729ElRdhGed"
      }
    },
    {
      "cell_type": "code",
      "source": [
        "lista_duplicada = [27,33,1,3,6,7,8,9,3,4,5,6,4,3,21,1,8,6,5,4,7]\n",
        "\n",
        "lista_sem_duplicatas = set(lista_duplicada)\n",
        "lista_sem_duplicatas"
      ],
      "metadata": {
        "colab": {
          "base_uri": "https://localhost:8080/"
        },
        "id": "vb1oo_wahLJp",
        "outputId": "792c485d-1e77-4364-d714-024562131fe4"
      },
      "execution_count": null,
      "outputs": [
        {
          "output_type": "execute_result",
          "data": {
            "text/plain": [
              "{1, 3, 4, 5, 6, 7, 8, 9, 21, 27, 33}"
            ]
          },
          "metadata": {},
          "execution_count": 7
        }
      ]
    },
    {
      "cell_type": "markdown",
      "source": [
        "funcao reduce com lambda "
      ],
      "metadata": {
        "id": "8c_xpgYgk39k"
      }
    },
    {
      "cell_type": "code",
      "source": [
        "from functools import reduce\n",
        "\n",
        "soma = reduce((lambda x,y: x+y), range(9000000))\n",
        "soma"
      ],
      "metadata": {
        "colab": {
          "base_uri": "https://localhost:8080/"
        },
        "id": "yQRo_tp7k8g6",
        "outputId": "ebac4289-7908-480d-8cc9-0cb8a1375f75"
      },
      "execution_count": null,
      "outputs": [
        {
          "output_type": "execute_result",
          "data": {
            "text/plain": [
              "40499995500000"
            ]
          },
          "metadata": {},
          "execution_count": 1
        }
      ]
    },
    {
      "cell_type": "markdown",
      "source": [
        "Determinar o maior numero da lista ou menor"
      ],
      "metadata": {
        "id": "8zzH_xh6yIsh"
      }
    },
    {
      "cell_type": "code",
      "source": [
        "from functools import reduce\n",
        "lista_geral = [1,55,66,8,7,989,56,345,800,2043]\n",
        "\n",
        "reduce(lambda a, b: a if a>b else b, lista_geral)\n"
      ],
      "metadata": {
        "colab": {
          "base_uri": "https://localhost:8080/"
        },
        "id": "gi9pMjukyL9c",
        "outputId": "49664930-e0ff-419b-c55c-4778c20bf557"
      },
      "execution_count": null,
      "outputs": [
        {
          "output_type": "execute_result",
          "data": {
            "text/plain": [
              "2043"
            ]
          },
          "metadata": {},
          "execution_count": 5
        }
      ]
    },
    {
      "cell_type": "markdown",
      "source": [
        "Listas"
      ],
      "metadata": {
        "id": "NOopDkLIKlfC"
      }
    },
    {
      "cell_type": "code",
      "source": [
        "listas= [[1,2,3], [7,4,5], [33,412,6,7,8]]\n",
        "a = listas[1][0]\n",
        "print(a)\n",
        "\n",
        "b = listas[2][1]\n",
        "print(b)\n",
        "\n",
        "lista_geral = [1,55,66,8,7,989,56,345,800,2043]\n",
        "\n",
        "print(7 in lista_geral)\n",
        "\n",
        "lista_geral.append(10)\n",
        "\n",
        "print(lista_geral)\n",
        "\n",
        "max(lista_geral)\n",
        "\n",
        "\n",
        "print('\\n')\n",
        "#lista com string, tupla, dicionario e float\n",
        "print('lista com string, tupla, dicionario e float: \\n'.capitalize())\n",
        "lst = ['String1', (90, 92), {'k1':'v1', 'k2':'v2'}, 99.98]\n",
        "print(lst)"
      ],
      "metadata": {
        "colab": {
          "base_uri": "https://localhost:8080/"
        },
        "id": "xEKTBuftISMn",
        "outputId": "694c67c0-dc45-41e9-d42d-a8f4b366327e"
      },
      "execution_count": null,
      "outputs": [
        {
          "output_type": "stream",
          "name": "stdout",
          "text": [
            "7\n",
            "412\n",
            "True\n",
            "[1, 55, 66, 8, 7, 989, 56, 345, 800, 2043, 10]\n",
            "\n",
            "\n",
            "Lista com string, tupla, dicionario e float: \n",
            "\n",
            "['String1', (90, 92), {'k1': 'v1', 'k2': 'v2'}, 99.98]\n"
          ]
        }
      ]
    },
    {
      "cell_type": "markdown",
      "source": [
        "Dicionario"
      ],
      "metadata": {
        "id": "-pDg2p5dNzG8"
      }
    },
    {
      "cell_type": "code",
      "source": [
        "estudantes = {'pedro':19, 'josue':34, 'sardinha':25, 'marialva':36, 'rafael':12}\n",
        "print(len(estudantes))\n",
        "\n",
        "print(estudantes.keys())\n",
        "print(estudantes.values())\n",
        "\n",
        "\n",
        "\n",
        "print(estudantes.items())\n",
        "\n",
        "estudantes2 = {'suse':25, 'diarora':77, 'vera':87}\n",
        "print(estudantes2)\n",
        "\n",
        "estudantes2.update(estudantes)\n",
        "\n",
        "print('\\ndicionario append')\n",
        "\n",
        "#adicionando um item ao dicionario\n",
        "estudantes2['marilda']= 28\n",
        "print(estudantes2)\n",
        "\n",
        "dic_combustivel = {'gasolina':1 , 'diesel':2, 'alcool':3, 'gas':[4,8]}\n",
        "\n",
        "print(dic_combustivel)\n",
        "\n"
      ],
      "metadata": {
        "colab": {
          "base_uri": "https://localhost:8080/"
        },
        "id": "zlEPHVPYN0xs",
        "outputId": "668c2075-aa35-44ec-c991-71e79f6e5633"
      },
      "execution_count": null,
      "outputs": [
        {
          "output_type": "stream",
          "name": "stdout",
          "text": [
            "5\n",
            "dict_keys(['pedro', 'josue', 'sardinha', 'marialva', 'rafael'])\n",
            "dict_values([19, 34, 25, 36, 12])\n",
            "dict_items([('pedro', 19), ('josue', 34), ('sardinha', 25), ('marialva', 36), ('rafael', 12)])\n",
            "{'suse': 25, 'diarora': 77, 'vera': 87}\n",
            "\n",
            "dicionario append\n",
            "{'suse': 25, 'diarora': 77, 'vera': 87, 'pedro': 19, 'josue': 34, 'sardinha': 25, 'marialva': 36, 'rafael': 12, 'marilda': 28}\n",
            "{'gasolina': 1, 'diesel': 2, 'alcool': 3, 'gas': [4, 8]}\n"
          ]
        }
      ]
    },
    {
      "cell_type": "markdown",
      "source": [
        "Tuplas sao imutaveis"
      ],
      "metadata": {
        "id": "NTK548JPTjak"
      }
    },
    {
      "cell_type": "code",
      "source": [
        "tupla1 = ('cadarço', 77, \"Leão\")\n",
        "\n",
        "print(tupla1)\n",
        "\n",
        "print(tupla1[0])\n",
        "\n",
        "tupla1[:2]\n",
        "\n",
        "tupla1.index(77)\n",
        "\n",
        "#converter tupla para lista:\n",
        "lista = list(tupla1)\n",
        "print(lista)\n",
        "\n",
        "##contagem quantas vezes aparecem o numero 4:\n",
        "t2 = (1, 2, 2, 3, 4, 4, 4, 5)\n",
        "print(t2.count(4))\n"
      ],
      "metadata": {
        "colab": {
          "base_uri": "https://localhost:8080/"
        },
        "id": "FSCBnwtuTmx4",
        "outputId": "70a2a7c4-1021-412a-bbdb-7bcba341cbd5"
      },
      "execution_count": null,
      "outputs": [
        {
          "output_type": "stream",
          "name": "stdout",
          "text": [
            "('cadarço', 77, 'Leão')\n",
            "cadarço\n",
            "['cadarço', 77, 'Leão']\n",
            "3\n"
          ]
        }
      ]
    },
    {
      "cell_type": "markdown",
      "source": [
        "for instruction"
      ],
      "metadata": {
        "id": "MTNkRpfPEKbg"
      }
    },
    {
      "cell_type": "code",
      "source": [
        "for i in \"python\":\n",
        "    if i == \"h\":\n",
        "      continue\n",
        "    print(i)\n"
      ],
      "metadata": {
        "colab": {
          "base_uri": "https://localhost:8080/"
        },
        "id": "Wzwz9aZADoHk",
        "outputId": "fdc82fe1-04de-407f-9633-399f9e525838"
      },
      "execution_count": null,
      "outputs": [
        {
          "output_type": "stream",
          "name": "stdout",
          "text": [
            "p\n",
            "y\n",
            "t\n",
            "o\n",
            "n\n"
          ]
        }
      ]
    },
    {
      "cell_type": "code",
      "source": [
        "a = 0\n",
        "while a < 5:\n",
        "  a+= 1\n",
        "  print(a)\n",
        "\n",
        "\n",
        "  "
      ],
      "metadata": {
        "id": "1Xuo9dftEVt3"
      },
      "execution_count": null,
      "outputs": []
    },
    {
      "cell_type": "code",
      "source": [
        "lista = ['abacate', 'melancia', 'mamao', 'laranja']\n",
        "tamanho = len(lista)\n",
        "for i in range(0, tamanho):\n",
        "  print(lista[i])\n",
        "\n",
        "\n",
        "dir(print)"
      ],
      "metadata": {
        "id": "BwQ5YTNWonGl"
      },
      "execution_count": null,
      "outputs": []
    },
    {
      "cell_type": "markdown",
      "source": [
        "Funcao com numero de argumento variavel:"
      ],
      "metadata": {
        "id": "znSTAL0VxRaA"
      }
    },
    {
      "cell_type": "code",
      "source": [
        "def varInfo(arg, *vartuple):\n",
        "  \n",
        "  for item in vartuple:\n",
        "    print(item)\n",
        "\n",
        "varInfo('colmeia', 'abelha1', 'abelha2', 'abelha3', 'abelha4')\n",
        "\n",
        "varInfo('colmeia')\n",
        "\n",
        "\n",
        "p = lambda x : x%2 ==0\n",
        "print(p(3))\n",
        "\n",
        "primeiraPosicao = lambda s: s[0]\n",
        "primeiraPosicao('x-burguer')"
      ],
      "metadata": {
        "id": "lOKl3u_ZxXie"
      },
      "execution_count": null,
      "outputs": []
    },
    {
      "cell_type": "markdown",
      "source": [
        "Lambda - Convert Celsius para Fahrenheit"
      ],
      "metadata": {
        "id": "uc-ybpGS4JkH"
      }
    },
    {
      "cell_type": "code",
      "source": [
        "Celsius = [39.2, 36.5, 37.3, 37.8]\n",
        "Fahrenheit = map(lambda x: (float(9)/5)*x + 32, Celsius)\n",
        "print (list(Fahrenheit))"
      ],
      "metadata": {
        "colab": {
          "base_uri": "https://localhost:8080/"
        },
        "id": "BftYXyT64WA_",
        "outputId": "00f6c5d2-47bb-489d-a55a-c03fe565b21b"
      },
      "execution_count": null,
      "outputs": [
        {
          "output_type": "stream",
          "name": "stdout",
          "text": [
            "[102.56, 97.7, 99.14, 100.03999999999999]\n"
          ]
        }
      ]
    },
    {
      "cell_type": "code",
      "source": [
        "temperatura = 40  \n",
        "while temperatura > 35: \n",
        "    print(temperatura)\n",
        "    temperatura = temperatura - 1\n",
        "\n",
        "\n",
        "#Qual o resultado do código abaixo:\n",
        "listaB = [32,53,85,10,15,17,19]\n",
        "soma = 0\n",
        "for i in listaB:\n",
        "    double_i = i * 2\n",
        "    soma += double_i\n",
        "\n",
        "print(soma)"
      ],
      "metadata": {
        "id": "gZ-9BifA4-jt"
      },
      "execution_count": null,
      "outputs": []
    },
    {
      "cell_type": "markdown",
      "source": [
        "Leitura de arquivo:"
      ],
      "metadata": {
        "id": "rmNGiztf7n4Z"
      }
    },
    {
      "cell_type": "code",
      "source": [
        "arq1 =  open(\"/content/drive/MyDrive/TI/codigos/dados/filmes_name.basics.txt\", \"r\")\n",
        "\n",
        "print(\"\\n.........................\")\n",
        "print(arq1.read(25))\n",
        "arq1.seek(1,0)\n",
        "print(\"\\n.........................\")\n",
        "\n",
        "print(arq1.read())\n",
        "\n",
        "arq1.tell()\n",
        "\n"
      ],
      "metadata": {
        "colab": {
          "base_uri": "https://localhost:8080/"
        },
        "id": "Jjm_3BdN7rff",
        "outputId": "f4794e9e-b19b-4e82-fe2a-e6cb000c0e2f"
      },
      "execution_count": null,
      "outputs": [
        {
          "output_type": "stream",
          "name": "stdout",
          "text": [
            "\n",
            ".........................\n",
            "Inserir linha ao abrir um\n",
            "\n",
            ".........................\n",
            "nserir linha ao abrir um arquivo.\n"
          ]
        },
        {
          "output_type": "execute_result",
          "data": {
            "text/plain": [
              "34"
            ]
          },
          "metadata": {},
          "execution_count": 5
        }
      ]
    },
    {
      "cell_type": "markdown",
      "source": [
        "Exemplo Pandas:"
      ],
      "metadata": {
        "id": "HmhzHoSlIuMh"
      }
    },
    {
      "cell_type": "code",
      "source": [
        "import pandas as pd\n",
        "\n",
        "file_name = \"/content/drive/MyDrive/TI/codigos/dados/filmes_principals.csv\"\n",
        "df = pd.read_csv(file_name)\n",
        "\n",
        "df.head()\n",
        "\n"
      ],
      "metadata": {
        "id": "WdDm3ck9IymE"
      },
      "execution_count": null,
      "outputs": []
    },
    {
      "cell_type": "markdown",
      "source": [
        "Gravar em arquivo no Google Drive "
      ],
      "metadata": {
        "id": "V0SmH9laMyi9"
      }
    },
    {
      "cell_type": "code",
      "source": [
        "texto = \"Cientista de dados esta crescendo demais\\n\"\n",
        "texto += \"Esses profissionais precisam aprener a programar, estatistica e Machine Learning\\n\"\n",
        "texto += \"e tambem Big Data\\n\"\n",
        "\n",
        "import os\n",
        "\n",
        "arquivo = open(os.path.join(\"/content/sample_data/gravado_via_python_no_drive.txt\"), \"w\")\n",
        "arq_g_drive = open(os.path.join(\"/content/drive/MyDrive/TI/codigos/dados/dados_g_drive_externo.txt\"), \"w\")\n",
        "\n",
        "for palavra in texto.split():\n",
        "  arq_g_drive.write(palavra + ' ')\n",
        "\n",
        "arq_g_drive.close()\n",
        "\n"
      ],
      "metadata": {
        "id": "ESrCO5wLM05j"
      },
      "execution_count": null,
      "outputs": []
    },
    {
      "cell_type": "code",
      "source": [
        "arq_g_drive = open(\"/content/drive/MyDrive/TI/codigos/dados/dados_g_drive_externo.txt\", \"r\")\n",
        "conteudo = arq_g_drive.read()\n",
        "arq_g_drive.close()\n",
        "\n",
        "print(conteudo)\n"
      ],
      "metadata": {
        "colab": {
          "base_uri": "https://localhost:8080/"
        },
        "id": "qmdnqT7Rc70M",
        "outputId": "71afadf8-1842-4c4f-d9b1-80e5e289dbe7"
      },
      "execution_count": null,
      "outputs": [
        {
          "output_type": "stream",
          "name": "stdout",
          "text": [
            "Cientista de dados esta crescendo demais Esses profissionais precisam aprener a programar, estatistica e Machine Learning e tambem Big Data \n"
          ]
        }
      ]
    },
    {
      "cell_type": "markdown",
      "source": [
        "Dicionario:"
      ],
      "metadata": {
        "id": "z_abMObhjYgg"
      }
    },
    {
      "cell_type": "code",
      "source": [
        "dict = {\n",
        "        'nome':'Guido Van Hossum',\n",
        "    'linguagem':'Python',\n",
        "    'similar' : ['C','modula-3','lisp'],\n",
        "    'users':1000000\n",
        "}\n",
        "\n",
        "for k, v in dict.items():\n",
        "  print(k,v)"
      ],
      "metadata": {
        "colab": {
          "base_uri": "https://localhost:8080/"
        },
        "id": "xKLhqbujjaRv",
        "outputId": "421396ba-5ff7-4ba6-defb-e33691cafd07"
      },
      "execution_count": null,
      "outputs": [
        {
          "output_type": "stream",
          "name": "stdout",
          "text": [
            "nome Guido Van Hossum\n",
            "linguagem Python\n",
            "similar ['C', 'modula-3', 'lisp']\n",
            "users 1000000\n"
          ]
        }
      ]
    },
    {
      "cell_type": "code",
      "source": [
        "import json\n",
        "\n",
        "json.dumps(dict)"
      ],
      "metadata": {
        "colab": {
          "base_uri": "https://localhost:8080/",
          "height": 52
        },
        "id": "4MiqkDjfkVy2",
        "outputId": "96a42219-f433-42f1-bcc5-8c576723e987"
      },
      "execution_count": null,
      "outputs": [
        {
          "output_type": "execute_result",
          "data": {
            "text/plain": [
              "'{\"nome\": \"Guido Van Hossum\", \"linguagem\": \"Python\", \"similar\": [\"C\", \"modula-3\", \"lisp\"], \"users\": 1000000}'"
            ],
            "application/vnd.google.colaboratory.intrinsic+json": {
              "type": "string"
            }
          },
          "metadata": {},
          "execution_count": 35
        }
      ]
    },
    {
      "cell_type": "markdown",
      "source": [
        "Funcao Map - recebe uma funcao como parametro e uma lista ou sequencia."
      ],
      "metadata": {
        "id": "M827Ke8a9Ei6"
      }
    },
    {
      "cell_type": "code",
      "source": [
        "def fahrenheit(T):\n",
        "  return ((float(9/5)*T+32))\n",
        "\n",
        "\n",
        "def celsius(T):\n",
        "  return (float(5/9)* (T-32))    \n",
        "\n",
        "temperaturas = [0, 22.5, 40, 100]\n",
        "\n",
        "list(map(fahrenheit, temperaturas))\n",
        "\n",
        "\n"
      ],
      "metadata": {
        "colab": {
          "base_uri": "https://localhost:8080/"
        },
        "id": "2ORhYDF89GfN",
        "outputId": "c7e0c81a-473e-4987-cb23-98065a307344"
      },
      "execution_count": 4,
      "outputs": [
        {
          "output_type": "execute_result",
          "data": {
            "text/plain": [
              "[32.0, 72.5, 104.0, 212.0]"
            ]
          },
          "metadata": {},
          "execution_count": 4
        }
      ]
    }
  ]
}