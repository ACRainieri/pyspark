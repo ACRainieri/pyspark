{
  "nbformat": 4,
  "nbformat_minor": 0,
  "metadata": {
    "colab": {
      "name": "Copy of funcoes_spark_python.ipynb",
      "provenance": [],
      "collapsed_sections": [],
      "mount_file_id": "1hDyhp1Et4kfrutFxUjwEII6QQ8dF6RCX",
      "authorship_tag": "ABX9TyOMcwDClvId72QWIsHi2yYV",
      "include_colab_link": true
    },
    "kernelspec": {
      "name": "python3",
      "display_name": "Python 3"
    },
    "language_info": {
      "name": "python"
    }
  },
  "cells": [
    {
      "cell_type": "markdown",
      "metadata": {
        "id": "view-in-github",
        "colab_type": "text"
      },
      "source": [
        "<a href=\"https://colab.research.google.com/github/ACRainieri/pyspark/blob/main/Copy_of_funcoes_spark_python.ipynb\" target=\"_parent\"><img src=\"https://colab.research.google.com/assets/colab-badge.svg\" alt=\"Open In Colab\"/></a>"
      ]
    },
    {
      "cell_type": "code",
      "source": [
        "result = lambda n: n**2\n",
        "\n",
        "result(9)\n",
        "\n",
        "ultimo_reg = lambda s: s[-1]\n",
        "\n",
        "ultimo_reg(\"VAGAS_WA\")\n",
        "\n"
      ],
      "metadata": {
        "colab": {
          "base_uri": "https://localhost:8080/",
          "height": 35
        },
        "id": "a3N7bvQeMFeN",
        "outputId": "687dd29f-e4f1-4fae-8b56-ccbe1702d4cd"
      },
      "execution_count": 13,
      "outputs": [
        {
          "output_type": "execute_result",
          "data": {
            "text/plain": [
              "'A'"
            ],
            "application/vnd.google.colaboratory.intrinsic+json": {
              "type": "string"
            }
          },
          "metadata": {},
          "execution_count": 13
        }
      ]
    }
  ]
}