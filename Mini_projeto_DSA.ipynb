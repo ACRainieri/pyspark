{
  "cells": [
    {
      "cell_type": "markdown",
      "metadata": {
        "id": "view-in-github",
        "colab_type": "text"
      },
      "source": [
        "<a href=\"https://colab.research.google.com/github/ACRainieri/pyspark/blob/main/Mini_projeto_DSA.ipynb\" target=\"_parent\"><img src=\"https://colab.research.google.com/assets/colab-badge.svg\" alt=\"Open In Colab\"/></a>"
      ]
    },
    {
      "cell_type": "code",
      "execution_count": null,
      "metadata": {
        "colab": {
          "base_uri": "https://localhost:8080/"
        },
        "id": "CfRyGsGeTKtx",
        "outputId": "254c9b21-b0d9-4fbe-df1c-7882cad5cb11"
      },
      "outputs": [
        {
          "name": "stdout",
          "output_type": "stream",
          "text": [
            "\u001b[K     |████████████████████████████████| 10.1 MB 6.0 MB/s \n",
            "\u001b[?25h  Installing build dependencies ... \u001b[?25l\u001b[?25hdone\n",
            "  Getting requirements to build wheel ... \u001b[?25l\u001b[?25hdone\n",
            "    Preparing wheel metadata ... \u001b[?25l\u001b[?25hdone\n",
            "  Building wheel for pycountry (PEP 517) ... \u001b[?25l\u001b[?25hdone\n"
          ]
        }
      ],
      "source": [
        "!pip install -q imdb-sqlite\n",
        "!pip install -q pycountry"
      ]
    },
    {
      "cell_type": "code",
      "execution_count": null,
      "metadata": {
        "id": "fVT7BxHGgFao"
      },
      "outputs": [],
      "source": [
        "import re\n",
        "import time\n",
        "import sqlite3\n",
        "import pycountry\n",
        "import numpy as np\n",
        "import pandas as pd\n",
        "import matplotlib.pyplot as plt\n",
        "import seaborn as sns\n",
        "from matplotlib import cm\n",
        "from sklearn.feature_extraction.text import CountVectorizer\n",
        "import warnings \n",
        "\n",
        "warnings.filterwarnings('ignore')\n",
        "sns.set_theme(style= 'whitegrid')\n"
      ]
    },
    {
      "cell_type": "code",
      "execution_count": null,
      "metadata": {
        "colab": {
          "background_save": true,
          "base_uri": "https://localhost:8080/"
        },
        "id": "lLZzDrc8iQtb",
        "outputId": "e9734b32-7a8f-4ce7-d3bf-114147b3cb8d"
      },
      "outputs": [
        {
          "name": "stdout",
          "output_type": "stream",
          "text": [
            "2022-09-09 19:13:26,282 GET https://datasets.imdbws.com/name.basics.tsv.gz -> downloads/name.basics.tsv.gz\n",
            "2022-09-09 19:13:31,686 GET https://datasets.imdbws.com/title.basics.tsv.gz -> downloads/title.basics.tsv.gz\n",
            "2022-09-09 19:13:35,324 GET https://datasets.imdbws.com/title.akas.tsv.gz -> downloads/title.akas.tsv.gz\n",
            "2022-09-09 19:13:37,933 GET https://datasets.imdbws.com/title.principals.tsv.gz -> downloads/title.principals.tsv.gz\n",
            "2022-09-09 19:13:47,164 GET https://datasets.imdbws.com/title.episode.tsv.gz -> downloads/title.episode.tsv.gz\n",
            "2022-09-09 19:13:47,590 GET https://datasets.imdbws.com/title.ratings.tsv.gz -> downloads/title.ratings.tsv.gz\n",
            "2022-09-09 19:13:47,866 Populating database: imdb.db\n",
            "2022-09-09 19:13:47,867 Applying schema\n",
            "2022-09-09 19:13:47,868 Importing file: downloads/name.basics.tsv.gz\n",
            "2022-09-09 19:13:47,868 Reading number of rows ...\n",
            "2022-09-09 19:13:54,300 Inserting rows into table: people\n",
            "100% 11914965/11914965 [02:12<00:00, 89994.52 rows/s]\n",
            "2022-09-09 19:16:06,708 Importing file: downloads/title.basics.tsv.gz\n",
            "2022-09-09 19:16:06,708 Reading number of rows ...\n",
            "2022-09-09 19:16:11,963 Inserting rows into table: titles\n",
            "100% 9214174/9214174 [02:08<00:00, 71720.24 rows/s]\n",
            "2022-09-09 19:18:20,441 Importing file: downloads/title.akas.tsv.gz\n",
            "2022-09-09 19:18:20,441 Reading number of rows ...\n",
            "2022-09-09 19:18:30,211 Inserting rows into table: akas\n",
            "100% 33189309/33189309 [06:30<00:00, 84992.35 rows/s]\n",
            "2022-09-09 19:25:00,716 Importing file: downloads/title.principals.tsv.gz\n",
            "2022-09-09 19:25:00,717 Reading number of rows ...\n",
            "2022-09-09 19:25:15,905 Inserting rows into table: crew\n",
            "100% 51994365/51994365 [07:45<00:00, 111703.05 rows/s]\n",
            "2022-09-09 19:33:01,380 Importing file: downloads/title.episode.tsv.gz\n",
            "2022-09-09 19:33:01,380 Reading number of rows ...\n",
            "2022-09-09 19:33:02,669 Inserting rows into table: episodes\n",
            "100% 6943030/6943030 [00:48<00:00, 144226.59 rows/s]\n",
            "2022-09-09 19:33:50,812 Importing file: downloads/title.ratings.tsv.gz\n",
            "2022-09-09 19:33:50,812 Reading number of rows ...\n",
            "2022-09-09 19:33:51,005 Inserting rows into table: ratings\n",
            "100% 1258954/1258954 [00:09<00:00, 138025.14 rows/s]\n",
            "2022-09-09 19:34:00,130 Creating table indices ...\n",
            "2022-09-09 19:37:22,233 Import successful\n",
            "CPU times: user 23.4 s, sys: 2.97 s, total: 26.4 s\n",
            "Wall time: 23min 56s\n"
          ]
        }
      ],
      "source": [
        "%%time\n",
        "!imdb-sqlite"
      ]
    },
    {
      "cell_type": "code",
      "execution_count": 2,
      "metadata": {
        "id": "PybWnSlBjkuK",
        "colab": {
          "base_uri": "https://localhost:8080/",
          "height": 166
        },
        "outputId": "899ed98a-c817-4361-e291-2b7cb05b70a6"
      },
      "outputs": [
        {
          "output_type": "error",
          "ename": "NameError",
          "evalue": "ignored",
          "traceback": [
            "\u001b[0;31m---------------------------------------------------------------------------\u001b[0m",
            "\u001b[0;31mNameError\u001b[0m                                 Traceback (most recent call last)",
            "\u001b[0;32m<ipython-input-2-8b7da9f4f12e>\u001b[0m in \u001b[0;36m<module>\u001b[0;34m\u001b[0m\n\u001b[0;32m----> 1\u001b[0;31m \u001b[0mconn\u001b[0m \u001b[0;34m=\u001b[0m \u001b[0msqlite3\u001b[0m\u001b[0;34m.\u001b[0m\u001b[0mconnect\u001b[0m\u001b[0;34m(\u001b[0m\u001b[0;34m'imdb.db'\u001b[0m\u001b[0;34m)\u001b[0m\u001b[0;34m\u001b[0m\u001b[0;34m\u001b[0m\u001b[0m\n\u001b[0m",
            "\u001b[0;31mNameError\u001b[0m: name 'sqlite3' is not defined"
          ]
        }
      ],
      "source": [
        "conn = sqlite3.connect('imdb.db')"
      ]
    },
    {
      "cell_type": "code",
      "execution_count": null,
      "metadata": {
        "colab": {
          "base_uri": "https://localhost:8080/"
        },
        "id": "wtXq5zt7kBDl",
        "outputId": "aec213ec-1df3-4f3e-d7f6-315100776ffb"
      },
      "outputs": [
        {
          "data": {
            "text/plain": [
              "0      people\n",
              "1      titles\n",
              "2        akas\n",
              "3        crew\n",
              "4    episodes\n",
              "5     ratings\n",
              "Name: Table_Name, dtype: object"
            ]
          },
          "execution_count": 7,
          "metadata": {},
          "output_type": "execute_result"
        }
      ],
      "source": [
        "tabelas = pd.read_sql_query(\"SELECT NAME as 'Table_Name' FROM sqlite_master WHERE type = 'table'\", conn)\n",
        "\n",
        "tabelas.head()  \n",
        "tabelas.Table_Name\n"
      ]
    },
    {
      "cell_type": "code",
      "execution_count": 1,
      "metadata": {
        "colab": {
          "base_uri": "https://localhost:8080/",
          "height": 183
        },
        "id": "bxa4f2Jb2WWN",
        "outputId": "8e976c53-936e-4417-d2cb-a98bb1e49d93"
      },
      "outputs": [
        {
          "output_type": "error",
          "ename": "NameError",
          "evalue": "ignored",
          "traceback": [
            "\u001b[0;31m---------------------------------------------------------------------------\u001b[0m",
            "\u001b[0;31mNameError\u001b[0m                                 Traceback (most recent call last)",
            "\u001b[0;32m<ipython-input-1-6c237175df8e>\u001b[0m in \u001b[0;36m<module>\u001b[0;34m\u001b[0m\n\u001b[0;32m----> 1\u001b[0;31m \u001b[0mtabelas\u001b[0m \u001b[0;34m=\u001b[0m \u001b[0mtabelas\u001b[0m\u001b[0;34m[\u001b[0m\u001b[0;34m\"Table_Name\"\u001b[0m\u001b[0;34m]\u001b[0m\u001b[0;34m.\u001b[0m\u001b[0mvalues\u001b[0m\u001b[0;34m.\u001b[0m\u001b[0mtolist\u001b[0m\u001b[0;34m(\u001b[0m\u001b[0;34m)\u001b[0m\u001b[0;34m\u001b[0m\u001b[0;34m\u001b[0m\u001b[0m\n\u001b[0m\u001b[1;32m      2\u001b[0m \u001b[0mtabelas\u001b[0m\u001b[0;34m\u001b[0m\u001b[0;34m\u001b[0m\u001b[0m\n",
            "\u001b[0;31mNameError\u001b[0m: name 'tabelas' is not defined"
          ]
        }
      ],
      "source": [
        "tabelas = tabelas[\"Table_Name\"].values.tolist()\n",
        "tabelas"
      ]
    },
    {
      "cell_type": "code",
      "execution_count": null,
      "metadata": {
        "id": "y9943bv-27I0"
      },
      "outputs": [],
      "source": [
        "for tabela in tabelas:\n",
        "  #consulta = \"PRAGMA_TABLE_INFO({})\".format(tabela)\n",
        "  consulta = 'PRAGMA table_info(' + tabela +')'\n",
        "  resultado = pd.read_sql_query(consulta, conn)\n",
        "  print(\"Esquema da Tabela: \"+ tabela)\n",
        "  display(resultado)\n",
        " "
      ]
    },
    {
      "cell_type": "markdown",
      "metadata": {
        "id": "r9wu5-VDZv_v"
      },
      "source": [
        "Ajustando um Dataset, agrupando em outros os valores menores de cinco porcento o restante da lista."
      ]
    },
    {
      "cell_type": "code",
      "execution_count": null,
      "metadata": {
        "colab": {
          "base_uri": "https://localhost:8080/",
          "height": 235
        },
        "id": "WWeWk7DAfLUP",
        "outputId": "c8434e23-59c4-42f3-b80d-b57f997950ae"
      },
      "outputs": [
        {
          "ename": "NameError",
          "evalue": "ignored",
          "output_type": "error",
          "traceback": [
            "\u001b[0;31m---------------------------------------------------------------------------\u001b[0m",
            "\u001b[0;31mNameError\u001b[0m                                 Traceback (most recent call last)",
            "\u001b[0;32m<ipython-input-3-b4e089ba6e73>\u001b[0m in \u001b[0;36m<module>\u001b[0;34m\u001b[0m\n\u001b[1;32m      1\u001b[0m \u001b[0mconsulta1\u001b[0m \u001b[0;34m=\u001b[0m \u001b[0;34m'''SELECT type, COUNT(*) as COUNT FROM titles group by type'''\u001b[0m\u001b[0;34m\u001b[0m\u001b[0;34m\u001b[0m\u001b[0m\n\u001b[0;32m----> 2\u001b[0;31m \u001b[0mresultado1\u001b[0m \u001b[0;34m=\u001b[0m \u001b[0mpd\u001b[0m\u001b[0;34m.\u001b[0m\u001b[0mread_sql_query\u001b[0m\u001b[0;34m(\u001b[0m\u001b[0mconsulta1\u001b[0m\u001b[0;34m,\u001b[0m \u001b[0mconn\u001b[0m\u001b[0;34m)\u001b[0m\u001b[0;34m\u001b[0m\u001b[0;34m\u001b[0m\u001b[0m\n\u001b[0m\u001b[1;32m      3\u001b[0m \u001b[0;34m\u001b[0m\u001b[0m\n\u001b[1;32m      4\u001b[0m \u001b[0mresultado1\u001b[0m\u001b[0;34m[\u001b[0m\u001b[0;34m'percentual'\u001b[0m\u001b[0;34m]\u001b[0m \u001b[0;34m=\u001b[0m \u001b[0;34m(\u001b[0m\u001b[0mresultado1\u001b[0m\u001b[0;34m[\u001b[0m\u001b[0;34m'COUNT'\u001b[0m\u001b[0;34m]\u001b[0m \u001b[0;34m/\u001b[0m \u001b[0mresultado1\u001b[0m\u001b[0;34m[\u001b[0m\u001b[0;34m'COUNT'\u001b[0m\u001b[0;34m]\u001b[0m\u001b[0;34m.\u001b[0m\u001b[0msum\u001b[0m\u001b[0;34m(\u001b[0m\u001b[0;34m)\u001b[0m\u001b[0;34m)\u001b[0m \u001b[0;34m*\u001b[0m \u001b[0;36m100\u001b[0m\u001b[0;34m\u001b[0m\u001b[0;34m\u001b[0m\u001b[0m\n\u001b[1;32m      5\u001b[0m \u001b[0;34m\u001b[0m\u001b[0m\n",
            "\u001b[0;31mNameError\u001b[0m: name 'pd' is not defined"
          ]
        }
      ],
      "source": [
        "consulta1 = '''SELECT type, COUNT(*) as COUNT FROM titles group by type'''\n",
        "resultado1 = pd.read_sql_query(consulta1, conn)\n",
        "\n",
        "resultado1['percentual'] = (resultado1['COUNT'] / resultado1['COUNT'].sum()) * 100\n",
        "\n",
        "others = {}\n",
        "\n",
        "others['COUNT'] = resultado1[resultado1['percentual'] < 5] ['percentual'].sum()\n",
        "\n",
        "others['type'] = 'others'\n",
        "\n",
        "#display(resultado1)\n",
        "display(others)\n",
        "\n",
        "#filtra o dataframe de resultado\n",
        "resultado1 = resultado1[resultado1['percentual'] > 5]\n",
        "\n",
        "display(resultado1)\n",
        "\n",
        "resultado1 = resultado1.append(others, ignore_index=True)\n",
        "\n",
        "labels = [str(resultado1['type'][i]) + ' '+'['+ str(round(resultado1['percentual'][i], 2)) + '%'+']' for i in resultado1.index]\n",
        "\n",
        "#Mapa de cores\n",
        "cs = cm.Set3(np.arange(100))\n",
        "\n",
        "#Criar figura\n",
        "f = plt.figure()\n",
        "\n",
        "plt.pie(resultado1['COUNT'], labeldistance=1, radius=3, colors=cs, wedgeprops=dict(width=0.8))\n",
        "plt.legend(labels = labels, loc = 'center', prop = {'size':12})\n"
      ]
    }
  ],
  "metadata": {
    "colab": {
      "collapsed_sections": [],
      "provenance": [],
      "authorship_tag": "ABX9TyNRt6wNAIPDgj6Fw4bvXISd",
      "include_colab_link": true
    },
    "kernelspec": {
      "display_name": "Python 3",
      "name": "python3"
    },
    "language_info": {
      "name": "python"
    }
  },
  "nbformat": 4,
  "nbformat_minor": 0
}