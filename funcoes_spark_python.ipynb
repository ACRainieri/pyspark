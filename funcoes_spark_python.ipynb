{
  "nbformat": 4,
  "nbformat_minor": 0,
  "metadata": {
    "colab": {
      "provenance": [],
      "collapsed_sections": [],
      "mount_file_id": "19qac6eiSrY_i6rudCO-Amtym_Up5v1Jt",
      "authorship_tag": "ABX9TyNWjZARH07wzDKHP4VPZccM",
      "include_colab_link": true
    },
    "kernelspec": {
      "name": "python3",
      "display_name": "Python 3"
    },
    "language_info": {
      "name": "python"
    }
  },
  "cells": [
    {
      "cell_type": "markdown",
      "metadata": {
        "id": "view-in-github",
        "colab_type": "text"
      },
      "source": [
        "<a href=\"https://colab.research.google.com/github/ACRainieri/pyspark/blob/main/funcoes_spark_python.ipynb\" target=\"_parent\"><img src=\"https://colab.research.google.com/assets/colab-badge.svg\" alt=\"Open In Colab\"/></a>"
      ]
    },
    {
      "cell_type": "markdown",
      "source": [
        "Encontrando o último caracter da palavra."
      ],
      "metadata": {
        "id": "2v1SOQ4ufmvM"
      }
    },
    {
      "cell_type": "code",
      "source": [
        "\n",
        "\n",
        "result = lambda n: n**2\n",
        "\n",
        "result(9)\n",
        "\n",
        "ultimo_reg = lambda s: s[-1]\n",
        "\n",
        "ultimo_reg(\"VAGAS_WA\")\n"
      ],
      "metadata": {
        "id": "a3N7bvQeMFeN"
      },
      "execution_count": null,
      "outputs": []
    },
    {
      "cell_type": "code",
      "source": [
        "#verificar par ou impar\n",
        "impar = lambda i: i%2 > 0\n",
        "\n",
        "impar(4)"
      ],
      "metadata": {
        "id": "IEAeXnh0ReqT"
      },
      "execution_count": null,
      "outputs": []
    },
    {
      "cell_type": "code",
      "source": [
        "result = lambda x: x> 10\n",
        "\n",
        "result(11)"
      ],
      "metadata": {
        "id": "dT6sx8ixR5z4"
      },
      "execution_count": null,
      "outputs": []
    },
    {
      "cell_type": "code",
      "source": [
        "lista = [1,3,6,4,8,23,2]\n",
        "\n",
        "r = lambda dobro: dobro * 2\n",
        "\n",
        "r(lista)"
      ],
      "metadata": {
        "id": "GHH8wX8oS2yO"
      },
      "execution_count": null,
      "outputs": []
    },
    {
      "cell_type": "code",
      "source": [
        "r=lambda x, y: x+y\n",
        "r(2,5)"
      ],
      "metadata": {
        "id": "IBcKfKoITgO-"
      },
      "execution_count": null,
      "outputs": []
    },
    {
      "cell_type": "markdown",
      "source": [
        "Ordenando Inversamente - Inverse Order"
      ],
      "metadata": {
        "id": "-dnjQbR2U1Us"
      }
    },
    {
      "cell_type": "code",
      "source": [
        "ordem_inversa = lambda i: i [::-1]\n",
        "ordem_inversa(\"escrevendo ao contrario\")"
      ],
      "metadata": {
        "id": "WEumYk7oUvDd"
      },
      "execution_count": null,
      "outputs": []
    },
    {
      "cell_type": "code",
      "source": [
        "lista=[1,2,3,4,5,6,7,8,9,10, 37]\n",
        "print(lista)\n",
        "type(lista)\n",
        "\n",
        "lst =[]\n",
        "\n",
        "for i in lista:\n",
        "  n = i * 2\n",
        "  lst.append(n)\n",
        "\n",
        "print(lst)"
      ],
      "metadata": {
        "id": "xV-AUYc_V4TJ"
      },
      "execution_count": null,
      "outputs": []
    },
    {
      "cell_type": "markdown",
      "source": [
        "List Comprehencion - elevando ao quadrado todos os itens de uma lista ao quadrado"
      ],
      "metadata": {
        "id": "CyhfOkoeY22-"
      }
    },
    {
      "cell_type": "code",
      "source": [
        "l = [item ** 2 for item in lista]\n",
        "print(l)\n"
      ],
      "metadata": {
        "id": "bv_oP4tFY7R7"
      },
      "execution_count": null,
      "outputs": []
    },
    {
      "cell_type": "markdown",
      "source": [
        "Contando palavras com List Comprehension"
      ],
      "metadata": {
        "id": "Wy1xDBpCbdcL"
      }
    },
    {
      "cell_type": "code",
      "source": [
        "frases = [\n",
        "          \"Tenho em mim todos os sonhos do mundo.\",\n",
        "          \"Somos do tamanho de nossos sonhos.\",\n",
        "          \"O coração se pudesse pensar pararia.\",\n",
        "          \"O amor é um sono que chega para o pouco ser que se é.\",\n",
        "          \"Ler é sonhar pela mão de outrem.\",\n",
        "          \"Todo o homem de ação é essencialmente animado e otimista porque quem não sente é feliz.\",\n",
        "          \"O esforço é grande e o homem é pequeno.\",\n",
        "          \"Minha alma está cansada da minha vida.\",\n",
        "          \"Nenhum livro para crianças deve ser escrito para crianças.\",\n",
        "          \"Quanto mais fundamente penso, mais profundamente me descompreendo.\",\n",
        "          \"Tudo o que chega, chega sempre por alguma razão.\"          \n",
        "          ]\n",
        "\n",
        "[item for item in frases if item.count(\"é\") > 1]\n"
      ],
      "metadata": {
        "id": "TEpe9ylEbjpp"
      },
      "execution_count": null,
      "outputs": []
    },
    {
      "cell_type": "markdown",
      "source": [
        "Converter itens de uma lista para float."
      ],
      "metadata": {
        "id": "iq8IDJhGe7BR"
      }
    },
    {
      "cell_type": "code",
      "source": [
        "list = ['1', '2', '3', '4', '5']\n",
        "\n",
        "[float(i) for i in list if i > '3'] "
      ],
      "metadata": {
        "id": "qp8phug5e_Ah"
      },
      "execution_count": null,
      "outputs": []
    },
    {
      "cell_type": "code",
      "source": [
        "from math import pi\n",
        "[str(round(pi, i)) for i in range(1, 16)]"
      ],
      "metadata": {
        "id": "lCNGUsxH__EY"
      },
      "execution_count": null,
      "outputs": []
    },
    {
      "cell_type": "markdown",
      "source": [
        "Map "
      ],
      "metadata": {
        "id": "ypVbXS93Gwcy"
      }
    },
    {
      "cell_type": "code",
      "source": [
        "lista_qq =[1,2,3,4,5,6,7,8,9,10,11]\n",
        "\n",
        "def f_impar(num):\n",
        "  if num%2 > 0:\n",
        "    return True\n",
        "  else:\n",
        "    return False\n",
        "\n",
        "for i in lista_qq:\n",
        "  print(i)\n",
        "  #print(f_impar(i))\n",
        "\n",
        "m = [res for res in map(f_impar,  lista_qq)]\n",
        "print(m)\n",
        "\n",
        "\n",
        "#listcomprehension para converter para lista\n",
        "a = [chr(i) for i in [70,50,10,96, 13]]\n",
        "print(a)"
      ],
      "metadata": {
        "id": "mKqbfpzLGuyC"
      },
      "execution_count": null,
      "outputs": []
    },
    {
      "cell_type": "markdown",
      "source": [
        "Função Filter "
      ],
      "metadata": {
        "id": "mkLawZGtQoVD"
      }
    },
    {
      "cell_type": "code",
      "source": [
        "frases = [\n",
        "          \"Tenho em mim todos os sonhos do mundo.\",\n",
        "          \"Somos do tamanho de nossos sonhos.\",\n",
        "          \"O coração se pudesse pensar pararia.\",\n",
        "          \"O amor é um sono que chega para o pouco ser que se é.\",\n",
        "          \"Ler é sonhar pela mão de outrem.\",\n",
        "          \"Todo o homem de ação é essencialmente animado e otimista porque quem não sente é feliz.\",\n",
        "          \"O esforço é grande e o homem é pequeno.\",\n",
        "          \"Minha alma está cansada da minha vida.\",\n",
        "          \"Nenhum livro para crianças deve ser escrito para crianças.\",\n",
        "          \"Quanto mais fundamente penso, mais profundamente me descompreendo.\",\n",
        "          \"Tudo o que chega, chega sempre por alguma razão.\"          \n",
        "          ]\n",
        "\n",
        "def count_words(palavra):\n",
        "  return palavra.count(\"razão\") >= 1\n",
        "\n",
        "#list(filter(count_words, frases))\n",
        "\n",
        "m = [palavras  for palavras in map(count_words,  frases)]\n",
        "m\n",
        "\n"
      ],
      "metadata": {
        "id": "FK90DVxeQsOs"
      },
      "execution_count": null,
      "outputs": []
    },
    {
      "cell_type": "markdown",
      "source": [
        "set - conjuntos não duplicados"
      ],
      "metadata": {
        "id": "K729ElRdhGed"
      }
    },
    {
      "cell_type": "code",
      "source": [
        "lista_duplicada = [27,33,1,3,6,7,8,9,3,4,5,6,4,3,21,1,8,6,5,4,7]\n",
        "\n",
        "lista_sem_duplicatas = set(lista_duplicada)\n",
        "lista_sem_duplicatas"
      ],
      "metadata": {
        "id": "vb1oo_wahLJp"
      },
      "execution_count": null,
      "outputs": []
    },
    {
      "cell_type": "markdown",
      "source": [
        "funcao reduce com lambda "
      ],
      "metadata": {
        "id": "8c_xpgYgk39k"
      }
    },
    {
      "cell_type": "code",
      "source": [
        "from functools import reduce\n",
        "\n",
        "soma = reduce((lambda x,y: x+y), range(9000000))\n",
        "soma"
      ],
      "metadata": {
        "id": "yQRo_tp7k8g6"
      },
      "execution_count": null,
      "outputs": []
    },
    {
      "cell_type": "markdown",
      "source": [
        "Determinar o maior numero da lista ou menor"
      ],
      "metadata": {
        "id": "8zzH_xh6yIsh"
      }
    },
    {
      "cell_type": "code",
      "source": [
        "from functools import reduce\n",
        "lista_geral = [1,55,66,8,7,989,56,345,800,2043]\n",
        "\n",
        "reduce(lambda a, b: a if a>b else b, lista_geral)\n"
      ],
      "metadata": {
        "id": "gi9pMjukyL9c"
      },
      "execution_count": null,
      "outputs": []
    },
    {
      "cell_type": "markdown",
      "source": [
        "Listas"
      ],
      "metadata": {
        "id": "NOopDkLIKlfC"
      }
    },
    {
      "cell_type": "code",
      "source": [
        "listas= [[1,2,3], [7,4,5], [33,412,6,7,8]]\n",
        "a = listas[1][0]\n",
        "print(a)\n",
        "\n",
        "b = listas[2][1]\n",
        "print(b)\n",
        "\n",
        "lista_geral = [1,55,66,8,7,989,56,345,800,2043]\n",
        "\n",
        "print(7 in lista_geral)\n",
        "\n",
        "lista_geral.append(10)\n",
        "\n",
        "print(lista_geral)\n",
        "\n",
        "max(lista_geral)\n",
        "\n",
        "\n",
        "print('\\n')\n",
        "#lista com string, tupla, dicionario e float\n",
        "print('lista com string, tupla, dicionario e float: \\n'.capitalize())\n",
        "lst = ['String1', (90, 92), {'k1':'v1', 'k2':'v2'}, 99.98]\n",
        "print(lst)"
      ],
      "metadata": {
        "id": "xEKTBuftISMn"
      },
      "execution_count": null,
      "outputs": []
    },
    {
      "cell_type": "markdown",
      "source": [
        "Dicionario"
      ],
      "metadata": {
        "id": "-pDg2p5dNzG8"
      }
    },
    {
      "cell_type": "code",
      "source": [
        "estudantes = {'pedro':19, 'josue':34, 'sardinha':25, 'marialva':36, 'rafael':12}\n",
        "print(len(estudantes))\n",
        "\n",
        "print(estudantes.keys())\n",
        "print(estudantes.values())\n",
        "\n",
        "\n",
        "\n",
        "print(estudantes.items())\n",
        "\n",
        "estudantes2 = {'suse':25, 'diarora':77, 'vera':87}\n",
        "print(estudantes2)\n",
        "\n",
        "estudantes2.update(estudantes)\n",
        "\n",
        "print('\\ndicionario append')\n",
        "\n",
        "#adicionando um item ao dicionario\n",
        "estudantes2['marilda']= 28\n",
        "print(estudantes2)\n",
        "\n",
        "dic_combustivel = {'gasolina':1 , 'diesel':2, 'alcool':3, 'gas':[4,8]}\n",
        "\n",
        "print(dic_combustivel)\n",
        "\n"
      ],
      "metadata": {
        "id": "zlEPHVPYN0xs"
      },
      "execution_count": null,
      "outputs": []
    },
    {
      "cell_type": "markdown",
      "source": [
        "Tuplas sao imutaveis"
      ],
      "metadata": {
        "id": "NTK548JPTjak"
      }
    },
    {
      "cell_type": "code",
      "source": [
        "tupla1 = ('cadarço', 77, \"Leão\")\n",
        "\n",
        "print(tupla1)\n",
        "\n",
        "print(tupla1[0])\n",
        "\n",
        "tupla1[:2]\n",
        "\n",
        "tupla1.index(77)\n",
        "\n",
        "#converter tupla para lista:\n",
        "lista = list(tupla1)\n",
        "print(lista)\n",
        "\n",
        "##contagem quantas vezes aparecem o numero 4:\n",
        "t2 = (1, 2, 2, 3, 4, 4, 4, 5)\n",
        "print(t2.count(4))\n"
      ],
      "metadata": {
        "id": "FSCBnwtuTmx4"
      },
      "execution_count": null,
      "outputs": []
    },
    {
      "cell_type": "markdown",
      "source": [
        "for instruction"
      ],
      "metadata": {
        "id": "MTNkRpfPEKbg"
      }
    },
    {
      "cell_type": "code",
      "source": [
        "for i in \"python\":\n",
        "    if i == \"h\":\n",
        "      continue\n",
        "    print(i)\n"
      ],
      "metadata": {
        "colab": {
          "base_uri": "https://localhost:8080/"
        },
        "id": "Wzwz9aZADoHk",
        "outputId": "fdc82fe1-04de-407f-9633-399f9e525838"
      },
      "execution_count": null,
      "outputs": [
        {
          "output_type": "stream",
          "name": "stdout",
          "text": [
            "p\n",
            "y\n",
            "t\n",
            "o\n",
            "n\n"
          ]
        }
      ]
    },
    {
      "cell_type": "code",
      "source": [
        "a = 0\n",
        "while a < 5:\n",
        "  a+= 1\n",
        "  print(a)\n",
        "\n",
        "\n",
        "  "
      ],
      "metadata": {
        "id": "1Xuo9dftEVt3"
      },
      "execution_count": null,
      "outputs": []
    },
    {
      "cell_type": "code",
      "source": [
        "lista = ['abacate', 'melancia', 'mamao', 'laranja']\n",
        "tamanho = len(lista)\n",
        "for i in range(0, tamanho):\n",
        "  print(lista[i])\n",
        "\n",
        "\n",
        "dir(print)"
      ],
      "metadata": {
        "id": "BwQ5YTNWonGl"
      },
      "execution_count": null,
      "outputs": []
    },
    {
      "cell_type": "markdown",
      "source": [
        "Funcao com numero de argumento variavel:"
      ],
      "metadata": {
        "id": "znSTAL0VxRaA"
      }
    },
    {
      "cell_type": "code",
      "source": [
        "def varInfo(arg, *vartuple):\n",
        "  \n",
        "  for item in vartuple:\n",
        "    print(item)\n",
        "\n",
        "varInfo('colmeia', 'abelha1', 'abelha2', 'abelha3', 'abelha4')\n",
        "\n",
        "varInfo('colmeia')\n",
        "\n",
        "\n",
        "p = lambda x : x%2 ==0\n",
        "print(p(3))\n",
        "\n",
        "primeiraPosicao = lambda s: s[0]\n",
        "primeiraPosicao('x-burguer')"
      ],
      "metadata": {
        "id": "lOKl3u_ZxXie"
      },
      "execution_count": null,
      "outputs": []
    },
    {
      "cell_type": "markdown",
      "source": [
        "Lambda - Convert Celsius para Fahrenheit"
      ],
      "metadata": {
        "id": "uc-ybpGS4JkH"
      }
    },
    {
      "cell_type": "code",
      "source": [
        "Celsius = [39.2, 36.5, 37.3, 37.8]\n",
        "Fahrenheit = map(lambda x: (float(9)/5)*x + 32, Celsius)\n",
        "print (list(Fahrenheit))"
      ],
      "metadata": {
        "id": "BftYXyT64WA_"
      },
      "execution_count": null,
      "outputs": []
    },
    {
      "cell_type": "code",
      "source": [
        "temperatura = 40  \n",
        "while temperatura > 35: \n",
        "    print(temperatura)\n",
        "    temperatura = temperatura - 1\n",
        "\n",
        "\n",
        "#Qual o resultado do código abaixo:\n",
        "listaB = [32,53,85,10,15,17,19]\n",
        "soma = 0\n",
        "for i in listaB:\n",
        "    double_i = i * 2\n",
        "    soma += double_i\n",
        "\n",
        "print(soma)"
      ],
      "metadata": {
        "id": "gZ-9BifA4-jt"
      },
      "execution_count": null,
      "outputs": []
    },
    {
      "cell_type": "markdown",
      "source": [
        "Leitura de arquivo:"
      ],
      "metadata": {
        "id": "rmNGiztf7n4Z"
      }
    },
    {
      "cell_type": "code",
      "source": [
        "arq1 =  open(\"/content/drive/MyDrive/TI/codigos/dados/filmes_name.basics.txt\", \"r\")\n",
        "\n",
        "print(\"\\n.........................\")\n",
        "print(arq1.read(25))\n",
        "arq1.seek(1,0)\n",
        "print(\"\\n.........................\")\n",
        "\n",
        "print(arq1.read())\n",
        "\n",
        "arq1.tell()\n",
        "\n"
      ],
      "metadata": {
        "id": "Jjm_3BdN7rff"
      },
      "execution_count": null,
      "outputs": []
    },
    {
      "cell_type": "markdown",
      "source": [
        "Exemplo Pandas:"
      ],
      "metadata": {
        "id": "HmhzHoSlIuMh"
      }
    },
    {
      "cell_type": "code",
      "source": [
        "import pandas as pd\n",
        "\n",
        "file_name = \"/content/drive/MyDrive/TI/codigos/dados/filmes_principals.csv\"\n",
        "df = pd.read_csv(file_name)\n",
        "\n",
        "df.head()\n",
        "\n"
      ],
      "metadata": {
        "id": "WdDm3ck9IymE"
      },
      "execution_count": null,
      "outputs": []
    },
    {
      "cell_type": "markdown",
      "source": [
        "Gravar em arquivo no Google Drive "
      ],
      "metadata": {
        "id": "V0SmH9laMyi9"
      }
    },
    {
      "cell_type": "code",
      "source": [
        "texto = \"Cientista de dados esta crescendo demais\\n\"\n",
        "texto += \"Esses profissionais precisam aprener a programar, estatistica e Machine Learning\\n\"\n",
        "texto += \"e tambem Big Data\\n\"\n",
        "\n",
        "import os\n",
        "\n",
        "arquivo = open(os.path.join(\"/content/sample_data/gravado_via_python_no_drive.txt\"), \"w\")\n",
        "arq_g_drive = open(os.path.join(\"/content/drive/MyDrive/TI/codigos/dados/dados_g_drive_externo.txt\"), \"w\")\n",
        "\n",
        "for palavra in texto.split():\n",
        "  arq_g_drive.write(palavra + ' ')\n",
        "\n",
        "arq_g_drive.close()\n",
        "\n"
      ],
      "metadata": {
        "id": "ESrCO5wLM05j"
      },
      "execution_count": null,
      "outputs": []
    },
    {
      "cell_type": "code",
      "source": [
        "arq_g_drive = open(\"/content/drive/MyDrive/TI/codigos/dados/dados_g_drive_externo.txt\", \"r\")\n",
        "conteudo = arq_g_drive.read()\n",
        "arq_g_drive.close()\n",
        "\n",
        "print(conteudo)\n"
      ],
      "metadata": {
        "id": "qmdnqT7Rc70M"
      },
      "execution_count": null,
      "outputs": []
    },
    {
      "cell_type": "markdown",
      "source": [
        "Dicionario:"
      ],
      "metadata": {
        "id": "z_abMObhjYgg"
      }
    },
    {
      "cell_type": "code",
      "source": [
        "dict = {\n",
        "        'nome':'Guido Van Hossum',\n",
        "    'linguagem':'Python',\n",
        "    'similar' : ['C','modula-3','lisp'],\n",
        "    'users':1000000\n",
        "}\n",
        "\n",
        "for k, v in dict.items():\n",
        "  print(k,v)"
      ],
      "metadata": {
        "id": "xKLhqbujjaRv"
      },
      "execution_count": null,
      "outputs": []
    },
    {
      "cell_type": "code",
      "source": [
        "import json\n",
        "\n",
        "json.dumps(dict)"
      ],
      "metadata": {
        "id": "4MiqkDjfkVy2"
      },
      "execution_count": null,
      "outputs": []
    },
    {
      "cell_type": "markdown",
      "source": [
        "Funcao Map - recebe uma funcao como parametro e uma lista ou sequencia."
      ],
      "metadata": {
        "id": "M827Ke8a9Ei6"
      }
    },
    {
      "cell_type": "code",
      "source": [
        "def fahrenheit(T):\n",
        "  return ((float(9/5)*T+32))\n",
        "\n",
        "\n",
        "def celsius(T):\n",
        "  return (float(5/9)* (T-32))    \n",
        "\n",
        "temperaturas = [0, 22.5, 40, 100]\n",
        "\n",
        "list(map(fahrenheit, temperaturas))\n",
        "\n",
        "\n",
        "#Pode-se criar com lambda\n",
        "list(map(lambda x: (5/9) * (x-32), temperaturas))\n"
      ],
      "metadata": {
        "id": "2ORhYDF89GfN"
      },
      "execution_count": null,
      "outputs": []
    },
    {
      "cell_type": "markdown",
      "source": [
        "Somando elementos de listas"
      ],
      "metadata": {
        "id": "Ptyp4lvN_88c"
      }
    },
    {
      "cell_type": "code",
      "source": [
        "a = [1, 2, 3, 4]\n",
        "b = [5, 6, 7, 8]\n",
        "c = [2, 3, 4, 5]\n",
        "\n",
        "soma = list(map(lambda a, b, c: a+b+c, a, b, c))\n",
        "print(soma)"
      ],
      "metadata": {
        "id": "16Hx2hfP__T3"
      },
      "execution_count": null,
      "outputs": []
    },
    {
      "cell_type": "markdown",
      "source": [
        "Funcao Reduce"
      ],
      "metadata": {
        "id": "mLzPIcEFn7r8"
      }
    },
    {
      "cell_type": "code",
      "source": [
        "from functools import reduce\n",
        "\n",
        "def soma(a, b):\n",
        "  return a + b\n",
        "\n",
        "lista = [1111, 2, 45,3, 4, 5, 10]\n",
        "\n",
        "reduce(soma, lista)"
      ],
      "metadata": {
        "id": "hzpDUAz9n9ao"
      },
      "execution_count": null,
      "outputs": []
    },
    {
      "cell_type": "markdown",
      "source": [
        "Buscar o maior elemento de uma lista:"
      ],
      "metadata": {
        "id": "bRG5JEp_qtFu"
      }
    },
    {
      "cell_type": "code",
      "source": [
        "\n",
        "reduce(lambda a, b: a+b, lista)\n",
        "\n",
        "resultado_de_busca = lambda a, b: a if (a > b) else b\n",
        "\n",
        "reduce(resultado_de_busca, lista)"
      ],
      "metadata": {
        "id": "lnX1NoAMooIn"
      },
      "execution_count": null,
      "outputs": []
    },
    {
      "cell_type": "markdown",
      "source": [
        "Funcao Filter:"
      ],
      "metadata": {
        "id": "Krq8J-uvbzKx"
      }
    },
    {
      "cell_type": "code",
      "source": [
        "def verificaNumeroPar(num):\n",
        "  if num % 2 == 0:\n",
        "    return True\n",
        "  else:\n",
        "    return False\n",
        "\n",
        "\n",
        "verificaNumeroPar(6)\n",
        "lista = [1,2,3,4,5,6,7,8,9,10,11,12,13,14] \n",
        "\n",
        "list(filter(verificaNumeroPar, lista))\n",
        "\n",
        "list(filter((lambda x: x > 5), lista))\n",
        "\n"
      ],
      "metadata": {
        "id": "kIQ8c6Krb1Ej"
      },
      "execution_count": null,
      "outputs": []
    },
    {
      "cell_type": "markdown",
      "source": [
        "List Comprehension exemplos:"
      ],
      "metadata": {
        "id": "nwL-1L6RnLws"
      }
    },
    {
      "cell_type": "code",
      "source": [
        "#retorna sequencia de elementos da string\n",
        "lst = [x for x in 'python']\n",
        "\n",
        "print(lst)\n",
        "\n",
        "type(lst)\n",
        "\n",
        "#Retorna o quadrado de cada elemento da sequence\n",
        "lst = [x**2 for x in range(0, 10)]\n",
        "lst\n",
        "\n",
        "\n",
        "#Retorna o quadrado de cada elemento da sequence\n",
        "lst = [x**2 for x in range(0, 10) if x%2 ==0]\n",
        "lst\n",
        "\n",
        "celsius = [0, 10, 25, 40, 100]\n",
        "fahrenheit = [ (( float(9)/5) * temp ) + 32 for temp in celsius]\n",
        "\n",
        "fahrenheit\n",
        "\n",
        "\n"
      ],
      "metadata": {
        "id": "pSeikyXfnPzn"
      },
      "execution_count": null,
      "outputs": []
    },
    {
      "cell_type": "markdown",
      "source": [
        "Funcao Zip: Faz uniao de duas listas retornando em tupla"
      ],
      "metadata": {
        "id": "PCShsghYqtSw"
      }
    },
    {
      "cell_type": "code",
      "source": [
        "x = [1,2,3]\n",
        "y = [4,5,6,7]\n",
        "\n",
        "list(zip(x,y))\n",
        "\n",
        "list(zip('ABCD', \"yx\"))\n",
        "\n"
      ],
      "metadata": {
        "id": "VVXMxk5qqu7y"
      },
      "execution_count": null,
      "outputs": []
    },
    {
      "cell_type": "markdown",
      "source": [
        "Funcao Enumerate: retorna o indice de uma sequencia"
      ],
      "metadata": {
        "id": "FFHaNwJyxF-M"
      }
    },
    {
      "cell_type": "code",
      "source": [
        "l = ['a', 'b', 'c']\n",
        "\n",
        "list(enumerate(l))\n",
        "\n",
        "\n",
        "#Retorna o indice com o elemento.\n",
        "lista = ['agua', 'ar', 'terra', 'fogo']\n",
        "\n",
        "for i, j in enumerate(lista):\n",
        "  print(i,j)\n",
        "\n",
        "print(\"\\n_________________________________\\n\")\n",
        "\n",
        "for i, j in enumerate(\"Isso e uma string\"):\n",
        "  print(i,j)"
      ],
      "metadata": {
        "id": "fSGV-CoexMFF"
      },
      "execution_count": null,
      "outputs": []
    },
    {
      "cell_type": "markdown",
      "source": [
        "Tratamento de erros:"
      ],
      "metadata": {
        "id": "fEVl7DMZ1JGm"
      }
    },
    {
      "cell_type": "code",
      "source": [
        "from typing_extensions import final\n",
        "def ask_int():\n",
        "  while True:\n",
        "    try:\n",
        "      val = int(input('Digite um número.'))\n",
        "    except: \n",
        "      print('Vc não digitou um número')\n",
        "      continue\n",
        "      #val = int(input('Tente novamente Zeruela.'))\n",
        "    else:\n",
        "      print('Obrigado por digitar um número.')\n",
        "      break\n",
        "    finally:\n",
        "      print('Fim da Execução!')\n",
        "\n",
        "\n",
        "ask_int()"
      ],
      "metadata": {
        "id": "5arRNDi41LQQ"
      },
      "execution_count": null,
      "outputs": []
    },
    {
      "cell_type": "markdown",
      "source": [
        "Tratamentod e erro e exceções:"
      ],
      "metadata": {
        "id": "fop6_9a8_E2K"
      }
    },
    {
      "cell_type": "code",
      "source": [
        "tuple(1,2,3,4,5)\n",
        "\n",
        "try:\n",
        "  typle.append(6)\n",
        "except AttributeError as err:\n",
        "  print(err)  \n",
        "    "
      ],
      "metadata": {
        "id": "2Io1DHwt_IcT"
      },
      "execution_count": null,
      "outputs": []
    },
    {
      "cell_type": "markdown",
      "source": [
        "Testes com Unicode:\n"
      ],
      "metadata": {
        "id": "1nRsK8LwVVsy"
      }
    },
    {
      "cell_type": "code",
      "source": [
        "uni = u'\\u001a\\u0bc3\\u1451\\U0001d10c'\n",
        "\n",
        "print(repr(uni))\n",
        "\n",
        "binary = uni.encode(\"utf-8\")\n",
        "\n",
        "#print(repr(uni))\n",
        "print(binary)\n",
        "\n",
        "\n",
        "# Define nossa string Unicode\n",
        "uni = u\"Hello\\u001A\\u0BC3\\u1451\\U0001D10CUnicode\"\n",
        "\n",
        "# UTF-8 e UTF-16 podem codificar completamente qualquer string Unicode\n",
        "print (\"UTF-8\", repr(uni.encode('utf-8')))\n",
        "print (\"UTF-16\", repr(uni.encode('utf-16')))\n",
        "\n",
        "# ASCII pode apenas codificar valore entre 0-127. Abaixo, dizemos ao Python\n",
        "# para trocar caracteres que não podem ser codificados por '?'\n",
        "print (\"ASCII\", uni.encode('ascii','replace'))\n",
        "\n",
        "# ISO-8859-1 é similar ao ASCII\n",
        "print (\"ISO-8859-1\",uni.encode('iso-8859-1','replace'))\n"
      ],
      "metadata": {
        "id": "KYXtlF7UVXby"
      },
      "execution_count": null,
      "outputs": []
    },
    {
      "cell_type": "markdown",
      "source": [
        "Definição de classe:"
      ],
      "metadata": {
        "id": "2Mq8sncDiHP3"
      }
    },
    {
      "cell_type": "code",
      "source": [
        "class Livro():\n",
        "  def __init__(self):\n",
        "\n",
        "    self.titulo = \"Os Segredos da Mente Milionaria\"\n",
        "    self.isbn = \"82347347342\"\n",
        "    print(\"Metodo __init__() é o Construtor da classe.\")\n",
        "\n",
        "\n",
        "  def imprime(self):\n",
        "    print(\"Metodo imprime() dentro da classe.\")\n",
        "    "
      ],
      "metadata": {
        "id": "WPYbYkkPiJI3"
      },
      "execution_count": null,
      "outputs": []
    },
    {
      "cell_type": "code",
      "source": [
        "Livro1 = Livro();\n",
        "\n",
        "print(\"\\n\"+Livro1.titulo);\n",
        "\n",
        "print(Livro1.imprime());"
      ],
      "metadata": {
        "id": "Vhcj1r4biT3B"
      },
      "execution_count": null,
      "outputs": []
    },
    {
      "cell_type": "code",
      "source": [
        "class Livro():\n",
        "  def __init__(self, nome, isbn):\n",
        "    self.titulo = nome\n",
        "    self.isbn = isbn\n",
        "    print(\"Construtor...\")\n",
        "\n",
        "  def imprime(self, nome, isbn):\n",
        "    print(\"Este é o livro s% e ISBN = %d\")\n",
        "  "
      ],
      "metadata": {
        "id": "zP0NtKTRko4L"
      },
      "execution_count": null,
      "outputs": []
    },
    {
      "cell_type": "code",
      "source": [
        "Livro3 = Livro(\"A menina que roubava livros.\", 958575)\n",
        "print(Livro3)\n",
        "\n",
        "print(Livro3.titulo)\n",
        "\n",
        "\n"
      ],
      "metadata": {
        "id": "EOW5_qlklhWe"
      },
      "execution_count": null,
      "outputs": []
    },
    {
      "cell_type": "markdown",
      "source": [
        "Classe e metodos:"
      ],
      "metadata": {
        "id": "Ql8E1yqGfqv7"
      }
    },
    {
      "cell_type": "code",
      "source": [
        "class Circulo():\n",
        "\n",
        "  pi = 3,14\n",
        "  # Quando for instanciado esse metodo sera executado com valor de raio = 5. Construtor com valor default.\n",
        "  def __init__(self, raio=5):\n",
        "    self.raio = raio\n",
        "  \n",
        "  # Self usa os atributos desse mesmo objeto - Circulo.\n",
        "  def area(self):\n",
        "    return (self.raio * self.raio) * Circulo.pi\n",
        "\n",
        "  # Metodo para gerar um novo raio  \n",
        "  def setRaio(self, novo_raio):\n",
        "    self.raio = novo_raio\n",
        "\n",
        "  # Metodo para obter o raio do circulo.\n",
        "  def getRaio(self):\n",
        "    return self.raio\n",
        "\n"
      ],
      "metadata": {
        "id": "21VJBw6TftVk"
      },
      "execution_count": null,
      "outputs": []
    },
    {
      "cell_type": "markdown",
      "source": [
        "Heranca em Python:"
      ],
      "metadata": {
        "id": "ONX2J-s7hz2h"
      }
    },
    {
      "cell_type": "markdown",
      "source": [
        "Metodos Especiais:"
      ],
      "metadata": {
        "id": "PmnGvD6Fx4Ra"
      }
    },
    {
      "cell_type": "code",
      "source": [
        "class Livro():\n",
        "  def __init__(self, titulo, autor, paginas):\n",
        "    print(\"Livro Criado\")\n",
        "    self.titulo = titulo\n",
        "    self.autor = autor\n",
        "    self.paginas = paginas\n",
        "  \n",
        "  def __str__(self):\n",
        "    return \"Titulo %s, autor %s, paginas %s\" %(self.titulo, self.autor, self.paginas)\n",
        "\n",
        "  def __len__(self):\n",
        "    return self.paginas\n",
        "\n",
        "  def len(self):\n",
        "    return print(\"Pagina do livro com metodo comum: \", self.paginas)\n"
      ],
      "metadata": {
        "id": "X6QFDQXIx7te"
      },
      "execution_count": null,
      "outputs": []
    },
    {
      "cell_type": "code",
      "source": [
        "livro1  = Livro(\"Os Lusiadas\", \"Camões\", 317)\n"
      ],
      "metadata": {
        "id": "FMo-yYl4h7Aj",
        "colab": {
          "base_uri": "https://localhost:8080/"
        },
        "outputId": "cb806611-733f-46cb-a064-5251dfda81de"
      },
      "execution_count": null,
      "outputs": [
        {
          "output_type": "stream",
          "name": "stdout",
          "text": [
            "Livro Criado\n"
          ]
        }
      ]
    },
    {
      "cell_type": "code",
      "source": [
        "print(livro1)"
      ],
      "metadata": {
        "colab": {
          "base_uri": "https://localhost:8080/"
        },
        "id": "zYDeyUFDzsxi",
        "outputId": "77b2347f-22d6-4a67-cb63-620a9c51d5ff"
      },
      "execution_count": null,
      "outputs": [
        {
          "output_type": "stream",
          "name": "stdout",
          "text": [
            "Titulo Os Lusiadas, autor Camões, paginas 317\n"
          ]
        }
      ]
    },
    {
      "cell_type": "code",
      "source": [
        "str(livro1)\n"
      ],
      "metadata": {
        "colab": {
          "base_uri": "https://localhost:8080/",
          "height": 35
        },
        "id": "kw6OLT5xzz6K",
        "outputId": "37a483e8-5bae-4c32-f04e-7fb9ce2d51c0"
      },
      "execution_count": null,
      "outputs": [
        {
          "output_type": "execute_result",
          "data": {
            "text/plain": [
              "'Titulo Os Lusiadas, autor Camões, paginas 317'"
            ],
            "application/vnd.google.colaboratory.intrinsic+json": {
              "type": "string"
            }
          },
          "metadata": {},
          "execution_count": 6
        }
      ]
    },
    {
      "cell_type": "code",
      "source": [
        "len(livro1)"
      ],
      "metadata": {
        "colab": {
          "base_uri": "https://localhost:8080/"
        },
        "id": "cLBIK2Mdz6tW",
        "outputId": "5d651efa-d6c8-4581-c943-e39018870bd0"
      },
      "execution_count": null,
      "outputs": [
        {
          "output_type": "execute_result",
          "data": {
            "text/plain": [
              "317"
            ]
          },
          "metadata": {},
          "execution_count": 7
        }
      ]
    },
    {
      "cell_type": "markdown",
      "source": [
        "Jogo da Forca - Hangman"
      ],
      "metadata": {
        "id": "PYDFCMjr3Fc7"
      }
    },
    {
      "cell_type": "code",
      "source": [
        "class Palavras():\n",
        "  def __init__(self):\n",
        "    "
      ],
      "metadata": {
        "id": "tipx7DZp3H3d"
      },
      "execution_count": null,
      "outputs": []
    },
    {
      "cell_type": "markdown",
      "source": [
        "DB connection"
      ],
      "metadata": {
        "id": "ygr_gRURzeqD"
      }
    },
    {
      "cell_type": "code",
      "source": [
        "import sqlite3 \n",
        " \n",
        "conn = sqlite3.connect('db_lite.db')\n",
        "\n",
        "#type(conn)\n",
        "\n",
        "cursor = conn.cursor()\n",
        "\n",
        "print(type(cursor))"
      ],
      "metadata": {
        "colab": {
          "base_uri": "https://localhost:8080/"
        },
        "id": "J7ekplF30pkP",
        "outputId": "5ed0bba4-4d7a-4df2-dddf-38f9216b50bd"
      },
      "execution_count": null,
      "outputs": [
        {
          "output_type": "stream",
          "name": "stdout",
          "text": [
            "<class 'sqlite3.Cursor'>\n"
          ]
        }
      ]
    },
    {
      "cell_type": "code",
      "source": [
        "conn.execute('''\n",
        "CREATE TABLE Cursos (\n",
        "   id INTEGER PRIMARY KEY NOT NULL,\n",
        "   titulo NVARCHAR NOT NULL ,\n",
        "   categoria REAL NOT NULL \n",
        " )''')\n",
        "\n"
      ],
      "metadata": {
        "id": "ZloXDpe8155F"
      },
      "execution_count": null,
      "outputs": []
    },
    {
      "cell_type": "code",
      "source": [
        "sql_insert = 'insert into Cursos values(?,?,?)'\n",
        "\n",
        "dados_insert = [(1005, 'Ciencia de Dados', 'Data Science'),\n",
        "                (1006, 'Big Data Fundamentos', 'Big Data'),\n",
        "                (1007, 'Python Fundamentos','Análise de Dados')\n",
        "              ]\n",
        "\n"
      ],
      "metadata": {
        "id": "3j8zQsX02h4G"
      },
      "execution_count": null,
      "outputs": []
    },
    {
      "cell_type": "code",
      "source": [
        "for rec in dados_insert:\n",
        "  cursor.execute(sql_insert, rec)"
      ],
      "metadata": {
        "id": "t5qpNGqI4PLW"
      },
      "execution_count": null,
      "outputs": []
    },
    {
      "cell_type": "code",
      "source": [
        "cursor.execute(\"select * from Cursos\")\n",
        "dados = cursor.fetchall()\n",
        "\n",
        "conn.commit()\n",
        "for linhas in dados:\n",
        "  print(linhas)\n",
        "\n",
        "#conn.close()"
      ],
      "metadata": {
        "id": "PvDfjwHW608P"
      },
      "execution_count": null,
      "outputs": []
    },
    {
      "cell_type": "markdown",
      "source": [
        "Grafico de Barra com Matplotlib"
      ],
      "metadata": {
        "id": "iYN2DjlyDHtL"
      }
    },
    {
      "cell_type": "code",
      "source": [
        "import matplotlib.pyplot as plt\n",
        "#%matplotlib notebook # para exibir no Jupiter\n",
        "#para exibir no Google colab\n",
        "%matplotlib inline \n",
        "\n",
        "def dados_graficos():\n",
        "  cursor.execute(\"select id, categoria from Cursos\")\n",
        "\n",
        "  ids = []\n",
        "  valores = []\n",
        "  dados = cursor.fetchall()\n",
        "\n",
        "  for linha in dados:\n",
        "    ids.append(linha[0])\n",
        "    valores.append(linha[1])\n",
        "  \n",
        "  plt.bar(ids, valores)\n",
        "  plt.show()\n",
        "\n",
        "dados_graficos()"
      ],
      "metadata": {
        "id": "hKHvMF60DNQM",
        "colab": {
          "base_uri": "https://localhost:8080/",
          "height": 265
        },
        "outputId": "53da66a0-e690-4544-ed9d-7a67ad53020c"
      },
      "execution_count": 89,
      "outputs": [
        {
          "output_type": "display_data",
          "data": {
            "text/plain": [
              "<Figure size 432x288 with 1 Axes>"
            ],
            "image/png": "[encoded data removed]"
          },
          "metadata": {
            "needs_background": "light"
          }
        }
      ]
    },
    {
      "cell_type": "code",
      "source": [
        "# ------- file: myplot.py ------\n",
        "import matplotlib.pyplot as plt\n",
        "import numpy as np\n",
        "\n",
        "x = np.linspace(0, 10, 100)\n",
        "\n",
        "plt.plot(x, np.sin(x))\n",
        "plt.plot(x, np.cos(x))\n",
        "\n",
        "plt.show()"
      ],
      "metadata": {
        "colab": {
          "base_uri": "https://localhost:8080/",
          "height": 265
        },
        "id": "i_BaCJV-IfF_",
        "outputId": "3122c79e-77ae-4e2e-c99e-8b04d62ffaff"
      },
      "execution_count": 73,
      "outputs": [
        {
          "output_type": "display_data",
          "data": {
            "text/plain": [
              "<Figure size 432x288 with 1 Axes>"
            ],
            "image/png": "[encoded data removed]"
          },
          "metadata": {
            "needs_background": "light"
          }
        }
      ]
    },
    {
      "cell_type": "markdown",
      "source": [
        "MongoDB Connection"
      ],
      "metadata": {
        "id": "3lsa_PUK2qxl"
      }
    },
    {
      "cell_type": "code",
      "source": [
        "!apt install mongodb\n",
        "!service mongodb start\n",
        "\n",
        "from pymongo import MongoClient\n",
        "client = MongoClient()\n",
        "client.list_database_names() # ['admin', 'local']"
      ],
      "metadata": {
        "id": "6jiZroHE2tph"
      },
      "execution_count": null,
      "outputs": []
    },
    {
      "cell_type": "code",
      "source": [
        "conn = MongoClient(\"localhost\", 27017)\n",
        "type(conn)"
      ],
      "metadata": {
        "colab": {
          "base_uri": "https://localhost:8080/"
        },
        "id": "VRLCoZqj3obO",
        "outputId": "55242871-b51b-4e87-8dd9-fc92a8197498"
      },
      "execution_count": 4,
      "outputs": [
        {
          "output_type": "execute_result",
          "data": {
            "text/plain": [
              "pymongo.mongo_client.MongoClient"
            ]
          },
          "metadata": {},
          "execution_count": 4
        }
      ]
    },
    {
      "cell_type": "code",
      "source": [
        "db = conn.cadastrodb"
      ],
      "metadata": {
        "id": "kPjMKj1-461W"
      },
      "execution_count": 5,
      "outputs": []
    },
    {
      "cell_type": "code",
      "source": [
        "collection = db.cadastrodb"
      ],
      "metadata": {
        "id": "ioGizoAH510u"
      },
      "execution_count": 6,
      "outputs": []
    },
    {
      "cell_type": "code",
      "source": [
        "type(collection)"
      ],
      "metadata": {
        "colab": {
          "base_uri": "https://localhost:8080/"
        },
        "id": "rp02Wdtt6Cc-",
        "outputId": "1cab5f6d-3de8-43a4-8577-910d5467d611"
      },
      "execution_count": 7,
      "outputs": [
        {
          "output_type": "execute_result",
          "data": {
            "text/plain": [
              "pymongo.collection.Collection"
            ]
          },
          "metadata": {},
          "execution_count": 7
        }
      ]
    },
    {
      "cell_type": "code",
      "source": [
        "import datetime\n",
        "\n",
        "post1 = {\"codigo\":\"ID-98674\",\n",
        "         \"prod_name\":\"Geladeira\",\n",
        "         \"marcas\":[\"brastemp\", \"consul\", \"eletrolux\"],\n",
        "         \"data_cadastro\":datetime.datetime.utcnow()}"
      ],
      "metadata": {
        "id": "Va3Fy0-76baA"
      },
      "execution_count": 9,
      "outputs": []
    },
    {
      "cell_type": "code",
      "source": [
        "post2 = {\"codigo\":\"ID-99675\",\n",
        "         \"prod_name\":\"Televisor\",\n",
        "         \"marcas\":[\"sansung\", \"LG\", \"philips\"],\n",
        "         \"data_cadastro\":datetime.datetime.utcnow()}"
      ],
      "metadata": {
        "id": "vy5B-3cH_oYK"
      },
      "execution_count": 15,
      "outputs": []
    },
    {
      "cell_type": "code",
      "source": [
        "collection = db.posts\n",
        "\n",
        "post_id = collection.insert_one(post1)"
      ],
      "metadata": {
        "id": "yxsKjAxU8rQB"
      },
      "execution_count": 10,
      "outputs": []
    },
    {
      "cell_type": "code",
      "source": [
        "post_id = collection.insert_one(post2)\n",
        "\n",
        "print(post_id.inserted_id)"
      ],
      "metadata": {
        "colab": {
          "base_uri": "https://localhost:8080/"
        },
        "id": "zvhFEcsk8_L3",
        "outputId": "58189d13-da5c-4972-f487-f854bbf3de85"
      },
      "execution_count": 16,
      "outputs": [
        {
          "output_type": "stream",
          "name": "stdout",
          "text": [
            "63178d49571f7542065b33fd\n"
          ]
        }
      ]
    },
    {
      "cell_type": "code",
      "source": [
        "collection.find_one{'prod_name': 'Televisor'}"
      ],
      "metadata": {
        "colab": {
          "base_uri": "https://localhost:8080/",
          "height": 131
        },
        "id": "XTZFdkmYAO08",
        "outputId": "ea8ddcbc-a55b-476f-d0b8-2498963b201c"
      },
      "execution_count": 21,
      "outputs": [
        {
          "output_type": "error",
          "ename": "SyntaxError",
          "evalue": "ignored",
          "traceback": [
            "\u001b[0;36m  File \u001b[0;32m\"<ipython-input-21-ea9931fb516b>\"\u001b[0;36m, line \u001b[0;32m1\u001b[0m\n\u001b[0;31m    collection.find_one{'prod_name': 'Televisor'}\u001b[0m\n\u001b[0m                       ^\u001b[0m\n\u001b[0;31mSyntaxError\u001b[0m\u001b[0;31m:\u001b[0m invalid syntax\n"
          ]
        }
      ]
    }
  ]
}