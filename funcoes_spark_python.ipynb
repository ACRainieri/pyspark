{
  "nbformat": 4,
  "nbformat_minor": 0,
  "metadata": {
    "colab": {
      "provenance": [],
      "collapsed_sections": [],
      "mount_file_id": "19qac6eiSrY_i6rudCO-Amtym_Up5v1Jt",
      "authorship_tag": "ABX9TyPsu1eLAYf3i8qWNP6/e0UL",
      "include_colab_link": true
    },
    "kernelspec": {
      "name": "python3",
      "display_name": "Python 3"
    },
    "language_info": {
      "name": "python"
    }
  },
  "cells": [
    {
      "cell_type": "markdown",
      "metadata": {
        "id": "view-in-github",
        "colab_type": "text"
      },
      "source": [
        "<a href=\"https://colab.research.google.com/github/ACRainieri/pyspark/blob/main/funcoes_spark_python.ipynb\" target=\"_parent\"><img src=\"https://colab.research.google.com/assets/colab-badge.svg\" alt=\"Open In Colab\"/></a>"
      ]
    },
    {
      "cell_type": "markdown",
      "source": [
        "Encontrando o último caracter da palavra."
      ],
      "metadata": {
        "id": "2v1SOQ4ufmvM"
      }
    },
    {
      "cell_type": "code",
      "source": [
        "\n",
        "\n",
        "result = lambda n: n**2\n",
        "\n",
        "result(9)\n",
        "\n",
        "ultimo_reg = lambda s: s[-1]\n",
        "\n",
        "ultimo_reg(\"VAGAS_WA\")\n"
      ],
      "metadata": {
        "colab": {
          "base_uri": "https://localhost:8080/",
          "height": 35
        },
        "id": "a3N7bvQeMFeN",
        "outputId": "687dd29f-e4f1-4fae-8b56-ccbe1702d4cd"
      },
      "execution_count": null,
      "outputs": [
        {
          "output_type": "execute_result",
          "data": {
            "text/plain": [
              "'A'"
            ],
            "application/vnd.google.colaboratory.intrinsic+json": {
              "type": "string"
            }
          },
          "metadata": {},
          "execution_count": 13
        }
      ]
    },
    {
      "cell_type": "code",
      "source": [
        "#verificar par ou impar\n",
        "impar = lambda i: i%2 > 0\n",
        "\n",
        "impar(4)"
      ],
      "metadata": {
        "colab": {
          "base_uri": "https://localhost:8080/"
        },
        "id": "IEAeXnh0ReqT",
        "outputId": "ffe0bdc4-0eb0-467b-f4bf-4d78742a91c2"
      },
      "execution_count": null,
      "outputs": [
        {
          "output_type": "execute_result",
          "data": {
            "text/plain": [
              "False"
            ]
          },
          "metadata": {},
          "execution_count": 17
        }
      ]
    },
    {
      "cell_type": "code",
      "source": [
        "result = lambda x: x> 10\n",
        "\n",
        "result(11)"
      ],
      "metadata": {
        "colab": {
          "base_uri": "https://localhost:8080/"
        },
        "id": "dT6sx8ixR5z4",
        "outputId": "3602c831-ef63-4d1c-c01f-43736cb7b367"
      },
      "execution_count": null,
      "outputs": [
        {
          "output_type": "execute_result",
          "data": {
            "text/plain": [
              "True"
            ]
          },
          "metadata": {},
          "execution_count": 21
        }
      ]
    },
    {
      "cell_type": "code",
      "source": [
        "lista = [1,3,6,4,8,23,2]\n",
        "\n",
        "r = lambda dobro: dobro * 2\n",
        "\n",
        "r(lista)"
      ],
      "metadata": {
        "colab": {
          "base_uri": "https://localhost:8080/"
        },
        "id": "GHH8wX8oS2yO",
        "outputId": "fdbe8b31-6ac8-49ce-b249-c87b3e9ae199"
      },
      "execution_count": null,
      "outputs": [
        {
          "output_type": "execute_result",
          "data": {
            "text/plain": [
              "[1, 3, 6, 4, 8, 23, 2, 1, 3, 6, 4, 8, 23, 2]"
            ]
          },
          "metadata": {},
          "execution_count": 22
        }
      ]
    },
    {
      "cell_type": "code",
      "source": [
        "r=lambda x, y: x+y\n",
        "r(2,5)"
      ],
      "metadata": {
        "colab": {
          "base_uri": "https://localhost:8080/"
        },
        "id": "IBcKfKoITgO-",
        "outputId": "0a714d54-fb10-4715-e0fa-d40b40411537"
      },
      "execution_count": null,
      "outputs": [
        {
          "output_type": "execute_result",
          "data": {
            "text/plain": [
              "7"
            ]
          },
          "metadata": {},
          "execution_count": 24
        }
      ]
    },
    {
      "cell_type": "markdown",
      "source": [
        "Ordenando Inversamente - Inverse Order"
      ],
      "metadata": {
        "id": "-dnjQbR2U1Us"
      }
    },
    {
      "cell_type": "code",
      "source": [
        "ordem_inversa = lambda i: i [::-1]\n",
        "ordem_inversa(\"escrevendo ao contratio\")"
      ],
      "metadata": {
        "colab": {
          "base_uri": "https://localhost:8080/",
          "height": 35
        },
        "id": "WEumYk7oUvDd",
        "outputId": "ff7f7069-bc00-4b30-fe36-37cba5bb8042"
      },
      "execution_count": null,
      "outputs": [
        {
          "output_type": "execute_result",
          "data": {
            "text/plain": [
              "'oitartnoc oa odnevercse'"
            ],
            "application/vnd.google.colaboratory.intrinsic+json": {
              "type": "string"
            }
          },
          "metadata": {},
          "execution_count": 26
        }
      ]
    },
    {
      "cell_type": "code",
      "source": [
        "lista=[1,2,3,4,5,6,7,8,9,10, 37]\n",
        "print(lista)\n",
        "type(lista)\n",
        "\n",
        "lst =[]\n",
        "\n",
        "for i in lista:\n",
        "  n = i * 2\n",
        "  lst.append(n)\n",
        "\n",
        "print(lst)"
      ],
      "metadata": {
        "colab": {
          "base_uri": "https://localhost:8080/"
        },
        "id": "xV-AUYc_V4TJ",
        "outputId": "a4c0e63e-132b-45b5-cf5a-c73d4ff0bbe4"
      },
      "execution_count": null,
      "outputs": [
        {
          "output_type": "stream",
          "name": "stdout",
          "text": [
            "[1, 2, 3, 4, 5, 6, 7, 8, 9, 10, 37]\n",
            "[2, 4, 6, 8, 10, 12, 14, 16, 18, 20, 74]\n"
          ]
        }
      ]
    },
    {
      "cell_type": "markdown",
      "source": [
        "List Comprehencion - elevando ao quadrado todos os itens de uma lista ao quadrado"
      ],
      "metadata": {
        "id": "CyhfOkoeY22-"
      }
    },
    {
      "cell_type": "code",
      "source": [
        "l = [item ** 2 for item in lista]\n",
        "print(l)\n"
      ],
      "metadata": {
        "colab": {
          "base_uri": "https://localhost:8080/"
        },
        "id": "bv_oP4tFY7R7",
        "outputId": "451d81a1-0e64-4cc9-ca62-6821a765df1a"
      },
      "execution_count": null,
      "outputs": [
        {
          "output_type": "stream",
          "name": "stdout",
          "text": [
            "[1, 4, 9, 16, 25, 36, 49, 64, 81, 100, 1369]\n"
          ]
        }
      ]
    },
    {
      "cell_type": "markdown",
      "source": [
        "Contando palavras com List Comprehension"
      ],
      "metadata": {
        "id": "Wy1xDBpCbdcL"
      }
    },
    {
      "cell_type": "code",
      "source": [
        "frases = [\n",
        "          \"Tenho em mim todos os sonhos do mundo.\",\n",
        "          \"Somos do tamanho de nossos sonhos.\",\n",
        "          \"O coração se pudesse pensar pararia.\",\n",
        "          \"O amor é um sono que chega para o pouco ser que se é.\",\n",
        "          \"Ler é sonhar pela mão de outrem.\",\n",
        "          \"Todo o homem de ação é essencialmente animado e otimista porque quem não sente é feliz.\",\n",
        "          \"O esforço é grande e o homem é pequeno.\",\n",
        "          \"Minha alma está cansada da minha vida.\",\n",
        "          \"Nenhum livro para crianças deve ser escrito para crianças.\",\n",
        "          \"Quanto mais fundamente penso, mais profundamente me descompreendo.\",\n",
        "          \"Tudo o que chega, chega sempre por alguma razão.\"          \n",
        "          ]\n",
        "\n",
        "[item for item in frases if item.count(\"é\") > 1]\n"
      ],
      "metadata": {
        "colab": {
          "base_uri": "https://localhost:8080/"
        },
        "id": "TEpe9ylEbjpp",
        "outputId": "cbfcd624-cf2b-4499-c0ce-1c31efb93ca2"
      },
      "execution_count": null,
      "outputs": [
        {
          "output_type": "execute_result",
          "data": {
            "text/plain": [
              "['O amor é um sono que chega para o pouco ser que se é.',\n",
              " 'Todo o homem de ação é essencialmente animado e otimista porque quem não sente é feliz.',\n",
              " 'O esforço é grande e o homem é pequeno.']"
            ]
          },
          "metadata": {},
          "execution_count": 46
        }
      ]
    },
    {
      "cell_type": "markdown",
      "source": [
        "Converter itens de uma lista para float."
      ],
      "metadata": {
        "id": "iq8IDJhGe7BR"
      }
    },
    {
      "cell_type": "code",
      "source": [
        "list = ['1', '2', '3', '4', '5']\n",
        "\n",
        "[float(i) for i in list if i > ' 3'] "
      ],
      "metadata": {
        "colab": {
          "base_uri": "https://localhost:8080/"
        },
        "id": "qp8phug5e_Ah",
        "outputId": "dcb5ddc1-1690-4373-86a0-924def525c96"
      },
      "execution_count": null,
      "outputs": [
        {
          "output_type": "execute_result",
          "data": {
            "text/plain": [
              "[1.0, 2.0, 3.0, 4.0, 5.0]"
            ]
          },
          "metadata": {},
          "execution_count": 13
        }
      ]
    },
    {
      "cell_type": "code",
      "source": [
        "from math import pi\n",
        "[str(round(pi, i)) for i in range(1, 6)]"
      ],
      "metadata": {
        "colab": {
          "base_uri": "https://localhost:8080/"
        },
        "id": "lCNGUsxH__EY",
        "outputId": "1491e40a-9da0-4834-f6c9-6113fe8557d4"
      },
      "execution_count": null,
      "outputs": [
        {
          "output_type": "execute_result",
          "data": {
            "text/plain": [
              "['3.1', '3.14', '3.142', '3.1416', '3.14159']"
            ]
          },
          "metadata": {},
          "execution_count": 86
        }
      ]
    },
    {
      "cell_type": "markdown",
      "source": [
        "Map "
      ],
      "metadata": {
        "id": "ypVbXS93Gwcy"
      }
    },
    {
      "cell_type": "code",
      "source": [
        "lista_qq =[1,2,3,4,5,6,7,8,9,10,11]\n",
        "\n",
        "def f_impar(num):\n",
        "  if num%2 > 0:\n",
        "    return True\n",
        "  else:\n",
        "    return False\n",
        "\n",
        "for i in lista_qq:\n",
        "  print(i)\n",
        "  #print(f_impar(i))\n",
        "\n",
        "m = [res for res in map(f_impar,  lista_qq)]\n",
        "print(m)\n",
        "\n",
        "\n",
        "#listcomprehension para converter para lista\n",
        "a = [chr(i) for i in [70,50,10,96, 13]]\n",
        "print(a)"
      ],
      "metadata": {
        "id": "mKqbfpzLGuyC",
        "colab": {
          "base_uri": "https://localhost:8080/"
        },
        "outputId": "c3dc4a19-1704-4ef5-8759-33240e702ca1"
      },
      "execution_count": null,
      "outputs": [
        {
          "output_type": "stream",
          "name": "stdout",
          "text": [
            "1\n",
            "2\n",
            "3\n",
            "4\n",
            "5\n",
            "6\n",
            "7\n",
            "8\n",
            "9\n",
            "10\n",
            "11\n",
            "[True, False, True, False, True, False, True, False, True, False, True]\n",
            "['F', '2', '\\n', '`', '\\r']\n"
          ]
        }
      ]
    },
    {
      "cell_type": "markdown",
      "source": [
        "Função Filter "
      ],
      "metadata": {
        "id": "mkLawZGtQoVD"
      }
    },
    {
      "cell_type": "code",
      "source": [
        "frases = [\n",
        "          \"Tenho em mim todos os sonhos do mundo.\",\n",
        "          \"Somos do tamanho de nossos sonhos.\",\n",
        "          \"O coração se pudesse pensar pararia.\",\n",
        "          \"O amor é um sono que chega para o pouco ser que se é.\",\n",
        "          \"Ler é sonhar pela mão de outrem.\",\n",
        "          \"Todo o homem de ação é essencialmente animado e otimista porque quem não sente é feliz.\",\n",
        "          \"O esforço é grande e o homem é pequeno.\",\n",
        "          \"Minha alma está cansada da minha vida.\",\n",
        "          \"Nenhum livro para crianças deve ser escrito para crianças.\",\n",
        "          \"Quanto mais fundamente penso, mais profundamente me descompreendo.\",\n",
        "          \"Tudo o que chega, chega sempre por alguma razão.\"          \n",
        "          ]\n",
        "\n",
        "def count_words(palavra):\n",
        "  return palavra.count(\"razão\") >= 1\n",
        "\n",
        "#list(filter(count_words, frases))\n",
        "\n",
        "m = [palavras  for palavras in map(count_words,  frases)]\n",
        "m\n",
        "\n"
      ],
      "metadata": {
        "colab": {
          "base_uri": "https://localhost:8080/"
        },
        "id": "FK90DVxeQsOs",
        "outputId": "cc980d9a-a8ba-41da-a06c-4521fb1adcdb"
      },
      "execution_count": null,
      "outputs": [
        {
          "output_type": "execute_result",
          "data": {
            "text/plain": [
              "[False, False, False, False, False, False, False, False, False, False, True]"
            ]
          },
          "metadata": {},
          "execution_count": 8
        }
      ]
    },
    {
      "cell_type": "markdown",
      "source": [
        "set - conjuntos não duplicados"
      ],
      "metadata": {
        "id": "K729ElRdhGed"
      }
    },
    {
      "cell_type": "code",
      "source": [
        "lista_duplicada = [27,33,1,3,6,7,8,9,3,4,5,6,4,3,21,1,8,6,5,4,7]\n",
        "\n",
        "lista_sem_duplicatas = set(lista_duplicada)\n",
        "lista_sem_duplicatas"
      ],
      "metadata": {
        "colab": {
          "base_uri": "https://localhost:8080/"
        },
        "id": "vb1oo_wahLJp",
        "outputId": "792c485d-1e77-4364-d714-024562131fe4"
      },
      "execution_count": null,
      "outputs": [
        {
          "output_type": "execute_result",
          "data": {
            "text/plain": [
              "{1, 3, 4, 5, 6, 7, 8, 9, 21, 27, 33}"
            ]
          },
          "metadata": {},
          "execution_count": 7
        }
      ]
    },
    {
      "cell_type": "markdown",
      "source": [
        "funcao reduce com lambda "
      ],
      "metadata": {
        "id": "8c_xpgYgk39k"
      }
    },
    {
      "cell_type": "code",
      "source": [
        "from functools import reduce\n",
        "\n",
        "soma = reduce((lambda x,y: x+y), range(9000000))\n",
        "soma"
      ],
      "metadata": {
        "colab": {
          "base_uri": "https://localhost:8080/"
        },
        "id": "yQRo_tp7k8g6",
        "outputId": "ebac4289-7908-480d-8cc9-0cb8a1375f75"
      },
      "execution_count": null,
      "outputs": [
        {
          "output_type": "execute_result",
          "data": {
            "text/plain": [
              "40499995500000"
            ]
          },
          "metadata": {},
          "execution_count": 1
        }
      ]
    },
    {
      "cell_type": "markdown",
      "source": [
        "Determinar o maior numero da lista ou menor"
      ],
      "metadata": {
        "id": "8zzH_xh6yIsh"
      }
    },
    {
      "cell_type": "code",
      "source": [
        "from functools import reduce\n",
        "lista_geral = [1,55,66,8,7,989,56,345,800,2043]\n",
        "\n",
        "reduce(lambda a, b: a if a>b else b, lista_geral)\n"
      ],
      "metadata": {
        "colab": {
          "base_uri": "https://localhost:8080/"
        },
        "id": "gi9pMjukyL9c",
        "outputId": "49664930-e0ff-419b-c55c-4778c20bf557"
      },
      "execution_count": null,
      "outputs": [
        {
          "output_type": "execute_result",
          "data": {
            "text/plain": [
              "2043"
            ]
          },
          "metadata": {},
          "execution_count": 5
        }
      ]
    },
    {
      "cell_type": "markdown",
      "source": [
        "Listas"
      ],
      "metadata": {
        "id": "NOopDkLIKlfC"
      }
    },
    {
      "cell_type": "code",
      "source": [
        "listas= [[1,2,3], [7,4,5], [33,412,6,7,8]]\n",
        "a = listas[1][0]\n",
        "print(a)\n",
        "\n",
        "b = listas[2][1]\n",
        "print(b)\n",
        "\n",
        "lista_geral = [1,55,66,8,7,989,56,345,800,2043]\n",
        "\n",
        "print(7 in lista_geral)\n",
        "\n",
        "lista_geral.append(10)\n",
        "\n",
        "print(lista_geral)\n",
        "\n",
        "max(lista_geral)\n",
        "\n",
        "\n",
        "print('\\n')\n",
        "#lista com string, tupla, dicionario e float\n",
        "print('lista com string, tupla, dicionario e float: \\n'.capitalize())\n",
        "lst = ['String1', (90, 92), {'k1':'v1', 'k2':'v2'}, 99.98]\n",
        "print(lst)"
      ],
      "metadata": {
        "colab": {
          "base_uri": "https://localhost:8080/"
        },
        "id": "xEKTBuftISMn",
        "outputId": "694c67c0-dc45-41e9-d42d-a8f4b366327e"
      },
      "execution_count": null,
      "outputs": [
        {
          "output_type": "stream",
          "name": "stdout",
          "text": [
            "7\n",
            "412\n",
            "True\n",
            "[1, 55, 66, 8, 7, 989, 56, 345, 800, 2043, 10]\n",
            "\n",
            "\n",
            "Lista com string, tupla, dicionario e float: \n",
            "\n",
            "['String1', (90, 92), {'k1': 'v1', 'k2': 'v2'}, 99.98]\n"
          ]
        }
      ]
    },
    {
      "cell_type": "markdown",
      "source": [
        "Dicionario"
      ],
      "metadata": {
        "id": "-pDg2p5dNzG8"
      }
    },
    {
      "cell_type": "code",
      "source": [
        "estudantes = {'pedro':19, 'josue':34, 'sardinha':25, 'marialva':36, 'rafael':12}\n",
        "print(len(estudantes))\n",
        "\n",
        "print(estudantes.keys())\n",
        "print(estudantes.values())\n",
        "\n",
        "\n",
        "\n",
        "print(estudantes.items())\n",
        "\n",
        "estudantes2 = {'suse':25, 'diarora':77, 'vera':87}\n",
        "print(estudantes2)\n",
        "\n",
        "estudantes2.update(estudantes)\n",
        "\n",
        "print('\\ndicionario append')\n",
        "\n",
        "#adicionando um item ao dicionario\n",
        "estudantes2['marilda']= 28\n",
        "print(estudantes2)\n",
        "\n",
        "dic_combustivel = {'gasolina':1 , 'diesel':2, 'alcool':3, 'gas':[4,8]}\n",
        "\n",
        "print(dic_combustivel)\n",
        "\n"
      ],
      "metadata": {
        "colab": {
          "base_uri": "https://localhost:8080/"
        },
        "id": "zlEPHVPYN0xs",
        "outputId": "668c2075-aa35-44ec-c991-71e79f6e5633"
      },
      "execution_count": null,
      "outputs": [
        {
          "output_type": "stream",
          "name": "stdout",
          "text": [
            "5\n",
            "dict_keys(['pedro', 'josue', 'sardinha', 'marialva', 'rafael'])\n",
            "dict_values([19, 34, 25, 36, 12])\n",
            "dict_items([('pedro', 19), ('josue', 34), ('sardinha', 25), ('marialva', 36), ('rafael', 12)])\n",
            "{'suse': 25, 'diarora': 77, 'vera': 87}\n",
            "\n",
            "dicionario append\n",
            "{'suse': 25, 'diarora': 77, 'vera': 87, 'pedro': 19, 'josue': 34, 'sardinha': 25, 'marialva': 36, 'rafael': 12, 'marilda': 28}\n",
            "{'gasolina': 1, 'diesel': 2, 'alcool': 3, 'gas': [4, 8]}\n"
          ]
        }
      ]
    },
    {
      "cell_type": "markdown",
      "source": [
        "Tuplas sao imutaveis"
      ],
      "metadata": {
        "id": "NTK548JPTjak"
      }
    },
    {
      "cell_type": "code",
      "source": [
        "tupla1 = ('cadarço', 77, \"Leão\")\n",
        "\n",
        "print(tupla1)\n",
        "\n",
        "print(tupla1[0])\n",
        "\n",
        "tupla1[:2]\n",
        "\n",
        "tupla1.index(77)\n",
        "\n",
        "#converter tupla para lista:\n",
        "lista = list(tupla1)\n",
        "print(lista)\n",
        "\n",
        "##contagem quantas vezes aparecem o numero 4:\n",
        "t2 = (1, 2, 2, 3, 4, 4, 4, 5)\n",
        "print(t2.count(4))\n"
      ],
      "metadata": {
        "colab": {
          "base_uri": "https://localhost:8080/"
        },
        "id": "FSCBnwtuTmx4",
        "outputId": "70a2a7c4-1021-412a-bbdb-7bcba341cbd5"
      },
      "execution_count": null,
      "outputs": [
        {
          "output_type": "stream",
          "name": "stdout",
          "text": [
            "('cadarço', 77, 'Leão')\n",
            "cadarço\n",
            "['cadarço', 77, 'Leão']\n",
            "3\n"
          ]
        }
      ]
    },
    {
      "cell_type": "markdown",
      "source": [
        "for instruction"
      ],
      "metadata": {
        "id": "MTNkRpfPEKbg"
      }
    },
    {
      "cell_type": "code",
      "source": [
        "for i in \"python\":\n",
        "    if i == \"h\":\n",
        "      continue\n",
        "    print(i)\n"
      ],
      "metadata": {
        "colab": {
          "base_uri": "https://localhost:8080/"
        },
        "id": "Wzwz9aZADoHk",
        "outputId": "fdc82fe1-04de-407f-9633-399f9e525838"
      },
      "execution_count": null,
      "outputs": [
        {
          "output_type": "stream",
          "name": "stdout",
          "text": [
            "p\n",
            "y\n",
            "t\n",
            "o\n",
            "n\n"
          ]
        }
      ]
    },
    {
      "cell_type": "code",
      "source": [
        "a = 0\n",
        "while a < 5:\n",
        "  a+= 1\n",
        "  print(a)\n",
        "\n",
        "\n",
        "  "
      ],
      "metadata": {
        "id": "1Xuo9dftEVt3"
      },
      "execution_count": null,
      "outputs": []
    },
    {
      "cell_type": "code",
      "source": [
        "lista = ['abacate', 'melancia', 'mamao', 'laranja']\n",
        "tamanho = len(lista)\n",
        "for i in range(0, tamanho):\n",
        "  print(lista[i])\n",
        "\n",
        "\n",
        "dir(print)"
      ],
      "metadata": {
        "id": "BwQ5YTNWonGl"
      },
      "execution_count": null,
      "outputs": []
    },
    {
      "cell_type": "markdown",
      "source": [
        "Funcao com numero de argumento variavel:"
      ],
      "metadata": {
        "id": "znSTAL0VxRaA"
      }
    },
    {
      "cell_type": "code",
      "source": [
        "def varInfo(arg, *vartuple):\n",
        "  \n",
        "  for item in vartuple:\n",
        "    print(item)\n",
        "\n",
        "varInfo('colmeia', 'abelha1', 'abelha2', 'abelha3', 'abelha4')\n",
        "\n",
        "varInfo('colmeia')\n",
        "\n",
        "\n",
        "p = lambda x : x%2 ==0\n",
        "print(p(3))\n",
        "\n",
        "primeiraPosicao = lambda s: s[0]\n",
        "primeiraPosicao('x-burguer')"
      ],
      "metadata": {
        "id": "lOKl3u_ZxXie"
      },
      "execution_count": null,
      "outputs": []
    },
    {
      "cell_type": "markdown",
      "source": [
        "Lambda - Convert Celsius para Fahrenheit"
      ],
      "metadata": {
        "id": "uc-ybpGS4JkH"
      }
    },
    {
      "cell_type": "code",
      "source": [
        "Celsius = [39.2, 36.5, 37.3, 37.8]\n",
        "Fahrenheit = map(lambda x: (float(9)/5)*x + 32, Celsius)\n",
        "print (list(Fahrenheit))"
      ],
      "metadata": {
        "id": "BftYXyT64WA_"
      },
      "execution_count": null,
      "outputs": []
    },
    {
      "cell_type": "code",
      "source": [
        "temperatura = 40  \n",
        "while temperatura > 35: \n",
        "    print(temperatura)\n",
        "    temperatura = temperatura - 1\n",
        "\n",
        "\n",
        "#Qual o resultado do código abaixo:\n",
        "listaB = [32,53,85,10,15,17,19]\n",
        "soma = 0\n",
        "for i in listaB:\n",
        "    double_i = i * 2\n",
        "    soma += double_i\n",
        "\n",
        "print(soma)"
      ],
      "metadata": {
        "id": "gZ-9BifA4-jt"
      },
      "execution_count": null,
      "outputs": []
    },
    {
      "cell_type": "markdown",
      "source": [
        "Leitura de arquivo:"
      ],
      "metadata": {
        "id": "rmNGiztf7n4Z"
      }
    },
    {
      "cell_type": "code",
      "source": [
        "arq1 =  open(\"/content/drive/MyDrive/TI/codigos/dados/filmes_name.basics.txt\", \"r\")\n",
        "\n",
        "print(\"\\n.........................\")\n",
        "print(arq1.read(25))\n",
        "arq1.seek(1,0)\n",
        "print(\"\\n.........................\")\n",
        "\n",
        "print(arq1.read())\n",
        "\n",
        "arq1.tell()\n",
        "\n"
      ],
      "metadata": {
        "id": "Jjm_3BdN7rff"
      },
      "execution_count": null,
      "outputs": []
    },
    {
      "cell_type": "markdown",
      "source": [
        "Exemplo Pandas:"
      ],
      "metadata": {
        "id": "HmhzHoSlIuMh"
      }
    },
    {
      "cell_type": "code",
      "source": [
        "import pandas as pd\n",
        "\n",
        "file_name = \"/content/drive/MyDrive/TI/codigos/dados/filmes_principals.csv\"\n",
        "df = pd.read_csv(file_name)\n",
        "\n",
        "df.head()\n",
        "\n"
      ],
      "metadata": {
        "id": "WdDm3ck9IymE"
      },
      "execution_count": null,
      "outputs": []
    },
    {
      "cell_type": "markdown",
      "source": [
        "Gravar em arquivo no Google Drive "
      ],
      "metadata": {
        "id": "V0SmH9laMyi9"
      }
    },
    {
      "cell_type": "code",
      "source": [
        "texto = \"Cientista de dados esta crescendo demais\\n\"\n",
        "texto += \"Esses profissionais precisam aprener a programar, estatistica e Machine Learning\\n\"\n",
        "texto += \"e tambem Big Data\\n\"\n",
        "\n",
        "import os\n",
        "\n",
        "arquivo = open(os.path.join(\"/content/sample_data/gravado_via_python_no_drive.txt\"), \"w\")\n",
        "arq_g_drive = open(os.path.join(\"/content/drive/MyDrive/TI/codigos/dados/dados_g_drive_externo.txt\"), \"w\")\n",
        "\n",
        "for palavra in texto.split():\n",
        "  arq_g_drive.write(palavra + ' ')\n",
        "\n",
        "arq_g_drive.close()\n",
        "\n"
      ],
      "metadata": {
        "id": "ESrCO5wLM05j"
      },
      "execution_count": null,
      "outputs": []
    },
    {
      "cell_type": "code",
      "source": [
        "arq_g_drive = open(\"/content/drive/MyDrive/TI/codigos/dados/dados_g_drive_externo.txt\", \"r\")\n",
        "conteudo = arq_g_drive.read()\n",
        "arq_g_drive.close()\n",
        "\n",
        "print(conteudo)\n"
      ],
      "metadata": {
        "colab": {
          "base_uri": "https://localhost:8080/"
        },
        "id": "qmdnqT7Rc70M",
        "outputId": "71afadf8-1842-4c4f-d9b1-80e5e289dbe7"
      },
      "execution_count": null,
      "outputs": [
        {
          "output_type": "stream",
          "name": "stdout",
          "text": [
            "Cientista de dados esta crescendo demais Esses profissionais precisam aprener a programar, estatistica e Machine Learning e tambem Big Data \n"
          ]
        }
      ]
    },
    {
      "cell_type": "markdown",
      "source": [
        "Dicionario:"
      ],
      "metadata": {
        "id": "z_abMObhjYgg"
      }
    },
    {
      "cell_type": "code",
      "source": [
        "dict = {\n",
        "        'nome':'Guido Van Hossum',\n",
        "    'linguagem':'Python',\n",
        "    'similar' : ['C','modula-3','lisp'],\n",
        "    'users':1000000\n",
        "}\n",
        "\n",
        "for k, v in dict.items():\n",
        "  print(k,v)"
      ],
      "metadata": {
        "colab": {
          "base_uri": "https://localhost:8080/"
        },
        "id": "xKLhqbujjaRv",
        "outputId": "421396ba-5ff7-4ba6-defb-e33691cafd07"
      },
      "execution_count": null,
      "outputs": [
        {
          "output_type": "stream",
          "name": "stdout",
          "text": [
            "nome Guido Van Hossum\n",
            "linguagem Python\n",
            "similar ['C', 'modula-3', 'lisp']\n",
            "users 1000000\n"
          ]
        }
      ]
    },
    {
      "cell_type": "code",
      "source": [
        "import json\n",
        "\n",
        "json.dumps(dict)"
      ],
      "metadata": {
        "colab": {
          "base_uri": "https://localhost:8080/",
          "height": 52
        },
        "id": "4MiqkDjfkVy2",
        "outputId": "96a42219-f433-42f1-bcc5-8c576723e987"
      },
      "execution_count": null,
      "outputs": [
        {
          "output_type": "execute_result",
          "data": {
            "text/plain": [
              "'{\"nome\": \"Guido Van Hossum\", \"linguagem\": \"Python\", \"similar\": [\"C\", \"modula-3\", \"lisp\"], \"users\": 1000000}'"
            ],
            "application/vnd.google.colaboratory.intrinsic+json": {
              "type": "string"
            }
          },
          "metadata": {},
          "execution_count": 35
        }
      ]
    },
    {
      "cell_type": "markdown",
      "source": [
        "Funcao Map - recebe uma funcao como parametro e uma lista ou sequencia."
      ],
      "metadata": {
        "id": "M827Ke8a9Ei6"
      }
    },
    {
      "cell_type": "code",
      "source": [
        "def fahrenheit(T):\n",
        "  return ((float(9/5)*T+32))\n",
        "\n",
        "\n",
        "def celsius(T):\n",
        "  return (float(5/9)* (T-32))    \n",
        "\n",
        "temperaturas = [0, 22.5, 40, 100]\n",
        "\n",
        "list(map(fahrenheit, temperaturas))\n",
        "\n",
        "\n",
        "#Pode-se criar com lambda\n",
        "list(map(lambda x: (5/9) * (x-32), temperaturas))\n"
      ],
      "metadata": {
        "colab": {
          "base_uri": "https://localhost:8080/"
        },
        "id": "2ORhYDF89GfN",
        "outputId": "23b415b6-7336-4854-a259-4cd4c6af84f8"
      },
      "execution_count": null,
      "outputs": [
        {
          "output_type": "execute_result",
          "data": {
            "text/plain": [
              "[57.6, 98.10000000000001, 129.6, 237.6]"
            ]
          },
          "metadata": {},
          "execution_count": 10
        }
      ]
    },
    {
      "cell_type": "markdown",
      "source": [
        "Somando elementos de listas"
      ],
      "metadata": {
        "id": "Ptyp4lvN_88c"
      }
    },
    {
      "cell_type": "code",
      "source": [
        "a = [1, 2, 3, 4]\n",
        "b = [5, 6, 7, 8]\n",
        "c = [2, 3, 4, 5]\n",
        "\n",
        "soma = list(map(lambda a, b, c: a+b+c, a, b, c))\n",
        "print(soma)"
      ],
      "metadata": {
        "colab": {
          "base_uri": "https://localhost:8080/"
        },
        "id": "16Hx2hfP__T3",
        "outputId": "d352695b-efb4-4aac-c8b9-ce731b093386"
      },
      "execution_count": null,
      "outputs": [
        {
          "output_type": "stream",
          "name": "stdout",
          "text": [
            "[8, 11, 14, 17]\n"
          ]
        }
      ]
    },
    {
      "cell_type": "markdown",
      "source": [
        "Funcao Reduce"
      ],
      "metadata": {
        "id": "mLzPIcEFn7r8"
      }
    },
    {
      "cell_type": "code",
      "source": [
        "from functools import reduce\n",
        "\n",
        "def soma(a, b):\n",
        "  return a + b\n",
        "\n",
        "lista = [1111, 2, 45,3, 4, 5, 10]\n",
        "\n",
        "reduce(soma, lista)"
      ],
      "metadata": {
        "colab": {
          "base_uri": "https://localhost:8080/"
        },
        "id": "hzpDUAz9n9ao",
        "outputId": "f319478c-debb-4dae-da76-a22dd056aba7"
      },
      "execution_count": null,
      "outputs": [
        {
          "output_type": "execute_result",
          "data": {
            "text/plain": [
              "1180"
            ]
          },
          "metadata": {},
          "execution_count": 16
        }
      ]
    },
    {
      "cell_type": "markdown",
      "source": [
        "Buscar o maior elemento de uma lista:"
      ],
      "metadata": {
        "id": "bRG5JEp_qtFu"
      }
    },
    {
      "cell_type": "code",
      "source": [
        "\n",
        "reduce(lambda a, b: a+b, lista)\n",
        "\n",
        "resultado_de_busca = lambda a, b: a if (a > b) else b\n",
        "\n",
        "reduce(resultado_de_busca, lista)"
      ],
      "metadata": {
        "colab": {
          "base_uri": "https://localhost:8080/"
        },
        "id": "lnX1NoAMooIn",
        "outputId": "be0dcc42-e24e-4f30-eed8-26c706ca5cab"
      },
      "execution_count": null,
      "outputs": [
        {
          "output_type": "execute_result",
          "data": {
            "text/plain": [
              "1111"
            ]
          },
          "metadata": {},
          "execution_count": 17
        }
      ]
    },
    {
      "cell_type": "markdown",
      "source": [
        "Funcao Filter:"
      ],
      "metadata": {
        "id": "Krq8J-uvbzKx"
      }
    },
    {
      "cell_type": "code",
      "source": [
        "def verificaNumeroPar(num):\n",
        "  if num % 2 == 0:\n",
        "    return True\n",
        "  else:\n",
        "    return False\n",
        "\n",
        "\n",
        "verificaNumeroPar(6)\n",
        "lista = [1,2,3,4,5,6,7,8,9,10,11,12,13,14] \n",
        "\n",
        "list(filter(verificaNumeroPar, lista))\n",
        "\n",
        "list(filter((lambda x: x > 5), lista))\n",
        "\n"
      ],
      "metadata": {
        "colab": {
          "base_uri": "https://localhost:8080/"
        },
        "id": "kIQ8c6Krb1Ej",
        "outputId": "bfe7677e-19f2-4cf8-ff73-ae78bc787358"
      },
      "execution_count": null,
      "outputs": [
        {
          "output_type": "execute_result",
          "data": {
            "text/plain": [
              "[6, 7, 8, 9, 10, 11, 12, 13, 14]"
            ]
          },
          "metadata": {},
          "execution_count": 17
        }
      ]
    },
    {
      "cell_type": "markdown",
      "source": [
        "List Comprehension exemplos:"
      ],
      "metadata": {
        "id": "nwL-1L6RnLws"
      }
    },
    {
      "cell_type": "code",
      "source": [
        "#retorna sequencia de elementos da string\n",
        "lst = [x for x in 'python']\n",
        "\n",
        "print(lst)\n",
        "\n",
        "type(lst)\n",
        "\n",
        "#Retorna o quadrado de cada elemento da sequence\n",
        "lst = [x**2 for x in range(0, 10)]\n",
        "lst\n",
        "\n",
        "\n",
        "#Retorna o quadrado de cada elemento da sequence\n",
        "lst = [x**2 for x in range(0, 10) if x%2 ==0]\n",
        "lst\n",
        "\n",
        "celsius = [0, 10, 25, 40, 100]\n",
        "fahrenheit = [ (( float(9)/5) * temp ) + 32 for temp in celsius]\n",
        "\n",
        "fahrenheit\n",
        "\n",
        "\n"
      ],
      "metadata": {
        "colab": {
          "base_uri": "https://localhost:8080/"
        },
        "id": "pSeikyXfnPzn",
        "outputId": "aa29386f-3f18-4246-a1eb-a24bf1631b3f"
      },
      "execution_count": null,
      "outputs": [
        {
          "output_type": "stream",
          "name": "stdout",
          "text": [
            "['p', 'y', 't', 'h', 'o', 'n']\n"
          ]
        },
        {
          "output_type": "execute_result",
          "data": {
            "text/plain": [
              "[32.0, 50.0, 77.0, 104.0, 212.0]"
            ]
          },
          "metadata": {},
          "execution_count": 32
        }
      ]
    },
    {
      "cell_type": "markdown",
      "source": [
        "Funcao Zip: Faz uniao de duas listas retornando em tupla"
      ],
      "metadata": {
        "id": "PCShsghYqtSw"
      }
    },
    {
      "cell_type": "code",
      "source": [
        "x = [1,2,3]\n",
        "y = [4,5,6,7]\n",
        "\n",
        "list(zip(x,y))\n",
        "\n",
        "list(zip('ABCD', \"yx\"))\n",
        "\n"
      ],
      "metadata": {
        "colab": {
          "base_uri": "https://localhost:8080/"
        },
        "id": "VVXMxk5qqu7y",
        "outputId": "0cd7ee09-680d-48a8-b0f6-f16f6be43e69"
      },
      "execution_count": null,
      "outputs": [
        {
          "output_type": "execute_result",
          "data": {
            "text/plain": [
              "[('A', 'y'), ('B', 'x')]"
            ]
          },
          "metadata": {},
          "execution_count": 37
        }
      ]
    },
    {
      "cell_type": "markdown",
      "source": [
        "Funcao Enumerate: retorna o indice de uma sequencia"
      ],
      "metadata": {
        "id": "FFHaNwJyxF-M"
      }
    },
    {
      "cell_type": "code",
      "source": [
        "l = ['a', 'b', 'c']\n",
        "\n",
        "list(enumerate(l))\n",
        "\n",
        "\n",
        "#Retorna o indice com o elemento.\n",
        "lista = ['agua', 'ar', 'terra', 'fogo']\n",
        "\n",
        "for i, j in enumerate(lista):\n",
        "  print(i,j)\n",
        "\n",
        "print(\"\\n_________________________________\\n\")\n",
        "\n",
        "for i, j in enumerate(\"Isso e uma string\"):\n",
        "  print(i,j)"
      ],
      "metadata": {
        "id": "fSGV-CoexMFF"
      },
      "execution_count": null,
      "outputs": []
    },
    {
      "cell_type": "markdown",
      "source": [
        "Tratamento de erros:"
      ],
      "metadata": {
        "id": "fEVl7DMZ1JGm"
      }
    },
    {
      "cell_type": "code",
      "source": [
        "from typing_extensions import final\n",
        "def ask_int():\n",
        "  while True:\n",
        "    try:\n",
        "      val = int(input('Digite um número.'))\n",
        "    except: \n",
        "      print('Vc não digitou um número')\n",
        "      continue\n",
        "      #val = int(input('Tente novamente Zeruela.'))\n",
        "    else:\n",
        "      print('Obrigado por digitar um número.')\n",
        "      break\n",
        "    finally:\n",
        "      print('Fim da Execução!')\n",
        "\n",
        "\n",
        "ask_int()"
      ],
      "metadata": {
        "id": "5arRNDi41LQQ"
      },
      "execution_count": null,
      "outputs": []
    },
    {
      "cell_type": "markdown",
      "source": [
        "Tratamentod e erro e exceções:"
      ],
      "metadata": {
        "id": "fop6_9a8_E2K"
      }
    },
    {
      "cell_type": "code",
      "source": [
        "tuple(1,2,3,4,5)\n",
        "\n",
        "try:\n",
        "  typle.append(6)\n",
        "except AttributeError as err:\n",
        "  print(err)  \n",
        "    "
      ],
      "metadata": {
        "id": "2Io1DHwt_IcT"
      },
      "execution_count": null,
      "outputs": []
    },
    {
      "cell_type": "markdown",
      "source": [
        "Testes com Unicode:\n"
      ],
      "metadata": {
        "id": "1nRsK8LwVVsy"
      }
    },
    {
      "cell_type": "code",
      "source": [
        "uni = u'\\u001a\\u0bc3\\u1451\\U0001d10c'\n",
        "\n",
        "print(repr(uni))\n",
        "\n",
        "binary = uni.encode(\"utf-8\")\n",
        "\n",
        "#print(repr(uni))\n",
        "print(binary)\n",
        "\n",
        "\n",
        "# Define nossa string Unicode\n",
        "uni = u\"Hello\\u001A\\u0BC3\\u1451\\U0001D10CUnicode\"\n",
        "\n",
        "# UTF-8 e UTF-16 podem codificar completamente qualquer string Unicode\n",
        "print (\"UTF-8\", repr(uni.encode('utf-8')))\n",
        "print (\"UTF-16\", repr(uni.encode('utf-16')))\n",
        "\n",
        "# ASCII pode apenas codificar valore entre 0-127. Abaixo, dizemos ao Python\n",
        "# para trocar caracteres que não podem ser codificados por '?'\n",
        "print (\"ASCII\", uni.encode('ascii','replace'))\n",
        "\n",
        "# ISO-8859-1 é similar ao ASCII\n",
        "print (\"ISO-8859-1\",uni.encode('iso-8859-1','replace'))\n"
      ],
      "metadata": {
        "id": "KYXtlF7UVXby"
      },
      "execution_count": null,
      "outputs": []
    },
    {
      "cell_type": "markdown",
      "source": [
        "Definição de classe:"
      ],
      "metadata": {
        "id": "2Mq8sncDiHP3"
      }
    },
    {
      "cell_type": "code",
      "source": [
        "class Livro():\n",
        "  def __init__(self):\n",
        "\n",
        "    self.titulo = \"Os Segredos da Mente Milionaria\"\n",
        "    self.isbn = \"82347347342\"\n",
        "    print(\"Metodo __init__() é o Construtor da classe.\")\n",
        "\n",
        "\n",
        "  def imprime(self):\n",
        "    print(\"Metodo imprime() dentro da classe.\")\n",
        "    "
      ],
      "metadata": {
        "id": "WPYbYkkPiJI3"
      },
      "execution_count": null,
      "outputs": []
    },
    {
      "cell_type": "code",
      "source": [
        "Livro1 = Livro();\n",
        "\n",
        "print(\"\\n\"+Livro1.titulo);\n",
        "\n",
        "print(Livro1.imprime());"
      ],
      "metadata": {
        "id": "Vhcj1r4biT3B"
      },
      "execution_count": null,
      "outputs": []
    },
    {
      "cell_type": "code",
      "source": [
        "class Livro():\n",
        "  def __init__(self, nome, isbn):\n",
        "    self.titulo = nome\n",
        "    self.isbn = isbn\n",
        "    print(\"Construtor...\")\n",
        "\n",
        "  def imprime(self, nome, isbn):\n",
        "    print(\"Este é o livro s% e ISBN = %d\")\n",
        "  "
      ],
      "metadata": {
        "id": "zP0NtKTRko4L"
      },
      "execution_count": null,
      "outputs": []
    },
    {
      "cell_type": "code",
      "source": [
        "Livro3 = Livro(\"A menina que roubava livros.\", 958575)\n",
        "print(Livro3)\n",
        "\n",
        "print(Livro3.titulo)\n",
        "\n",
        "\n"
      ],
      "metadata": {
        "colab": {
          "base_uri": "https://localhost:8080/"
        },
        "id": "EOW5_qlklhWe",
        "outputId": "d6f4adba-c64e-43ba-e6fa-b65cc3ebb635"
      },
      "execution_count": null,
      "outputs": [
        {
          "output_type": "stream",
          "name": "stdout",
          "text": [
            "Construtor...\n",
            "<__main__.Livro object at 0x7fd9f7ab9610>\n",
            "A menina que roubava livros.\n"
          ]
        }
      ]
    },
    {
      "cell_type": "markdown",
      "source": [
        "Classe e metodos:"
      ],
      "metadata": {
        "id": "Ql8E1yqGfqv7"
      }
    },
    {
      "cell_type": "code",
      "source": [
        "class Circulo():\n",
        "\n",
        "  pi = 3,14\n",
        "  # Quando for instanciado esse metodo sera executado com valor de raio = 5. Construtor com valor default.\n",
        "  def __init__(self, raio=5):\n",
        "    self.raio = raio\n",
        "  \n",
        "  # Self usa os atributos desse mesmo objeto - Circulo.\n",
        "  def area(self):\n",
        "    return (self.raio * self.raio) * Circulo.pi\n",
        "\n",
        "  # Metodo para gerar um novo raio  \n",
        "  def setRaio(self, novo_raio):\n",
        "    self.raio = novo_raio\n",
        "\n",
        "  # Metodo para obter o raio do circulo.\n",
        "  def getRaio(self):\n",
        "    return self.raio\n",
        "\n"
      ],
      "metadata": {
        "id": "21VJBw6TftVk"
      },
      "execution_count": null,
      "outputs": []
    },
    {
      "cell_type": "markdown",
      "source": [
        "Heranca em Python:"
      ],
      "metadata": {
        "id": "ONX2J-s7hz2h"
      }
    },
    {
      "cell_type": "markdown",
      "source": [
        "Metodos Especiais:"
      ],
      "metadata": {
        "id": "PmnGvD6Fx4Ra"
      }
    },
    {
      "cell_type": "code",
      "source": [
        "class Livro():\n",
        "  def __init__(self, titulo, autor, paginas):\n",
        "    print(\"Livro Criado\")\n",
        "    self.titulo = titulo\n",
        "    self.autor = autor\n",
        "    self.paginas = paginas\n",
        "  \n",
        "  def __str__(self):\n",
        "    return \"Titulo %s, autor %s, paginas %s\" %(self.titulo, self.autor, self.paginas)\n",
        "\n",
        "  def __len__(self):\n",
        "    return self.paginas\n",
        "\n",
        "  def len(self):\n",
        "    return print(\"Pagina do livro com metodo comum: \", self.paginas)\n"
      ],
      "metadata": {
        "id": "X6QFDQXIx7te"
      },
      "execution_count": null,
      "outputs": []
    },
    {
      "cell_type": "code",
      "source": [
        "livro1  = Livro(\"Os Lusiadas\", \"Camões\", 317)\n"
      ],
      "metadata": {
        "id": "FMo-yYl4h7Aj",
        "colab": {
          "base_uri": "https://localhost:8080/"
        },
        "outputId": "cb806611-733f-46cb-a064-5251dfda81de"
      },
      "execution_count": null,
      "outputs": [
        {
          "output_type": "stream",
          "name": "stdout",
          "text": [
            "Livro Criado\n"
          ]
        }
      ]
    },
    {
      "cell_type": "code",
      "source": [
        "print(livro1)"
      ],
      "metadata": {
        "colab": {
          "base_uri": "https://localhost:8080/"
        },
        "id": "zYDeyUFDzsxi",
        "outputId": "77b2347f-22d6-4a67-cb63-620a9c51d5ff"
      },
      "execution_count": null,
      "outputs": [
        {
          "output_type": "stream",
          "name": "stdout",
          "text": [
            "Titulo Os Lusiadas, autor Camões, paginas 317\n"
          ]
        }
      ]
    },
    {
      "cell_type": "code",
      "source": [
        "str(livro1)\n"
      ],
      "metadata": {
        "colab": {
          "base_uri": "https://localhost:8080/",
          "height": 35
        },
        "id": "kw6OLT5xzz6K",
        "outputId": "37a483e8-5bae-4c32-f04e-7fb9ce2d51c0"
      },
      "execution_count": null,
      "outputs": [
        {
          "output_type": "execute_result",
          "data": {
            "text/plain": [
              "'Titulo Os Lusiadas, autor Camões, paginas 317'"
            ],
            "application/vnd.google.colaboratory.intrinsic+json": {
              "type": "string"
            }
          },
          "metadata": {},
          "execution_count": 6
        }
      ]
    },
    {
      "cell_type": "code",
      "source": [
        "len(livro1)"
      ],
      "metadata": {
        "colab": {
          "base_uri": "https://localhost:8080/"
        },
        "id": "cLBIK2Mdz6tW",
        "outputId": "5d651efa-d6c8-4581-c943-e39018870bd0"
      },
      "execution_count": null,
      "outputs": [
        {
          "output_type": "execute_result",
          "data": {
            "text/plain": [
              "317"
            ]
          },
          "metadata": {},
          "execution_count": 7
        }
      ]
    },
    {
      "cell_type": "markdown",
      "source": [
        "Jogo da Forca - Hangman"
      ],
      "metadata": {
        "id": "PYDFCMjr3Fc7"
      }
    },
    {
      "cell_type": "code",
      "source": [
        "class Palavras():\n",
        "  def __init__(self):\n",
        "    "
      ],
      "metadata": {
        "id": "tipx7DZp3H3d"
      },
      "execution_count": null,
      "outputs": []
    },
    {
      "cell_type": "markdown",
      "source": [
        "DB connection"
      ],
      "metadata": {
        "id": "ygr_gRURzeqD"
      }
    },
    {
      "cell_type": "code",
      "source": [
        "import sqlite3 \n",
        " \n",
        "conn = sqlite3.connect('db_lite.db')\n",
        "\n",
        "type(conn)\n",
        "\n",
        "cursor = conn.cursor()\n"
      ],
      "metadata": {
        "colab": {
          "base_uri": "https://localhost:8080/"
        },
        "id": "J7ekplF30pkP",
        "outputId": "a3260e17-ab50-4d34-91ed-b18fc486faf0"
      },
      "execution_count": 5,
      "outputs": [
        {
          "output_type": "execute_result",
          "data": {
            "text/plain": [
              "sqlite3.Connection"
            ]
          },
          "metadata": {},
          "execution_count": 5
        }
      ]
    },
    {
      "cell_type": "code",
      "source": [
        "conn.execute('''\n",
        "CREATE TABLE Cursos (\n",
        "   id INTEGER PRIMARY KEY NOT NULL,\n",
        "   titulo NVARCHAR NOT NULL ,\n",
        "   categoria REAL NOT NULL \n",
        " );''')"
      ],
      "metadata": {
        "id": "ZloXDpe8155F"
      },
      "execution_count": null,
      "outputs": []
    }
  ]
}